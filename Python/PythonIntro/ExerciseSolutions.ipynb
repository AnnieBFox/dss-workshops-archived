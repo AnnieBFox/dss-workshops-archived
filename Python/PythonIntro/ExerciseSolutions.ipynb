{
 "cells": [
  {
   "cell_type": "markdown",
   "metadata": {},
   "source": [
    "# Introduction to Python exercise solutions"
   ]
  },
  {
   "cell_type": "markdown",
   "metadata": {},
   "source": [
    "## Exercise: count the number of main characters\n",
    "So far we've learned that there are 12 chapters, around 830 paragraphs, and about 26 thousand words in *Alice's Adventures in Wonderland*. Along the way we've also learned how to open a file and read its contents, split strings,  calculate the length of objects, discover methods for string and list objects, and index/subset lists in Python. Now it is time for you to put these skills to use to learn something about the main characters in the story.\n",
    "\n",
    "NOTE: we have not explicitly demonstrated everything you need to know in order to complete this exercise. Instead we have focused on teaching you how to discover available methods and how use the help function to learn how to use them. It is expected that you will spend some time during this exercise looking for appropriate methods and perhaps reading documentation.\n",
    "\n",
    "*Alice's Adventures in Wonderland* is full of memorable characters. The main characters from the story are listed, one-per-line, in the file named `Characters.txt`."
   ]
  },
  {
   "cell_type": "code",
   "execution_count": 1,
   "metadata": {},
   "outputs": [],
   "source": [
    "# 1. Open the `Characters.txt` file and read its contents.\n",
    "characters_txt = open(\"Characters.txt\").read()"
   ]
  },
  {
   "cell_type": "code",
   "execution_count": 2,
   "metadata": {},
   "outputs": [],
   "source": [
    "# 2. Split text into a list with one element per line and store the result.\n",
    "characters = characters_txt.splitlines()"
   ]
  },
  {
   "cell_type": "code",
   "execution_count": 3,
   "metadata": {},
   "outputs": [
    {
     "name": "stdout",
     "output_type": "stream",
     "text": [
      "21\n"
     ]
    }
   ],
   "source": [
    "# 3. Count the number of characters (i.e., get the length of the list you created in step 2).\n",
    "print(len(characters))"
   ]
  },
  {
   "cell_type": "code",
   "execution_count": 4,
   "metadata": {},
   "outputs": [
    {
     "name": "stdout",
     "output_type": "stream",
     "text": [
      "Alice\n"
     ]
    }
   ],
   "source": [
    "# 4. Extract and print just the first character from the list you created in step 2.\n",
    "print(characters[0])"
   ]
  },
  {
   "cell_type": "code",
   "execution_count": 5,
   "metadata": {},
   "outputs": [
    {
     "data": {
      "text/plain": [
       "'White Rabbit'"
      ]
     },
     "execution_count": 5,
     "metadata": {},
     "output_type": "execute_result"
    }
   ],
   "source": [
    "# 5. (BONUS, optional): Sort the list you created in step 2 alphabetically, and then extract the last element.\n",
    "characters.sort()\n",
    "characters[-1]"
   ]
  },
  {
   "cell_type": "markdown",
   "metadata": {},
   "source": [
    "## Exercise: Iterating and counting things\n",
    "Now that we know how to iterate using for-loops and list comprehensions the possibilities really start to open up. For example, we can use these techniques to count the number of times each character appears in the story."
   ]
  },
  {
   "cell_type": "code",
   "execution_count": 6,
   "metadata": {},
   "outputs": [],
   "source": [
    "# 1. Make sure you have both the text and the list of characters.\n",
    "#\n",
    "# Open and read both \"Alice_in_wonderland.txt\" and\n",
    "# \"Characters.txt\" if you have not already done so.\n",
    "\n",
    "characters_txt = open(\"Characters.txt\").read()\n",
    "alice_txt = open(\"Alice_in_wonderland.txt\").read()\n"
   ]
  },
  {
   "cell_type": "code",
   "execution_count": 7,
   "metadata": {},
   "outputs": [
    {
     "data": {
      "text/plain": [
       "[2184, 2098, 1701, 2614, 2185, 2592, 2286, 2486, 2271, 2028, 1877, 2104]"
      ]
     },
     "execution_count": 7,
     "metadata": {},
     "output_type": "execute_result"
    }
   ],
   "source": [
    "# 2. Which chapter has the most words?\n",
    "#\n",
    "# Split the text into chaptes (i.e., split on \"CHAPTER \")\n",
    "# and use a for-loop or list comprehension to iterate over\n",
    "# the chapters. For each chapter, split it into words and \n",
    "# calculate the length.\n",
    "\n",
    "alice_chapters = alice_txt.split(\"CHAPTER \")[1:]\n",
    "[len(chapter.split()) for chapter in alice_chapters]"
   ]
  },
  {
   "cell_type": "markdown",
   "metadata": {},
   "source": [
    "Chapter 4 has the most words (2614)"
   ]
  },
  {
   "cell_type": "code",
   "execution_count": 8,
   "metadata": {},
   "outputs": [
    {
     "data": {
      "text/plain": [
       "[395, 20, 30, 13, 7, 3, 3, 3, 0, 0, 27, 42, 4, 30, 55, 40, 3, 3, 0, 55, 53]"
      ]
     },
     "execution_count": 8,
     "metadata": {},
     "output_type": "execute_result"
    }
   ],
   "source": [
    "# 3. How many times is each character mentioned in the text?\n",
    "\n",
    "# Iterate over the list of characters using a for-loop or \n",
    "# list comprehension. For each character, call the count method\n",
    "# with that character as the argument.\n",
    "\n",
    "[alice_txt.count(character) \n",
    " for character in characters_txt.splitlines()]"
   ]
  },
  {
   "cell_type": "code",
   "execution_count": 9,
   "metadata": {},
   "outputs": [
    {
     "data": {
      "text/plain": [
       "{'Alice': 395,\n",
       " 'White Rabbit': 20,\n",
       " 'Mouse': 30,\n",
       " 'Dodo': 13,\n",
       " 'Lory': 7,\n",
       " 'Eaglet': 3,\n",
       " 'Duck': 3,\n",
       " 'Pat': 3,\n",
       " 'Bill the Lizard': 0,\n",
       " 'Puppy': 0,\n",
       " 'Caterpillar': 27,\n",
       " 'Duchess': 42,\n",
       " 'Cheshire Cat': 4,\n",
       " 'March Hare': 30,\n",
       " 'Hatter': 55,\n",
       " 'Dormouse': 40,\n",
       " 'Queen of Hearts': 3,\n",
       " 'Knave of Hearts': 3,\n",
       " 'King of Hearts': 0,\n",
       " 'Gryphon': 55,\n",
       " 'Mock Turtle': 53}"
      ]
     },
     "execution_count": 9,
     "metadata": {},
     "output_type": "execute_result"
    }
   ],
   "source": [
    "# 4. (BONUS, optional): Put the character counts computed \n",
    "#    above in a dictionary with character names as the keys and \n",
    "#    counts as the values.\n",
    "\n",
    "characters = characters_txt.splitlines()\n",
    "\n",
    "character_mentions = [alice_txt.count(character) \n",
    "                      for character in characters]\n",
    "\n",
    "dict(zip(characters, character_mentions))"
   ]
  },
  {
   "cell_type": "code",
   "execution_count": 10,
   "metadata": {},
   "outputs": [
    {
     "data": {
      "text/plain": [
       "{'I. Down the Rabbit-Hole': {'Alice': 28,\n",
       "  'White Rabbit': 2,\n",
       "  'Mouse': 0,\n",
       "  'Dodo': 0,\n",
       "  'Lory': 0,\n",
       "  'Eaglet': 0,\n",
       "  'Duck': 0,\n",
       "  'Pat': 0,\n",
       "  'Bill the Lizard': 0,\n",
       "  'Puppy': 0,\n",
       "  'Caterpillar': 0,\n",
       "  'Duchess': 0,\n",
       "  'Cheshire Cat': 0,\n",
       "  'March Hare': 0,\n",
       "  'Hatter': 0,\n",
       "  'Dormouse': 0,\n",
       "  'Queen of Hearts': 0,\n",
       "  'Knave of Hearts': 0,\n",
       "  'King of Hearts': 0,\n",
       "  'Gryphon': 0,\n",
       "  'Mock Turtle': 0},\n",
       " 'II. The Pool of Tears': {'Alice': 24,\n",
       "  'White Rabbit': 0,\n",
       "  'Mouse': 11,\n",
       "  'Dodo': 1,\n",
       "  'Lory': 1,\n",
       "  'Eaglet': 1,\n",
       "  'Duck': 1,\n",
       "  'Pat': 0,\n",
       "  'Bill the Lizard': 0,\n",
       "  'Puppy': 0,\n",
       "  'Caterpillar': 0,\n",
       "  'Duchess': 2,\n",
       "  'Cheshire Cat': 0,\n",
       "  'March Hare': 0,\n",
       "  'Hatter': 0,\n",
       "  'Dormouse': 0,\n",
       "  'Queen of Hearts': 0,\n",
       "  'Knave of Hearts': 0,\n",
       "  'King of Hearts': 0,\n",
       "  'Gryphon': 0,\n",
       "  'Mock Turtle': 0},\n",
       " 'III. A Caucus-Race and a Long Tale': {'Alice': 23,\n",
       "  'White Rabbit': 0,\n",
       "  'Mouse': 18,\n",
       "  'Dodo': 12,\n",
       "  'Lory': 6,\n",
       "  'Eaglet': 2,\n",
       "  'Duck': 2,\n",
       "  'Pat': 0,\n",
       "  'Bill the Lizard': 0,\n",
       "  'Puppy': 0,\n",
       "  'Caterpillar': 0,\n",
       "  'Duchess': 0,\n",
       "  'Cheshire Cat': 0,\n",
       "  'March Hare': 0,\n",
       "  'Hatter': 0,\n",
       "  'Dormouse': 0,\n",
       "  'Queen of Hearts': 0,\n",
       "  'Knave of Hearts': 0,\n",
       "  'King of Hearts': 0,\n",
       "  'Gryphon': 0,\n",
       "  'Mock Turtle': 0},\n",
       " 'IV. The Rabbit Sends in a Little Bill': {'Alice': 31,\n",
       "  'White Rabbit': 1,\n",
       "  'Mouse': 0,\n",
       "  'Dodo': 0,\n",
       "  'Lory': 0,\n",
       "  'Eaglet': 0,\n",
       "  'Duck': 0,\n",
       "  'Pat': 3,\n",
       "  'Bill the Lizard': 0,\n",
       "  'Puppy': 0,\n",
       "  'Caterpillar': 0,\n",
       "  'Duchess': 2,\n",
       "  'Cheshire Cat': 0,\n",
       "  'March Hare': 0,\n",
       "  'Hatter': 0,\n",
       "  'Dormouse': 0,\n",
       "  'Queen of Hearts': 0,\n",
       "  'Knave of Hearts': 0,\n",
       "  'King of Hearts': 0,\n",
       "  'Gryphon': 0,\n",
       "  'Mock Turtle': 0},\n",
       " 'V. Advice from a Caterpillar': {'Alice': 35,\n",
       "  'White Rabbit': 0,\n",
       "  'Mouse': 0,\n",
       "  'Dodo': 0,\n",
       "  'Lory': 0,\n",
       "  'Eaglet': 0,\n",
       "  'Duck': 0,\n",
       "  'Pat': 0,\n",
       "  'Bill the Lizard': 0,\n",
       "  'Puppy': 0,\n",
       "  'Caterpillar': 26,\n",
       "  'Duchess': 0,\n",
       "  'Cheshire Cat': 0,\n",
       "  'March Hare': 0,\n",
       "  'Hatter': 0,\n",
       "  'Dormouse': 0,\n",
       "  'Queen of Hearts': 0,\n",
       "  'Knave of Hearts': 0,\n",
       "  'King of Hearts': 0,\n",
       "  'Gryphon': 0,\n",
       "  'Mock Turtle': 0},\n",
       " 'VI. Pig and Pepper': {'Alice': 43,\n",
       "  'White Rabbit': 0,\n",
       "  'Mouse': 0,\n",
       "  'Dodo': 0,\n",
       "  'Lory': 0,\n",
       "  'Eaglet': 0,\n",
       "  'Duck': 0,\n",
       "  'Pat': 0,\n",
       "  'Bill the Lizard': 0,\n",
       "  'Puppy': 0,\n",
       "  'Caterpillar': 0,\n",
       "  'Duchess': 14,\n",
       "  'Cheshire Cat': 1,\n",
       "  'March Hare': 3,\n",
       "  'Hatter': 2,\n",
       "  'Dormouse': 0,\n",
       "  'Queen of Hearts': 0,\n",
       "  'Knave of Hearts': 0,\n",
       "  'King of Hearts': 0,\n",
       "  'Gryphon': 0,\n",
       "  'Mock Turtle': 0},\n",
       " 'VII. A Mad Tea-Party': {'Alice': 51,\n",
       "  'White Rabbit': 0,\n",
       "  'Mouse': 0,\n",
       "  'Dodo': 0,\n",
       "  'Lory': 0,\n",
       "  'Eaglet': 0,\n",
       "  'Duck': 0,\n",
       "  'Pat': 0,\n",
       "  'Bill the Lizard': 0,\n",
       "  'Puppy': 0,\n",
       "  'Caterpillar': 0,\n",
       "  'Duchess': 0,\n",
       "  'Cheshire Cat': 0,\n",
       "  'March Hare': 21,\n",
       "  'Hatter': 33,\n",
       "  'Dormouse': 27,\n",
       "  'Queen of Hearts': 1,\n",
       "  'Knave of Hearts': 0,\n",
       "  'King of Hearts': 0,\n",
       "  'Gryphon': 0,\n",
       "  'Mock Turtle': 0},\n",
       " \"VIII. The Queen's Croquet-Ground\": {'Alice': 39,\n",
       "  'White Rabbit': 2,\n",
       "  'Mouse': 0,\n",
       "  'Dodo': 0,\n",
       "  'Lory': 0,\n",
       "  'Eaglet': 0,\n",
       "  'Duck': 0,\n",
       "  'Pat': 0,\n",
       "  'Bill the Lizard': 0,\n",
       "  'Puppy': 0,\n",
       "  'Caterpillar': 0,\n",
       "  'Duchess': 3,\n",
       "  'Cheshire Cat': 3,\n",
       "  'March Hare': 0,\n",
       "  'Hatter': 0,\n",
       "  'Dormouse': 0,\n",
       "  'Queen of Hearts': 0,\n",
       "  'Knave of Hearts': 2,\n",
       "  'King of Hearts': 0,\n",
       "  'Gryphon': 0,\n",
       "  'Mock Turtle': 0},\n",
       " \"IX. The Mock Turtle's Story\": {'Alice': 52,\n",
       "  'White Rabbit': 0,\n",
       "  'Mouse': 0,\n",
       "  'Dodo': 0,\n",
       "  'Lory': 0,\n",
       "  'Eaglet': 0,\n",
       "  'Duck': 0,\n",
       "  'Pat': 0,\n",
       "  'Bill the Lizard': 0,\n",
       "  'Puppy': 0,\n",
       "  'Caterpillar': 0,\n",
       "  'Duchess': 19,\n",
       "  'Cheshire Cat': 0,\n",
       "  'March Hare': 0,\n",
       "  'Hatter': 0,\n",
       "  'Dormouse': 0,\n",
       "  'Queen of Hearts': 0,\n",
       "  'Knave of Hearts': 0,\n",
       "  'King of Hearts': 0,\n",
       "  'Gryphon': 20,\n",
       "  'Mock Turtle': 25},\n",
       " 'X. The Lobster Quadrille': {'Alice': 30,\n",
       "  'White Rabbit': 1,\n",
       "  'Mouse': 0,\n",
       "  'Dodo': 0,\n",
       "  'Lory': 0,\n",
       "  'Eaglet': 0,\n",
       "  'Duck': 0,\n",
       "  'Pat': 0,\n",
       "  'Bill the Lizard': 0,\n",
       "  'Puppy': 0,\n",
       "  'Caterpillar': 1,\n",
       "  'Duchess': 0,\n",
       "  'Cheshire Cat': 0,\n",
       "  'March Hare': 0,\n",
       "  'Hatter': 0,\n",
       "  'Dormouse': 0,\n",
       "  'Queen of Hearts': 0,\n",
       "  'Knave of Hearts': 0,\n",
       "  'King of Hearts': 0,\n",
       "  'Gryphon': 31,\n",
       "  'Mock Turtle': 27},\n",
       " 'XI. Who Stole the Tarts?': {'Alice': 16,\n",
       "  'White Rabbit': 7,\n",
       "  'Mouse': 0,\n",
       "  'Dodo': 0,\n",
       "  'Lory': 0,\n",
       "  'Eaglet': 0,\n",
       "  'Duck': 0,\n",
       "  'Pat': 0,\n",
       "  'Bill the Lizard': 0,\n",
       "  'Puppy': 0,\n",
       "  'Caterpillar': 0,\n",
       "  'Duchess': 1,\n",
       "  'Cheshire Cat': 0,\n",
       "  'March Hare': 5,\n",
       "  'Hatter': 20,\n",
       "  'Dormouse': 13,\n",
       "  'Queen of Hearts': 2,\n",
       "  'Knave of Hearts': 1,\n",
       "  'King of Hearts': 0,\n",
       "  'Gryphon': 2,\n",
       "  'Mock Turtle': 0},\n",
       " \"XII. Alice's Evidence\": {'Alice': 23,\n",
       "  'White Rabbit': 7,\n",
       "  'Mouse': 1,\n",
       "  'Dodo': 0,\n",
       "  'Lory': 0,\n",
       "  'Eaglet': 0,\n",
       "  'Duck': 0,\n",
       "  'Pat': 0,\n",
       "  'Bill the Lizard': 0,\n",
       "  'Puppy': 0,\n",
       "  'Caterpillar': 0,\n",
       "  'Duchess': 1,\n",
       "  'Cheshire Cat': 0,\n",
       "  'March Hare': 1,\n",
       "  'Hatter': 0,\n",
       "  'Dormouse': 0,\n",
       "  'Queen of Hearts': 0,\n",
       "  'Knave of Hearts': 0,\n",
       "  'King of Hearts': 0,\n",
       "  'Gryphon': 2,\n",
       "  'Mock Turtle': 1}}"
      ]
     },
     "execution_count": 10,
     "metadata": {},
     "output_type": "execute_result"
    }
   ],
   "source": [
    "# 5. (BONUS, optional): Use a nested for-loop or nested comprehension \n",
    "#    to calculate the number of times each character is mentioned \n",
    "#    in each chapter.\n",
    "\n",
    "{chapter.splitlines()[0]: \n",
    " {character: chapter.count(character) \n",
    "  for character in characters}\n",
    " for chapter in alice_chapters}\n"
   ]
  }
 ],
 "metadata": {
  "kernelspec": {
   "display_name": "Python 3",
   "language": "python",
   "name": "python3"
  },
  "language_info": {
   "codemirror_mode": {
    "name": "ipython",
    "version": 3
   },
   "file_extension": ".py",
   "mimetype": "text/x-python",
   "name": "python",
   "nbconvert_exporter": "python",
   "pygments_lexer": "ipython3",
   "version": "3.7.0"
  },
  "toc": {
   "base_numbering": 1,
   "nav_menu": {},
   "number_sections": true,
   "sideBar": true,
   "skip_h1_title": true,
   "title_cell": "Table of Contents",
   "title_sidebar": "Contents",
   "toc_cell": false,
   "toc_position": {},
   "toc_section_display": true,
   "toc_window_display": true
  }
 },
 "nbformat": 4,
 "nbformat_minor": 2
}
