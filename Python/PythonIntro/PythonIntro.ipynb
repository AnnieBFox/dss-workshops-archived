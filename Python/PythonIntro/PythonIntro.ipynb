{
 "cells": [
  {
   "cell_type": "markdown",
   "metadata": {
    "ein.tags": "worksheet-0",
    "slideshow": {
     "slide_type": "-"
    }
   },
   "source": [
    "# Indroduction to Python\n"
   ]
  },
  {
   "cell_type": "markdown",
   "metadata": {
    "ein.tags": "worksheet-0",
    "slideshow": {
     "slide_type": "-"
    }
   },
   "source": [
    "## Setup instructions\n",
    "\n",
    "###  Install the Anaconda Python distribution\n",
    "If using your own computer please install the Anaconda Python distribution from [https://www.anaconda.com/download/](https://www.anaconda.com/download/). (Note that Python version $\\leq$ 3.0 differs considerably from more recent releases. For this workshop you will need version $\\geq$ 3.4.)\n",
    "\n",
    "Accepting the defaults proposed by the Anaconda installer is generally recommended. However, if it offers to install Microsoft Visual Studio Code you may safely skip this step.\n",
    "\n",
    "### Download workshop materials\n",
    "Download the materials from [http://tutorials.iq.harvard.edu/Python/PythonIntro.zip](http://tutorials.iq.harvard.edu/Python/PythonIntro.zip) and extract the zipped directory (Right-click => Extract All on Windows, double-click on Mac).\n",
    "\n"
   ]
  },
  {
   "cell_type": "markdown",
   "metadata": {
    "ein.tags": "worksheet-0",
    "slideshow": {
     "slide_type": "-"
    }
   },
   "source": [
    "\n",
    "## Workshop goals\n",
    "In this workshop you will\n",
    "- learn about the python package and application ecosystem,\n",
    "- learn python language basics and common idioms and,\n",
    "- practice reading files an manipulating data in python.\n",
    "\n",
    "A more general goal is to get you commfortable with Python so that it seems less scary and mystifying than it perhaps does now. Note that this is by no means a complete or thorough introduction to Python! It's just enough to get by.\n",
    "\n"
   ]
  },
  {
   "cell_type": "markdown",
   "metadata": {
    "ein.tags": "worksheet-0",
    "slideshow": {
     "slide_type": "-"
    }
   },
   "source": [
    "## What is Python?\n",
    "Python is a relatively easy to learn general purpose programming language. People use python to manipulate, analyze, and vizualize data, make web sites, write games, and much more. Youtube, DropBox, and BitTorrent are among the things people used python to make.\n",
    "\n",
    "Like most popular open source programming languages, Python can be thought of as a *platform* that runs a huge number and variety of packages. The language itself is mostly valuable because it makes it relatively easy to create and use a large number of useful packages.\n",
    "\n",
    "## How can I interact with Python?\n",
    "A number of interfaces designed to make it easy to interact with Python are available. The Anaconda distribution that we installed earlier includes both a web-based *Jupyter Notebook* and a more conventional Integrated Development Environment called *Spyder*. For this workshop I encourage you to use *Jupyter Notebook*. In real life you should experiment and choose the interface that you find most comfortable.\n",
    "\n",
    "To get started, start the *Jupyter Notebook* application, and navigate to the *PythonIntro* directory you downloaded and extracted earlier. Start a new notebook by clicking `New => Python 3` as shown below.\n",
    "\n",
    "![notebook_new.png](./img/notebook_new.png)\n",
    "\n",
    "A Jupyter Notebook contains one or more *cells* containing notes or code. To insert a new cell click the `+` button in the upper left. To execute a cell, select it and press `Control+Enter`."
   ]
  },
  {
   "cell_type": "markdown",
   "metadata": {
    "ein.tags": "worksheet-0",
    "slideshow": {
     "slide_type": "-"
    }
   },
   "source": [
    "## Reading text from a file\n",
    "Reading information from a file is the first step in many projects, so we'll start there. The workshop materials you downloaded earlier include a file named `Alice_in_wonderland` which contains the text of Lewis Carroll's *Alice's Adventures in Wonderland\".\n",
    "\n",
    "To make reading this file easier, we're going to use a *Package* from the Python *standard library*. Packages in the standard library are distributed with Python but must be imported before you can use them.\n"
   ]
  },
  {
   "cell_type": "code",
   "execution_count": 5,
   "metadata": {
    "autoscroll": false,
    "ein.hycell": false,
    "ein.tags": "worksheet-0",
    "slideshow": {
     "slide_type": "-"
    }
   },
   "outputs": [],
   "source": [
    "import pathlib"
   ]
  },
  {
   "cell_type": "markdown",
   "metadata": {
    "ein.tags": "worksheet-0",
    "slideshow": {
     "slide_type": "-"
    }
   },
   "source": [
    "The `pathlib.Path` module provides methods for working with paths and files, including a method for reading text from a path. "
   ]
  },
  {
   "cell_type": "code",
   "execution_count": 14,
   "metadata": {
    "autoscroll": false,
    "ein.hycell": false,
    "ein.tags": "worksheet-0",
    "slideshow": {
     "slide_type": "-"
    }
   },
   "outputs": [],
   "source": [
    "alice_txt = pathlib.Path(\"Alice_in_wonderland.txt\").read_text()"
   ]
  },
  {
   "cell_type": "markdown",
   "metadata": {
    "ein.tags": "worksheet-0",
    "slideshow": {
     "slide_type": "-"
    }
   },
   "source": [
    "That's all there is to it! We've read the contents of `Alice_in_wonderland.txt` and stored them in a Python object we named `alice_txt`. Let's start to explore this object, and learn some things about Python along the way."
   ]
  },
  {
   "cell_type": "markdown",
   "metadata": {
    "ein.tags": "worksheet-0",
    "slideshow": {
     "slide_type": "-"
    }
   },
   "source": [
    "## Object types and methods\n",
    "Python objects have a `type`. The `alice_txt` object is of type `str` (i.e., \"string\")."
   ]
  },
  {
   "cell_type": "code",
   "execution_count": 19,
   "metadata": {
    "autoscroll": false,
    "ein.hycell": false,
    "ein.tags": "worksheet-0",
    "slideshow": {
     "slide_type": "-"
    }
   },
   "outputs": [
    {
     "data": {
      "text/plain": [
       "str"
      ]
     },
     "execution_count": 19,
     "metadata": {},
     "output_type": "execute_result"
    }
   ],
   "source": [
    "type(alice_txt)"
   ]
  },
  {
   "cell_type": "markdown",
   "metadata": {
    "ein.tags": "worksheet-0",
    "slideshow": {
     "slide_type": "-"
    }
   },
   "source": [
    "Python contains several other built-in types documented at https://docs.python.org/3/library/stdtypes.html; many others are available in the Python standard library or in third-party packages.\n",
    "\n",
    "In *Jupyter Notebooks* and some other Python interfaces you can see the methods provided by a particular type of object by typing the object's name followed by a `.` and pressing the `tab` key. For example, typing `alice_txt.` and pressing `tab` will show the methods defined for `str` (i.e., string) objects, as shown below.\n",
    "\n",
    "![](./img/notebook_completion.png)"
   ]
  },
  {
   "cell_type": "markdown",
   "metadata": {
    "ein.tags": "worksheet-0",
    "slideshow": {
     "slide_type": "-"
    }
   },
   "source": [
    "Now that we know the names of the methods provided for `str` objects we can use the help system to learn how to use them."
   ]
  },
  {
   "cell_type": "code",
   "execution_count": 21,
   "metadata": {
    "autoscroll": false,
    "ein.hycell": false,
    "ein.tags": "worksheet-0",
    "slideshow": {
     "slide_type": "-"
    }
   },
   "outputs": [
    {
     "name": "stdout",
     "output_type": "stream",
     "text": [
      "Help on built-in function count:\n",
      "\n",
      "count(...) method of builtins.str instance\n",
      "    S.count(sub[, start[, end]]) -> int\n",
      "    \n",
      "    Return the number of non-overlapping occurrences of substring sub in\n",
      "    string S[start:end].  Optional arguments start and end are\n",
      "    interpreted as in slice notation.\n",
      "\n"
     ]
    }
   ],
   "source": [
    "help(alice_txt.count)"
   ]
  },
  {
   "cell_type": "code",
   "execution_count": 23,
   "metadata": {
    "autoscroll": false,
    "ein.hycell": false,
    "ein.tags": "worksheet-0",
    "slideshow": {
     "slide_type": "-"
    }
   },
   "outputs": [
    {
     "data": {
      "text/plain": [
       "398"
      ]
     },
     "execution_count": 23,
     "metadata": {},
     "output_type": "execute_result"
    }
   ],
   "source": [
    "alice_txt.count(\"Alice\")"
   ]
  },
  {
   "cell_type": "code",
   "execution_count": 29,
   "metadata": {
    "autoscroll": false,
    "ein.hycell": false,
    "ein.tags": "worksheet-0",
    "slideshow": {
     "slide_type": "-"
    }
   },
   "outputs": [
    {
     "data": {
      "text/plain": [
       "30"
      ]
     },
     "execution_count": 29,
     "metadata": {},
     "output_type": "execute_result"
    }
   ],
   "source": [
    "alice_txt.count(\"March Hare\")"
   ]
  },
  {
   "cell_type": "markdown",
   "metadata": {},
   "source": [
    "## Functions and operators\n",
    "So far we've learned that *methods* are associated with *types*, and that we can call methods using dot notation. For example, when we ran `alice_txt.count`, the *object* (of class `str`) is `alice_txt`, and we call this object's `count` method with `alice_txt.count()`.\n",
    "\n",
    "In addition to *methods* such as this, there are *functions* and *operators*. Functions are similar to methods, except that they are not associated with an object. Operators are similar to functions but the way we call them is different. These distinctions are more confusing in the abstract then they are in practice; let's look at some examples.\n",
    "\n",
    "If I want to know how many elements are in `alice_txt` I can count them using the `len` function, like this:"
   ]
  },
  {
   "cell_type": "code",
   "execution_count": 8,
   "metadata": {},
   "outputs": [
    {
     "data": {
      "text/plain": [
       "163817"
      ]
     },
     "execution_count": 8,
     "metadata": {},
     "output_type": "execute_result"
    }
   ],
   "source": [
    "len(alice_txt)"
   ]
  },
  {
   "cell_type": "markdown",
   "metadata": {},
   "source": [
    "In other words, `len` is a *function* not a *method*, meaning that we call it like `len(x)` rather than `x.len()`. \n",
    "\n",
    "Built-in functions in Python are listed at https://docs.python.org/3/library/functions.html, but remember that additional functions can be found in the Python standard library and in third-party packages."
   ]
  },
  {
   "cell_type": "markdown",
   "metadata": {},
   "source": [
    "Finally, some things in Python are implemented as operators rather than as methods or functions. For example, if I wish to divide the number of words in `alice_txt` by 10, I do it using the `/` (division) operator, like this:"
   ]
  },
  {
   "cell_type": "code",
   "execution_count": 9,
   "metadata": {},
   "outputs": [
    {
     "data": {
      "text/plain": [
       "16381.7"
      ]
     },
     "execution_count": 9,
     "metadata": {},
     "output_type": "execute_result"
    }
   ],
   "source": [
    "len(alice_txt) / 10"
   ]
  },
  {
   "cell_type": "markdown",
   "metadata": {},
   "source": [
    "### Got all that?\n",
    "Packages and modules, methods and types, functions and operators, Oh My! This certainly got complicated fast!\n",
    "\n",
    "The main point is just that we use different syntax depending on the nature of the implementation. At this point don't worry too much about trying to understand why some things are implemented as functions and others are implemented as methods. Just remember that both implementations exist, so if you don't find a method that does what you want, check to see if there is a function that does it."
   ]
  }
 ],
 "metadata": {
  "kernelspec": {
   "display_name": "Python 3",
   "language": "python",
   "name": "python3"
  },
  "language_info": {
   "codemirror_mode": {
    "name": "ipython",
    "version": 3
   },
   "file_extension": ".py",
   "mimetype": "text/x-python",
   "name": "python",
   "nbconvert_exporter": "python",
   "pygments_lexer": "ipython3",
   "version": "3.7.0"
  },
  "name": "PythonIntro.ipynb"
 },
 "nbformat": 4,
 "nbformat_minor": 2
}
