{
 "cells": [
  {
   "cell_type": "raw",
   "metadata": {},
   "source": [
    "---\n",
    "title: \"Web scraping with Python Exercise Solutions\"\n",
    "always_allow_html: yes\n",
    "output: \n",
    "  html_document:\n",
    "    highlight: tango\n",
    "    toc: true\n",
    "    toc_float:\n",
    "      collapsed: true       \n",
    "---"
   ]
  },
  {
   "cell_type": "markdown",
   "metadata": {},
   "source": [
    "\n",
    "<style type=\"text/css\">\n",
    "pre code {\n",
    "    display: block;\n",
    "    unicode-bidi: embed;\n",
    "    font-family: monospace;\n",
    "    white-space: pre;\n",
    "    max-height: 400px;\n",
    "    overflow-x: scroll;\n",
    "    overflow-y: scroll;\n",
    "    }\n",
    "</style>"
   ]
  },
  {
   "cell_type": "code",
   "execution_count": null,
   "metadata": {
    "hide_input": true,
    "results": "'hide'"
   },
   "outputs": [],
   "source": [
    "## This part is optional; it sets some printing options\n",
    "## that make output look nicer.\n",
    "from pprint import pprint as print\n",
    "import pandas as pd\n",
    "pd.set_option('display.width', 133)\n",
    "pd.set_option('display.max_colwidth', 30)\n",
    "pd.set_option('display.max_columns', 5)"
   ]
  },
  {
   "cell_type": "markdown",
   "metadata": {},
   "source": [
    "## Exercise: Retrieve exhibits data\n",
    "In this exercise you will retrieve information about the art\n",
    "collections at Harvard Art Museums from\n",
    "`https://www.harvardartmuseums.org/collections`\n",
    "\n",
    "1. Using a web browser (Firefox or Chrome recommended) inspect the\n",
    "   page at `https://www.harvardartmuseums.org/collections`. Examine\n",
    "   the network traffic as you interact with the page. Try to find\n",
    "   where the data displayed on that page comes from.\n"
   ]
  },
  {
   "cell_type": "markdown",
   "metadata": {},
   "source": [
    "Looking at \n",
    "\n",
    "![](./img/ex1_network.png)\n",
    "\n",
    "I see promising requests to\n",
    "<https://www.harvardartmuseums.org/browse?load_amount=12&offset=24>\n",
    "\n",
    "2. Make a `get` request in Python to retrieve the data from the URL\n",
    "   identified in step1."
   ]
  },
  {
   "cell_type": "code",
   "execution_count": null,
   "metadata": {},
   "outputs": [],
   "source": [
    "import requests\n",
    "\n",
    "museum_url = 'https://www.harvardartmuseums.org'\n",
    "museum_collection = '/browse?load_amount=12'\n",
    "\n",
    "collections0 = requests.get(museum_url\n",
    "                            + museum_collection\n",
    "                            + '&offset=0').json()\n"
   ]
  },
  {
   "cell_type": "code",
   "execution_count": null,
   "metadata": {},
   "outputs": [],
   "source": [
    "print(collections0['info'])"
   ]
  },
  {
   "cell_type": "code",
   "execution_count": null,
   "metadata": {},
   "outputs": [],
   "source": [
    "print(collections0['records'])"
   ]
  },
  {
   "cell_type": "markdown",
   "metadata": {},
   "source": [
    "3. Write a *loop* or *list comprehension* in Python to retrieve data\n",
    "   for the first 5 pages of collections data."
   ]
  },
  {
   "cell_type": "code",
   "execution_count": null,
   "metadata": {},
   "outputs": [],
   "source": [
    "collections = [requests.get(museum_url\n",
    "                            + museum_collection\n",
    "                            + '&offset='\n",
    "                            + str(i)).json()\n",
    "               for i in range(5)]\n",
    "print(collections)"
   ]
  },
  {
   "cell_type": "markdown",
   "metadata": {},
   "source": [
    "4. Bonus (optional): Arrange the data you retrieved into dict of\n",
    "   lists. Convert it to a pandas `DataFrame` and save it to a `.csv`\n",
    "   file."
   ]
  },
  {
   "cell_type": "code",
   "execution_count": null,
   "metadata": {
    "lines_to_next_cell": 2
   },
   "outputs": [],
   "source": [
    "collection_records = []\n",
    "for collection in collections:\n",
    "    collection_records += collection['records']\n",
    "\n",
    "col_keys = []\n",
    "for collection in collection_records:\n",
    "    col_keys += list(collection.keys())\n",
    "col_keys = set(col_keys)\n",
    "\n",
    "collections_data = {k: [collection.get(k, \"NA\")\n",
    "                        for collection in collection_records]\n",
    "                    for k in col_keys}\n",
    "\n",
    "import pandas\n",
    "\n",
    "collections_data = pandas.DataFrame.from_dict(collections_data)\n",
    "collections_data.to_csv('collections.csv')\n",
    "\n",
    "print(collections_data)"
   ]
  },
  {
   "cell_type": "markdown",
   "metadata": {},
   "source": [
    "## Exercise: parsing HTML\n",
    "In this exercise you will retrieve information about the physical\n",
    "layout of the Harvard Art Museums. The web page at\n",
    "<https://www.harvardartmuseums.org/visit/floor-plan> contains this\n",
    "information in HTML from.\n",
    "\n",
    "1. Using a web browser (Firefox or Chrome recommended) inspect the\n",
    "   page at `https://www.harvardartmuseums.org/visit/floor-plan`. Copy\n",
    "   the `XPath` to the element containing list of facilities located on\n",
    "   **level 1**. information. (HINT: the element if interest is a `ul`,\n",
    "   i.e., an \"unordered list\" of class `ifp-floors__rooms`.)\n",
    "   \n",
    "   ![](./img/ex2_ul.png)\n",
    "   \n",
    "2. Make a `get` request in Python to retrieve the web page at\n",
    "   <https://www.harvardartmuseums.org/visit/floor-plan>. Extract the\n",
    "   content from your request object and parse it using `html.fromstring`\n",
    "   from the `lxml` library."
   ]
  },
  {
   "cell_type": "code",
   "execution_count": 4,
   "metadata": {},
   "outputs": [],
   "source": [
    "from lxml import html\n",
    "\n",
    "floor_plan = requests.get('https://www.harvardartmuseums.org/visit/floor-plan')\n",
    "\n",
    "floor_plan_html = html.fromstring(floor_plan.text)"
   ]
  },
  {
   "cell_type": "markdown",
   "metadata": {},
   "source": [
    "3. Use the `XPath` you identified in step one to select the HTML list item\n",
    "   containing level one information."
   ]
  },
  {
   "cell_type": "code",
   "execution_count": 5,
   "metadata": {},
   "outputs": [],
   "source": [
    "level_one = floor_plan_html.xpath('/html/body/main/section/ul/li[5]/div[2]/ul')[0]"
   ]
  },
  {
   "cell_type": "markdown",
   "metadata": {},
   "source": [
    "4. Use a *for loop* or *list comprehension* to iterate over the\n",
    "   sub-elements of the list item you selected in the previous step and\n",
    "   extract the text from each one."
   ]
  },
  {
   "cell_type": "code",
   "execution_count": 6,
   "metadata": {},
   "outputs": [
    {
     "name": "stdout",
     "output_type": "stream",
     "text": [
      "['Admissions', 'Collection Galleries', 'Courtyard', 'Shop', 'Café', 'Coatroom']\n"
     ]
    }
   ],
   "source": [
    "print([element.text_content() for element in level_one])"
   ]
  },
  {
   "cell_type": "markdown",
   "metadata": {},
   "source": [
    "5. Bonus (optional): Extract the list of facilities available on each level."
   ]
  },
  {
   "cell_type": "code",
   "execution_count": 7,
   "metadata": {},
   "outputs": [
    {
     "name": "stdout",
     "output_type": "stream",
     "text": [
      "[['Conservation Center / Lightbox Gallery'], ['Art Study Center'], ['Collection Galleries', 'Special Exhibitions Gallery', 'University Galleries'], ['Collections Galleries'], ['Admissions', 'Collection Galleries', 'Courtyard', 'Shop', 'Café', 'Coatroom'], ['Lower Lobby', 'Lecture Halls', 'Seminar Room', 'Materials Lab', 'Coatroom', 'Offices']]\n"
     ]
    }
   ],
   "source": [
    "level_html = floor_plan_html.xpath('/html/body/main/section/ul/li')\n",
    "\n",
    "level_info = [[element.text_content()\n",
    "               for element in level.xpath('div[2]/ul')[0]]\n",
    "              for level in level_html]\n",
    "\n",
    "print(level_info)"
   ]
  }
 ],
 "metadata": {
  "jupytext_formats": "ipynb,Rmd:rmarkdown,py,md:markdown",
  "kernelspec": {
   "display_name": "Python 3",
   "language": "python",
   "name": "python3"
  },
  "language_info": {
   "codemirror_mode": {
    "name": "ipython",
    "version": 3
   },
   "file_extension": ".py",
   "mimetype": "text/x-python",
   "name": "python",
   "nbconvert_exporter": "python",
   "pygments_lexer": "ipython3",
   "version": "3.7.0"
  },
  "toc": {
   "base_numbering": 1,
   "nav_menu": {},
   "number_sections": true,
   "sideBar": true,
   "skip_h1_title": true,
   "title_cell": "Table of Contents",
   "title_sidebar": "Contents",
   "toc_cell": false,
   "toc_position": {},
   "toc_section_display": true,
   "toc_window_display": true
  }
 },
 "nbformat": 4,
 "nbformat_minor": 2
}
