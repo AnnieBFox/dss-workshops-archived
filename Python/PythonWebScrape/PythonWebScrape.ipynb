{
 "cells": [
  {
   "cell_type": "markdown",
   "metadata": {
    "ein.tags": "worksheet-0",
    "slideshow": {
     "slide_type": "-"
    }
   },
   "source": [
    "# Web scraping with Python\n"
   ]
  },
  {
   "cell_type": "markdown",
   "metadata": {
    "ein.tags": "worksheet-0",
    "slideshow": {
     "slide_type": "-"
    }
   },
   "source": [
    "## Setup instructions\n",
    "\n",
    "###  Install the Anaconda Python distribution\n",
    "If using your own computer please install the Anaconda Python distribution from [https://www.anaconda.com/download/](https://www.anaconda.com/download/). (Note that Python version $\\leq$ 3.0 differs considerably from more recent releases. For this workshop you will need version $\\geq$ 3.4.)\n",
    "\n",
    "Accepting the defaults proposed by the Anaconda installer is generally recommended. However, if it offers to install Microsoft Visual Studio Code you may safely skip this step.\n",
    "\n",
    "### Download workshop materials\n",
    "Download the materials from [http://tutorials.iq.harvard.edu/Python/PythonWebScrape.zip](http://tutorials.iq.harvard.edu/Python/PythonWebScrape.zip) and extract the zipped directory (Right-click => Extract All on Windows, double-click on Mac).\n",
    "\n"
   ]
  },
  {
   "cell_type": "markdown",
   "metadata": {
    "ein.tags": "worksheet-0",
    "slideshow": {
     "slide_type": "-"
    }
   },
   "source": [
    "\n",
    "## Workshop goals and approach\n",
    "In this workshop you will\n",
    "- learn basic web scraping principles and techniques,\n",
    "- learn how to use the requests package in Python,\n",
    "- practice making requests and manipulating responses from the server.\n",
    "\n",
    "This workshop is relatively *informal*, *example-oriented*, and *hands-on*. We will learn by working through an example web scraping project. Specifically, we will use python to retrieve information about all the people affiliated with the Institute for Quantitative Social Science (IQSS) at Harvard."
   ]
  },
  {
   "cell_type": "markdown",
   "metadata": {
    "ein.tags": "worksheet-0",
    "slideshow": {
     "slide_type": "-"
    }
   },
   "source": [
    "## Preliminary questions\n",
    "\n",
    "### What is web scraping?\n",
    "Web scraping the activity of automating retrieval of information from a web service designed for human interaction.\n",
    "\n",
    "\n",
    "### Is web scraping legal? Is it ethical?\n",
    "It depends. If you have legal questions seek legal counsel. You can mitigate ethical issues by building delays and restrictions into your web scraping program so as to avoid impacting the availability of the web service for other users or the cost of hosting the service for the service provider.\n",
    " "
   ]
  },
  {
   "cell_type": "markdown",
   "metadata": {
    "ein.tags": "worksheet-0",
    "slideshow": {
     "slide_type": "-"
    }
   },
   "source": [
    "## Example project overview and goals\n",
    "I would like to know what time of day events at the Harvard Art Museums are held. Are more events held in the morning? Afternoon? Late in the evening? I don't know but I'm determined to find out. I can do that by scraping the page at <https://www.harvardartmuseums.org/visit/calendar>.\n",
    "\n",
    "The basic strategy is pretty much the same for most scraping projects. We will use our web browser (Chrome or Firefox recommended) to examin the page you wish to retrieve data from, and copy/paste information from your web browser into your scraping program.\n",
    "\n",
    "In this workshop I will demonstrate web scraping techniques using the Exhibitions page at <https://www.harvardartmuseums.org/visit/exhibitions> and let you use the skills you'll learn to retrieve event times from <https://www.harvardartmuseums.org/visit/calendar>"
   ]
  },
  {
   "cell_type": "markdown",
   "metadata": {
    "ein.tags": "worksheet-0",
    "slideshow": {
     "slide_type": "-"
    }
   },
   "source": [
    "## Examining the structure of our target web service\n",
    "We wish to extract information from <https://www.harvardartmuseums.org/visit/exhibitions>. Like most modern web pages, a lot goes on behind the scenes to produce the page we see in our browser. Our goal is to pull back the curtain to see what the website does when we interact with it. Once we see how the website works we can often grab the data we want directly.\n",
    "\n",
    "We start by opening that page in a web browser and inspecting it.\n",
    "\n",
    "![dev_tools](img/dev_tools.png)\n",
    "\n",
    "![dev_tools](img/dev_tools_pane.png)\n",
    "\n",
    "If we scroll down to the bottom of the Exhibitions page, we'll see a button that says \"Load More Exhibitions\". Let's see what happens when we click on that button.To do so, click on \"Network\" in the developer tools window,then click the button. You should see a list of requests that were made as a result of clicking that button, as shown below.\n",
    "\n",
    "![dev_tools](img/dev_tools_network.png)\n",
    "\n",
    "If we look at that second request, the one that to `load_next`, we'll see that it returns all the information we need, in a convenient format called `JSON`. All we need to retrieve exhibition data is call make `GET` requests to <https://www.harvardartmuseums.org/search/load_next> with the correct parameters. For example, we can retrieve the first set of exhibitions in Python as follows:\n"
   ]
  },
  {
   "cell_type": "code",
   "execution_count": 5,
   "metadata": {
    "autoscroll": false,
    "ein.hycell": false,
    "ein.tags": "worksheet-0",
    "slideshow": {
     "slide_type": "-"
    }
   },
   "outputs": [],
   "source": [
    "import requests\n",
    "from lxml import html"
   ]
  },
  {
   "cell_type": "code",
   "execution_count": 6,
   "metadata": {
    "autoscroll": false,
    "ein.hycell": false,
    "ein.tags": "worksheet-0",
    "slideshow": {
     "slide_type": "-"
    }
   },
   "outputs": [],
   "source": [
    "exhibitions0 = requests.get('https://www.harvardartmuseums.org/search/load_next?type=past-exhibition&year=&page=0').json()"
   ]
  },
  {
   "cell_type": "code",
   "execution_count": 14,
   "metadata": {
    "autoscroll": false,
    "ein.hycell": false,
    "ein.tags": "worksheet-0",
    "slideshow": {
     "slide_type": "-"
    }
   },
   "outputs": [
    {
     "data": {
      "text/plain": [
       "{'primaryimageurl': 'https://nrs.harvard.edu/urn-3:HUAM:GS010411', 'videos': [{'primaryurl': 'https://vimeo.com/277511290', 'description': 'Marina Isgro, the Nam June Paik Research Fellow at the Harvard Art Museums, introduces the museums’ new exhibition, “Nam June Paik: Screen Play,” on view from June 30 to August 5, 2018. Drawn almost entirely from our collections, the exhibition reveals the breadth of this groundbreaking global artist’s oeuvre from the 1960s through early 2000s.\\r\\n\\r\\nMusic by Chris Zabriskie (CC BY 4.0 creativecommons.org/licenses/by/4.0/legalcode)', 'videoid': 489238}], 'textiledescription': '<i>Nam June Paik: Screen Play</i> presents a group of works by groundbreaking global artist Nam June Paik (1932–2006). Paik was born in Korea but spent much of his life in the United States; his practice combined music, performance, sculpture, painting and drawing, video, and broadcast television, among other media. \\r\\n\\r\\nDrawn almost entirely from the Harvard Art Museums collections, the exhibition reveals the striking breadth of Paik’s oeuvre from the 1960s through early 2000s. Eight of the works featured are recent gifts from Ken Hakuta (M.B.A. ’77), the artist’s nephew; he has generously established the Nam June Paik Fellowship to expand knowledge about the artist, his work, and his influences. The objects on view—many of which are being exhibited at the museums for the first time—include <i><a href=\"https://www.harvardartmuseums.org/collections/object/358178\" target=\"_blank\">TV Crown</a></i> (1965/99), a television modified to visualize sound waves on its screen, and an iconic <i><a href=\"https://www.harvardartmuseums.org/collections/object/358175\" target=\"_blank\">TV Buddha</a></i> (2004), part of the artist’s exploration of closed-circuit television. Together, they represent themes central to Paik’s work, including the subversion of conventional technologies and media, the potential of moving images to explore alternative temporalities, and technology’s concern with aging and obsolescence. The works also demonstrate Paik’s playful, often ironic approach.\\r\\n\\r\\nIn addition, the exhibition draws attention to Paik’s enduring interest in artistic collaboration, from his early association with John Cage and others active in the postwar avant-garde music scene to his lifelong friendships with Charlotte Moorman and Joseph Beuys. Several works on view relate directly to the artist’s involvement with the Fluxus group, whose interest in revolutionizing artistic distribution had a lasting influence on Paik’s thinking. The exhibition also features two videos that the artist made in conjunction with WGBH, Boston’s public television station, where he developed some of his most important projects in the late 1960s and early ’70s.\\r\\n\\r\\nCurated by Mary Schneider Enriquez, Houghton Associate Curator of Modern and Contemporary Art, and Marina Isgro, Nam June Paik Research Fellow, Harvard Art Museums.\\r\\n\\r\\nSupport for this project was provided by the Rosenblatt Fund for Post-War American Art, the José Soriano Fund, the Agnes Gund Fund for Modern and Contemporary Art, and the M. Victor Leventritt Fund. In addition, modern and contemporary art programs at the Harvard Art Museums are made possible in part by generous support from the Emily Rauh Pulitzer and Joseph Pulitzer, Jr., Fund for Modern and Contemporary Art.\\r\\n\\r\\nShare your experience on social media: *#NamJunePaik #HarvardArtMuseums*', 'venues': [{'ishamvenue': 1, 'galleries': [{'gallerynumber': '3500', 'floor': 3, 'name': 'Special Exhibitions Gallery', 'galleryid': 3500}], 'zipcode': '02138', 'state': 'MA', 'address1': '32 Quincy St.', 'address2': None, 'city': 'Cambridge', 'country': None, 'name': 'Harvard Art Museums', 'venueid': 55780, 'enddate': '2018-08-05', 'begindate': '2018-06-30', 'fullname': 'Harvard Art Museums'}], 'shortdescription': None, 'people': [{'personid': 55547, 'name': 'Mary Schneider Enriquez', 'prefix': 'Curated by', 'role': 'Curator', 'displayorder': 1, 'displayname': 'Curated by Mary Schneider Enriquez'}], 'url': 'https://www.harvardartmuseums.org/visit/exhibitions/5668/nam-june-paik-screen-play', 'id': 5668, 'lastupdate': '2018-09-04T03:21:36-0400', 'title': 'Nam June Paik: Screen Play', 'temporalorder': 4479, 'exhibitionid': 5668, 'color': None, 'description': None, 'poster': {'caption': 'Nam June Paik, Untitled, 1993–95. Laser print on canvas with Sony Watchman TV, tin robot, acrylic paint, and oil pastel. Source photograph by Peter Moore. Harvard Art Museums/Fogg Museum, Gift of the Hakuta Family, 2017.154. © Nam June Paik Estate.', 'imageurl': 'https://nrs.harvard.edu/urn-3:HUAM:GS010411'}, 'images': [{'iiifbaseuri': 'https://ids.lib.harvard.edu/ids/iiif/450161016', 'height': 2550, 'baseimageurl': 'https://nrs.harvard.edu/urn-3:HUAM:GS010411', 'width': 1390, 'caption': 'Nam June Paik, Untitled, 1993–95. Laser print on canvas with Sony Watchman TV, tin robot, acrylic paint, and oil pastel. Source photograph by Peter Moore. Harvard Art Museums/Fogg Museum, Gift of the Hakuta Family, 2017.154. © Nam June Paik Estate.', 'displayorder': 1, 'idsid': 450161016, 'copyright': 'President and Fellows of Harvard College', 'format': 'image/jpeg', 'imageid': 489624, 'renditionnumber': 'GS010411'}], 'enddate': '2018-08-05', 'begindate': '2018-06-30'}"
      ]
     },
     "execution_count": 14,
     "metadata": {},
     "output_type": "execute_result"
    }
   ],
   "source": [
    "exhibitions0[\"records\"][0]"
   ]
  },
  {
   "cell_type": "code",
   "execution_count": 17,
   "metadata": {
    "autoscroll": false,
    "ein.hycell": false,
    "ein.tags": "worksheet-0",
    "slideshow": {
     "slide_type": "-"
    }
   },
   "outputs": [
    {
     "data": {
      "text/plain": [
       "dict_keys(['primaryimageurl', 'videos', 'textiledescription', 'venues', 'shortdescription', 'people', 'url', 'id', 'lastupdate', 'title', 'temporalorder', 'exhibitionid', 'color', 'description', 'poster', 'images', 'enddate', 'begindate'])"
      ]
     },
     "execution_count": 17,
     "metadata": {},
     "output_type": "execute_result"
    }
   ],
   "source": [
    "exhibitions0[\"records\"][0].keys()"
   ]
  },
  {
   "cell_type": "code",
   "execution_count": 20,
   "metadata": {
    "autoscroll": false,
    "ein.hycell": false,
    "ein.tags": "worksheet-0",
    "slideshow": {
     "slide_type": "-"
    }
   },
   "outputs": [
    {
     "data": {
      "text/plain": [
       "[{'title': 'Nam June Paik: Screen Play', 'start': '2018-06-30', 'end': '2018-08-05'}, {'title': 'A.K. Burns: Survivor’s Remorse', 'start': '2018-05-19', 'end': '2018-08-14'}, {'title': 'Analog Culture: Printer’s Proofs from the Schneider/Erdman Photography Lab, 1981–2001', 'start': '2018-05-19', 'end': '2018-08-12'}, {'title': 'Inventur—Art in Germany, 1943–55', 'start': '2018-02-09', 'end': '2018-06-03'}, {'title': 'JODI: OXO', 'start': '2018-02-07', 'end': '2018-04-23'}, {'title': 'Looking Back: The Western Tradition in Retrospect', 'start': '2018-01-20', 'end': '2018-05-06'}, {'title': 'Fernando Bryce: The Book of Needs', 'start': '2018-01-20', 'end': '2018-05-06'}, {'title': 'Rome: Eternal City', 'start': '2018-01-20', 'end': '2018-05-06'}, {'title': 'No More, America', 'start': '2017-09-27', 'end': '2017-12-31'}, {'title': 'The Art of Drawing in the Early Dutch Golden Age, 1590–1630: Selected Works from the Abrams Collection', 'start': '2017-09-09', 'end': '2018-01-14'}]"
      ]
     },
     "execution_count": 20,
     "metadata": {},
     "output_type": "execute_result"
    }
   ],
   "source": [
    "[{'title': x['title'], 'start': x['begindate'], 'end': x['enddate']} for x in  exhibitions0[\"records\"]]"
   ]
  }
 ],
 "metadata": {
  "kernelspec": {
   "display_name": "Python 3",
   "language": "python",
   "name": "python3"
  },
  "language_info": {
   "codemirror_mode": {
    "name": "ipython",
    "version": 3
   },
   "file_extension": ".py",
   "mimetype": "text/x-python",
   "name": "python",
   "nbconvert_exporter": "python",
   "pygments_lexer": "ipython3",
   "version": "3.7.0"
  },
  "name": "PythonWebScrape.ipynb",
  "toc": {
   "base_numbering": "1",
   "nav_menu": {
    "height": "542px",
    "width": "461px"
   },
   "number_sections": true,
   "sideBar": true,
   "skip_h1_title": true,
   "title_cell": "Table of Contents",
   "title_sidebar": "Contents",
   "toc_cell": false,
   "toc_position": null,
   "toc_section_display": true,
   "toc_window_display": true
  }
 },
 "nbformat": 4,
 "nbformat_minor": 2
}
