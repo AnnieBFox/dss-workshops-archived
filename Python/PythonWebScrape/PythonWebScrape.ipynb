{
 "cells": [
  {
   "cell_type": "markdown",
   "metadata": {
    "ein.tags": "worksheet-0",
    "slideshow": {
     "slide_type": "-"
    }
   },
   "source": [
    "# Web scraping with Python\n"
   ]
  },
  {
   "cell_type": "markdown",
   "metadata": {
    "ein.tags": "worksheet-0",
    "slideshow": {
     "slide_type": "-"
    }
   },
   "source": [
    "## Setup instructions\n",
    "\n",
    "###  Install the Anaconda Python distribution\n",
    "If using your own computer please install the Anaconda Python distribution from [https://www.anaconda.com/download/](https://www.anaconda.com/download/). (Note that Python version $\\leq$ 3.0 differs considerably from more recent releases. For this workshop you will need version $\\geq$ 3.4.)\n",
    "\n",
    "Accepting the defaults proposed by the Anaconda installer is generally recommended. However, if it offers to install Microsoft Visual Studio Code you may safely skip this step.\n",
    "\n",
    "### Download workshop materials\n",
    "Download the materials from [http://tutorials.iq.harvard.edu/Python/PythonWebScrape.zip](http://tutorials.iq.harvard.edu/Python/PythonWebScrape.zip) and extract the zipped directory (Right-click => Extract All on Windows, double-click on Mac).\n",
    "\n"
   ]
  },
  {
   "cell_type": "markdown",
   "metadata": {
    "ein.tags": "worksheet-0",
    "slideshow": {
     "slide_type": "-"
    }
   },
   "source": [
    "\n",
    "## Workshop goals and approach\n",
    "In this workshop you will\n",
    "- learn basic web scraping principles and techniques,\n",
    "- learn how to use the requests package in Python,\n",
    "- practice making requests and manipulating responses from the server.\n",
    "\n",
    "This workshop is relatively *informal*, *example-oriented*, and *hands-on*. We will learn by working through an example web scraping project. Specifically, we will use python to retrieve information about all the people affiliated with the Institute for Quantitative Social Science (IQSS) at Harvard."
   ]
  },
  {
   "cell_type": "markdown",
   "metadata": {
    "ein.tags": "worksheet-0",
    "slideshow": {
     "slide_type": "-"
    }
   },
   "source": [
    "## Preliminary questions\n",
    "\n",
    "### What is web scraping?\n",
    "Web scraping the activity of automating retrieval of information from a web service designed for human interaction.\n",
    "\n",
    "\n",
    "### Is web scraping legal? Is it ethical?\n",
    "It depends. If you have legal questions seek legal counsel. You can mitigate ethical issues by building delays and restrictions into your web scraping program so as to avoid impacting the availability of the web service for other users or the cost of hosting the service for the service provider.\n",
    " "
   ]
  },
  {
   "cell_type": "markdown",
   "metadata": {
    "ein.tags": "worksheet-0",
    "slideshow": {
     "slide_type": "-"
    }
   },
   "source": [
    "## Examining the structure of our target web service\n",
    "We wish to extract information from https://www.iq.harvard.edu/people. We start by opening that page in a web browser and inspect it."
   ]
  },
  {
   "cell_type": "code",
   "execution_count": 1,
   "metadata": {
    "autoscroll": false,
    "ein.hycell": false,
    "ein.tags": "worksheet-0",
    "slideshow": {
     "slide_type": "-"
    }
   },
   "outputs": [],
   "source": [
    "import requests\n",
    "from lxml import html\n",
    "\n"
   ]
  },
  {
   "cell_type": "code",
   "execution_count": 5,
   "metadata": {},
   "outputs": [],
   "source": [
    "people = requests.get('https://www.iq.harvard.edu/people')"
   ]
  },
  {
   "cell_type": "code",
   "execution_count": 6,
   "metadata": {},
   "outputs": [],
   "source": [
    "people_tree = html.fromstring(people.text)"
   ]
  }
 ],
 "metadata": {
  "kernelspec": {
   "display_name": "Python 3",
   "language": "python",
   "name": "python3"
  },
  "language_info": {
   "codemirror_mode": {
    "name": "ipython",
    "version": 3
   },
   "file_extension": ".py",
   "mimetype": "text/x-python",
   "name": "python",
   "nbconvert_exporter": "python",
   "pygments_lexer": "ipython3",
   "version": "3.7.0"
  },
  "name": "PythonIntro.ipynb",
  "toc": {
   "base_numbering": "1",
   "nav_menu": {
    "height": "542px",
    "width": "461px"
   },
   "number_sections": true,
   "sideBar": true,
   "skip_h1_title": true,
   "title_cell": "Table of Contents",
   "title_sidebar": "Contents",
   "toc_cell": false,
   "toc_position": {},
   "toc_section_display": true,
   "toc_window_display": true
  }
 },
 "nbformat": 4,
 "nbformat_minor": 2
}
