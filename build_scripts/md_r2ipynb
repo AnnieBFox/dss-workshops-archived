#!/usr/bin/env python

import sys
import os
import re

rmdname = str(sys.argv[1])

os.system("rmd_2md " + rmdname)

mdname = rmdname.replace(".Rmd", ".md")

ipynbname = mdname.replace(".md", ".ipynb")

os.system("notedown " + "--nomagic --match=r " + mdname + " > " + ipynbname)

ipynbfile = open(ipynbname, "r")

intext = ipynbfile.read()

ipynbfile.close()

original_text = '''"metadata": {},
 "nbformat":'''
replacement_text = '''"metadata": {
        "kernelspec": {
            "display_name": "R",
            "language": "R",
            "name": "ir"
        },
        "language_info": {
            "codemirror_mode": "r",
            "file_extension": ".r",
            "mimetype": "text/x-r-source",
            "name": "R",
            "pygments_lexer": "r",
            "version": "3.2.3"
        }
    },
 "nbformat":'''

newtext = intext.replace(original_text, replacement_text)

outfile = open(ipynbname, "w")

outfile.write(newtext)

outfile.close()

