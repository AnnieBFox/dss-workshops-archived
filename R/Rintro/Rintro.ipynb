{
 "cells": [
  {
   "cell_type": "markdown",
   "metadata": {},
   "source": [
    "---\n",
    "title: \"Introduction to R workshop notes\"\n",
    "always_allow_html: yes\n",
    "output: \n",
    "  html_document:\n",
    "    highlight: tango\n",
    "    toc: true\n",
    "    toc_float:\n",
    "      collapsed: true\n",
    "---\n",
    "\n",
    "\n",
    "Materials and setup \n",
    "-------------------\n",
    "\n",
    "**NOTE: skip this section if you are not running R locally** (e.g., if you are\n",
    "running R in your browser using a remote Jupyter server)\n",
    "\n",
    "You should have R installed --if not:\n",
    "\n",
    "-   Download and install R from http://cran.r-project.org\n",
    "-   Download and install RStudio from https://www.rstudio.com/products/rstudio/download/#download\n",
    "\n",
    "Materials for this workshop consists of notes and example code.\n",
    "\n",
    "-   Download materials from\n",
    "    <http://tutorials.iq.harvard.edu/R/Rintro.zip>\n",
    "-   Extract the zip file containing the materials to your desktop\n",
    "\n",
    "Start RStudio and open a new R script:\n",
    "- On Windows click the start button and search for rstudio. On Mac\n",
    "  RStudio will be in your applications folder.\n",
    "- In Rstudio go to `File -> Open File` and open the Rintro.R file you\n",
    "  downloaded earlier.\n",
    "\n",
    "What is R?\n",
    "----------\n",
    "\n",
    "R is a *programming language designed for statistical computing*.\n",
    "Notable characteristics include:\n",
    "\n",
    "-   Vast capabilities, wide range of statistical and graphical\n",
    "    techniques\n",
    "-   Very popular in academia, growing popularity in business:\n",
    "    <http://r4stats.com/articles/popularity/>\n",
    "-   Written primarily by statisticians\n",
    "-   FREE (no cost, open source)\n",
    "-   Excellent community support: mailing list, blogs, tutorials\n",
    "-   Easy to extend by writing new functions\n",
    "\n",
    "\n",
    "InspiRation\n",
    "-----------\n",
    "\n",
    "OK, it's free and popular, but what makes R worth learning? In a word,\n",
    "\"packages\". If you have a data manipulation, analysis or visualization task,\n",
    "chances are good that there is an R package for that. Lets install some packages\n",
    "and look at some examples."
   ]
  },
  {
   "cell_type": "code",
   "execution_count": null,
   "metadata": {},
   "outputs": [],
   "source": [
    "## install.packages(c(\"ggmap\", \"plotly\", \"rgl\", \"forecast\"))"
   ]
  },
  {
   "cell_type": "markdown",
   "metadata": {},
   "source": [
    "### Where are we? ###"
   ]
  },
  {
   "cell_type": "code",
   "execution_count": null,
   "metadata": {},
   "outputs": [],
   "source": [
    "library(ggmap)\n",
    "nwbuilding <- geocode(\"1737 Cambridge Street Cambridge, MA 02138\", source = \"google\") \n",
    "ggmap(get_map(\"Cambridge, MA\", zoom = 15)) +\n",
    "  geom_point(data=nwbuilding, size = 7, shape = 13, color = \"red\")"
   ]
  },
  {
   "cell_type": "markdown",
   "metadata": {},
   "source": [
    "### What will world population be in 2020? ###"
   ]
  },
  {
   "cell_type": "code",
   "execution_count": null,
   "metadata": {},
   "outputs": [],
   "source": [
    "library(forecast)\n",
    "library(plotly)\n",
    "\n",
    "## from https://esa.un.org/unpd/wpp/Download/Standard/Population/\n",
    "worldpop <- structure(c(2.525149312, 2.571867515, 2.617940399, 2.66402901,\n",
    "2.710677773, 2.758314525, 2.807246148, 2.85766291, 2.909651396,\n",
    "2.963216053, 3.018343828, 3.075073173, 3.133554362, 3.194075347,\n",
    "3.256988501, 3.322495121, 3.390685523, 3.461343172, 3.533966901,\n",
    "3.607865513, 3.682487691, 3.757734668, 3.833594894, 3.90972212,\n",
    "3.985733775, 4.061399228, 4.13654207, 4.211322427, 4.286282447,\n",
    "4.362189531, 4.439632465, 4.518602042, 4.599003374, 4.681210508,\n",
    "4.765657562, 4.852540569, 4.942056118, 5.033804944, 5.126632694,\n",
    "5.218978019, 5.309667699, 5.398328753, 5.485115276, 5.57004538,\n",
    "5.653315893, 5.735123084, 5.815392305, 5.894155105, 5.971882825,\n",
    "6.049205203, 6.126622121, 6.204310739, 6.282301767, 6.360764684,\n",
    "6.439842408, 6.51963585, 6.600220247, 6.68160732, 6.763732879,\n",
    "6.846479521, 6.92972504300001, 7.013427052, 7.097500453, 7.181715139,\n",
    "7.265785946, 7.349472099), .Tsp = c(1950, 2015, 1), class = \"ts\")\n",
    "\n",
    "## Projected numbers (in billions) of humans living on earth\n",
    "fit <- auto.arima(worldpop)\n",
    "ggplotly(autoplot(forecast(fit)))"
   ]
  },
  {
   "cell_type": "markdown",
   "metadata": {},
   "source": [
    "-   Want to interactively explore the shape of the Churyumov–Gerasimenko\n",
    "    comet?"
   ]
  },
  {
   "cell_type": "code",
   "execution_count": null,
   "metadata": {},
   "outputs": [],
   "source": [
    "comet <- rgl::readOBJ(url(\"http://sci.esa.int/science-e/www/object/doc.cfm?fobjectid=54726\"))\n",
    "plot_ly(x = comet$vb[1,],\n",
    "        y = comet$vb[2,],\n",
    "        z = comet$vb[3,],\n",
    "        i = comet$it[1,]-1,\n",
    "        j= comet$it[2,]-1,\n",
    "        k = comet$it[3,]-1,\n",
    "        type = \"mesh3d\")"
   ]
  },
  {
   "cell_type": "markdown",
   "metadata": {},
   "source": [
    "Whatever you're trying to do, you're probably not the first to try doing\n",
    "it R. Chances are good that someone has already written a package for\n",
    "that.\n",
    "\n",
    "Coming to R\n",
    "-----------\n",
    "\n",
    "Coming from...\n",
    "\n",
    "Stata\n",
    ":   <http://www.princeton.edu/~otorres/RStata.pdf>\n",
    "\n",
    "SAS/SPSS\n",
    ":   <http://www.et.bs.ehu.es/~etptupaf/pub/R/RforSAS&SPSSusers.pdf>\n",
    "\n",
    "matlab\n",
    ":   <http://www.math.umaine.edu/~hiebeler/comp/matlabR.pdf>\n",
    "\n",
    "Python\n",
    ":   <http://mathesaurus.sourceforge.net/matlab-python-xref.pdf>\n",
    "\n",
    "\n",
    "Graphical User Interfaces (GUIs)\n",
    "================================\n",
    "\n",
    "R GUI alternatives\n",
    "------------------\n",
    "\n",
    "The old-school way is to run R directly in a terminal\n",
    "\n",
    "![](images/Rconsole.png)\n",
    "\n",
    "But hardly anybody does it that way anymore! The Windows version of R\n",
    "comes with a GUI that looks like this:\n",
    "\n",
    "![](images/Rgui.png)\n",
    "\n",
    "The default windows GUI is not very good\n",
    "\n",
    "-   No parentheses matching or syntax highlighting\n",
    "-   No work-space browser\n",
    "\n",
    "RStudio (an alternative GUI for R) is shown below.\n",
    "\n",
    "![](images/Rstudio.png)\n",
    "\n",
    "Rstudio has many useful features, including parentheses matching and\n",
    "auto-completion. Rstudio is not the only advanced R interface; other\n",
    "alteratives include Emacs with ESS (shown below).\n",
    "\n",
    "![](images/emacs.png)\n",
    "\n",
    "Emacs + ESS is a very powerful combination, but can be difficult to set\n",
    "up.\n",
    "\n",
    "![](images/Jupyter.png)\n",
    "\n",
    "Jupyter is a notebook interface that runs in your web browser. A lot of\n",
    "people like it. You can access these workshop notes as a Jupyter\n",
    "notebook at\n",
    "<http://tutorials-live.iq.harvard.edu:8000/notebooks/workshops/R/Rintro/Rintro.ipynb>\n",
    "\n",
    "Launch RStudio (skip if not using Rstudio)\n",
    "----------------------------------------------------------------\n",
    "**Note: skip this section if you are not using Rstudio (e.g., if you are running\n",
    "these examples in a Jupyter notebook).**\n",
    "\n",
    "\n",
    "-   Open the RStudio program\n",
    "-   Open up today's R script\n",
    "    -   In RStudio, Go to **File =&gt; Open Script**\n",
    "    -   Locate and open the `Rintro.R` script in the Rintro folder on\n",
    "        your desktop\n",
    "-   Go to **Tools =&gt; Set working directory =&gt; To source file\n",
    "    location** (more on the working directory later)\n",
    "-   I encourage you to add your own notes to this file! Every line that\n",
    "    starts with `#` is a comment that will be ignored by R. My comments\n",
    "    all start with `##`; you can add your own, possibly using `#` or\n",
    "    `###` to distinguish your comments from mine.\n",
    "\n",
    "Now that we know what we're getting into and have our environment set up, let's\n",
    "get to work.\n",
    "\n",
    "\n",
    "Exercise 0\n",
    "----------\n",
    "\n",
    "The purpose of this exercise is mostly to give you an opportunity to\n",
    "explore the interface provided by RStudio (or whichever GUI you've\n",
    "decided to use). You may not know how to do these things; that's fine!\n",
    "This is an opportunity to learn. If you don't know how to do something\n",
    "you can can use internet search engines, search on\n",
    "[StackOverflow](http:stackoverflow.com), or ask the person next to you.\n",
    "\n",
    "Also keep in mind that we are living in a golden age of tab completion.\n",
    "If you don't know the name of an R function, try guessing the first two\n",
    "or three letters and pressing TAB. If you guessed correctly the function\n",
    "you are looking for should appear in a pop up!\n",
    "\n",
    "1.  Try to get R to add 2 plus 2."
   ]
  },
  {
   "cell_type": "code",
   "execution_count": null,
   "metadata": {},
   "outputs": [],
   "source": [
    "## write your answer here"
   ]
  },
  {
   "cell_type": "markdown",
   "metadata": {},
   "source": [
    "2.  Try to calculate the square root of 10."
   ]
  },
  {
   "cell_type": "code",
   "execution_count": null,
   "metadata": {},
   "outputs": [],
   "source": [
    "## write your answer here"
   ]
  },
  {
   "cell_type": "markdown",
   "metadata": {},
   "source": [
    "3.  There is an R package named `car`. Try to install this package."
   ]
  },
  {
   "cell_type": "code",
   "execution_count": null,
   "metadata": {},
   "outputs": [],
   "source": [
    "## write your answer here"
   ]
  },
  {
   "cell_type": "markdown",
   "metadata": {},
   "source": [
    "4.  R includes extensive documentation, including a file named \"An\n",
    "    introduction to R\". Try to find this help file.\n",
    "5.  Open a new web browser or tab, go to <http://cran.r-project.org/web/views/> and\n",
    "    skim the topic closest to your field/interests.\n",
    "\n",
    "\\\n",
    "\n",
    "\\\n",
    "\n",
    "\\\n",
    "\n",
    "\\\n",
    "\n",
    "Exercise 0 solution<span class=\"tag\" data-tag-name=\"prototype\"></span>\n",
    "----------------------------------------------------------------------\n",
    "\n",
    "1. Add 2 plus 2.\n",
    "\n",
    "\n",
    "\n",
    "Example project overview: baby names!\n",
    "------------------------\n",
    "\n",
    "I would like to know what the most popular baby names are. In the course of\n",
    "answering this question we will learn to call R functions, install and load\n",
    "packages, assign values to names, read and write data, and more. \n",
    "\n",
    "The examples in this workshop use the baby names data provided by the\n",
    "governments of the United States and the United Kingdom. A cleaned and\n",
    "merged version of these data is in `dataSets/babyNames.csv`.\n",
    "\n",
    "Our first goal is to read these data into R. In order to do that we need to\n",
    "learn how to *call functions*, *install packages*, set out *working directory*, *read* as `.csv`\n",
    "file, and *assign* the result to a name. Lets get to it.\n",
    "\n",
    "\n",
    "R installing and using packages\n",
    "==========\n",
    "\n",
    "There are thousands of R packages that extend R's capabilities. Some\n",
    "packages are distributed with R, and some of these are attached to the\n",
    "search path by default. Many more are available in package repositories.\n",
    "\n",
    "In order to make reading and analyzing our baby names data easier we will\n",
    "install and use a collection of packages called `tidyverse`. *tidyverse* is a\n",
    "meta package that loads the *dplyr* package for easier data manipulation the\n",
    "*readr* package for easier data import/export, and several other useful\n",
    "packages.\n",
    "\n",
    "Packages can be installed using the `install.packages` function. \n",
    "\n",
    "Functions\n",
    "---------\n",
    "\n",
    "The general form for calling R functions is"
   ]
  },
  {
   "cell_type": "code",
   "execution_count": null,
   "metadata": {},
   "outputs": [],
   "source": [
    "## FunctionName(arg.1 = value.1, arg.2 = value.2, ..., arg.n - value.n)"
   ]
  },
  {
   "cell_type": "markdown",
   "metadata": {},
   "source": [
    "Arguments can be matched by position or name. Lets see how that works, using the\n",
    "`install.packages` function.\n",
    "\n",
    "Installing and using R packages\n",
    "---------------------------------------\n",
    "\n",
    "Since this is the first time we are using the `install.packages` function we\n",
    "will start by looking up its help page. This is almost always the first thing\n",
    "you should do when using a function for the first time. You can look up the help\n",
    "page for a function like this:"
   ]
  },
  {
   "cell_type": "code",
   "execution_count": null,
   "metadata": {},
   "outputs": [],
   "source": [
    "?install.packages"
   ]
  },
  {
   "cell_type": "markdown",
   "metadata": {},
   "source": [
    "As we can see from the documentation, the first (and only required) argument is\n",
    "named `pkgs`. Additional arguments specify where this package should be\n",
    "installed from (`repos`) and to (`lib`) among other things.\n",
    "\n",
    "OK, lets install the \"car\" package from the repo at\n",
    "\"https://cran.rstudio.com\"."
   ]
  },
  {
   "cell_type": "code",
   "execution_count": null,
   "metadata": {},
   "outputs": [],
   "source": [
    "install.packages(\"car\", repos = \"https://cran.rstudio.com\")"
   ]
  },
  {
   "cell_type": "markdown",
   "metadata": {},
   "source": [
    "**Installing a package** puts a copy of the package on your local computer, but\n",
    "**does not make it available for use**. To use an installed package you must\n",
    "attach it using the `library` function."
   ]
  },
  {
   "cell_type": "code",
   "execution_count": null,
   "metadata": {},
   "outputs": [],
   "source": [
    "library(\"car\")"
   ]
  },
  {
   "cell_type": "markdown",
   "metadata": {},
   "source": [
    "Asking R for help\n",
    "---------------------\n",
    "\n",
    "Now that we've installed the `car` package, how do we use it? We've already seen\n",
    "that we can look up the help page using `?`. This is actually a shortcut to the\n",
    "`help` function:"
   ]
  },
  {
   "cell_type": "code",
   "execution_count": null,
   "metadata": {},
   "outputs": [],
   "source": [
    "help(help)"
   ]
  },
  {
   "cell_type": "markdown",
   "metadata": {},
   "source": [
    "The `help` function can be used to look up the documentation for a function, or\n",
    "to look up the documentation to a package. We can learn how to use the `car`\n",
    "package by reading its documentation like this:"
   ]
  },
  {
   "cell_type": "code",
   "execution_count": null,
   "metadata": {},
   "outputs": [],
   "source": [
    "help(package = \"car\")"
   ]
  },
  {
   "cell_type": "markdown",
   "metadata": {},
   "source": [
    "Exercise 1\n",
    "----------\n",
    "\n",
    "The purpose of this exercise is to practice using the package management\n",
    "and help facilities.\n",
    "\n",
    "1.  Install the `tidyverse` package."
   ]
  },
  {
   "cell_type": "code",
   "execution_count": null,
   "metadata": {},
   "outputs": [],
   "source": [
    "## write your answer here"
   ]
  },
  {
   "cell_type": "markdown",
   "metadata": {},
   "source": [
    "2.  Use the `library` function to attach the `tidyverse` package."
   ]
  },
  {
   "cell_type": "code",
   "execution_count": null,
   "metadata": {},
   "outputs": [],
   "source": [
    "## write your answer here"
   ]
  },
  {
   "cell_type": "markdown",
   "metadata": {},
   "source": [
    "3.  Look up the help page for the *readr* package (*readr* is attached by the\n",
    "    *tidyverse* package). Which function would you use to read a comma separated\n",
    "    values (`.csv`) file?"
   ]
  },
  {
   "cell_type": "code",
   "execution_count": null,
   "metadata": {},
   "outputs": [],
   "source": [
    "## write your answer here"
   ]
  },
  {
   "cell_type": "markdown",
   "metadata": {},
   "source": [
    "\\\n",
    "\n",
    "\\\n",
    "\n",
    "\\\n",
    "\n",
    "\\\n",
    "\n",
    "\\\n",
    "\n",
    "Exercise 1 solution<span class=\"tag\" data-tag-name=\"prototype\"></span>\n",
    "----------------------------------------------------------------------\n",
    "\n",
    "\n",
    "\n",
    "Now that we have installed and attached the `tidyverse` (and `readr`) packages,\n",
    "and know which function to use to read our data (`read_csv`) we are almost ready\n",
    "to read in the baby names data. Before we do that lets take a small excision to\n",
    "learn about assignment and basic data types in R.\n",
    "\n",
    "Data types and assignment\n",
    "==================\n",
    "\n",
    "Assignment\n",
    "----------\n",
    "\n",
    "Values can be assigned names and used in subsequent operations\n",
    "\n",
    "-   The `<-` operator (less than followed by a dash) is used to save\n",
    "    values\n",
    "-   The name on the left gets the value on the right."
   ]
  },
  {
   "cell_type": "code",
   "execution_count": null,
   "metadata": {},
   "outputs": [],
   "source": [
    "x <- 10 # Assign the value 10 to a variable named x\n",
    "x + 1 # Add 1 to x"
   ]
  },
  {
   "cell_type": "code",
   "execution_count": null,
   "metadata": {},
   "outputs": [],
   "source": [
    "x # note that x is unchanged"
   ]
  },
  {
   "cell_type": "code",
   "execution_count": null,
   "metadata": {},
   "outputs": [],
   "source": [
    "y <- x + 1 # Assign y the value x + 1\n",
    "y"
   ]
  },
  {
   "cell_type": "code",
   "execution_count": null,
   "metadata": {},
   "outputs": [],
   "source": [
    "x <- x + 100 # change the value of x\n",
    "y ## note that y is unchanged."
   ]
  },
  {
   "cell_type": "markdown",
   "metadata": {},
   "source": [
    "Data types and conversion\n",
    "-------------------------\n",
    "\n",
    "The `x` and `y` data objects we created are numeric *vectors* of length\n",
    "one. Vectors are the simplest data structure in R, and are the building\n",
    "blocks used to make more complex data structures. Here are some more\n",
    "vector examples."
   ]
  },
  {
   "cell_type": "code",
   "execution_count": null,
   "metadata": {},
   "outputs": [],
   "source": [
    "x <- c(10, 11, 12)\n",
    "y <- c(\"10\", \"11\", \"12\")\n",
    "z <- c(TRUE, FALSE, TRUE, TRUE)"
   ]
  },
  {
   "cell_type": "markdown",
   "metadata": {},
   "source": [
    "Notice that the `c` function combines its arguments into a vector.\n",
    "\n",
    "All R objects have a *type* (aka *mode*) and *length*. Since it is impossible\n",
    "for an object not to have these attributes they are called *intrinsic\n",
    "attributes*. They can be retrieved using the `typeof` and `length` functions."
   ]
  },
  {
   "cell_type": "code",
   "execution_count": null,
   "metadata": {},
   "outputs": [],
   "source": [
    "c(x = x, type = typeof(x), length = length(x))\n",
    "\n",
    "c(y = y, type = typeof(y), length = length(y))\n",
    "\n",
    "c(z = z, type = typeof(z), length = length(z))"
   ]
  },
  {
   "cell_type": "markdown",
   "metadata": {},
   "source": [
    "Data structures in R can be converted from one type to another using one\n",
    "of the many functions beginning with `as.`. For example:"
   ]
  },
  {
   "cell_type": "code",
   "execution_count": null,
   "metadata": {},
   "outputs": [],
   "source": [
    "typeof(x)\n",
    "typeof(as.character(x))"
   ]
  },
  {
   "cell_type": "code",
   "execution_count": null,
   "metadata": {},
   "outputs": [],
   "source": [
    "typeof(y)\n",
    "typeof(as.numeric(y))"
   ]
  },
  {
   "cell_type": "markdown",
   "metadata": {},
   "source": [
    "These vectors (*double*, *character*, *logical*) are called *atomic vectors*\n",
    "because each element must be of the same type. Given inputs with conflicting\n",
    "types R will convert them for you."
   ]
  },
  {
   "cell_type": "code",
   "execution_count": null,
   "metadata": {},
   "outputs": [],
   "source": [
    "typeof(c(1, 2))\n",
    "typeof(c(1, \"2\"))"
   ]
  },
  {
   "cell_type": "markdown",
   "metadata": {},
   "source": [
    "Now that we know how to do assignment using `<-` and how to understand basic\n",
    "data types in R we are finally ready to read in the baby names data.\n",
    "\n",
    "Getting data into R\n",
    "===================\n",
    "\n",
    "The \"working directory\" and listing files\n",
    "-----------------------------------------\n",
    "\n",
    "R knows the directory it was started in, and refers to this as the\n",
    "\"working directory\". Since our workshop examples are in the Rintro folder, we\n",
    "should all take a moment to set that as our working directory."
   ]
  },
  {
   "cell_type": "code",
   "execution_count": null,
   "metadata": {},
   "outputs": [],
   "source": [
    "getwd() # what is my current working directory?\n",
    "# setwd(\"~/Desktop/Rintro\") # change directory"
   ]
  },
  {
   "cell_type": "markdown",
   "metadata": {},
   "source": [
    "Note that \"`~`\" means \"my home directory\" but that this can mean\n",
    "different things on different operating systems. You can also use the\n",
    "Files tab in Rstudio to navigate to a directory, then click \"More -&gt;\n",
    "Set as working directory\".\n",
    "\n",
    "We can a set the working directory using paths relative to the current\n",
    "working directory. Once we are in the \"Rintro\" folder we can navigate to\n",
    "the \"dataSets\" folder like this:"
   ]
  },
  {
   "cell_type": "code",
   "execution_count": null,
   "metadata": {},
   "outputs": [],
   "source": [
    "getwd() # get the current working directory"
   ]
  },
  {
   "cell_type": "code",
   "execution_count": null,
   "metadata": {},
   "outputs": [],
   "source": [
    "setwd(\"dataSets\") # set wd to the dataSets folder\n",
    "getwd()\n",
    "\n",
    "setwd(\"..\") # set wd to enclosing folder (\"up\")\n",
    "getwd()"
   ]
  },
  {
   "cell_type": "markdown",
   "metadata": {},
   "source": [
    "It can be convenient to list files in a directory without leaving R"
   ]
  },
  {
   "cell_type": "code",
   "execution_count": null,
   "metadata": {},
   "outputs": [],
   "source": [
    "list.files(\"dataSets\") # list files in the dataSets folder"
   ]
  },
  {
   "cell_type": "markdown",
   "metadata": {},
   "source": [
    "Readers for common file types\n",
    "-----------------------------\n",
    "\n",
    "In order to read data from a file, you have to know what kind of file it\n",
    "is. The table below lists the functions that can import data from common\n",
    "file formats.\n",
    "\n",
    "  data type                 function         package\n",
    "  ------------------------- ---------------  -----------------------------------------------------\n",
    "  comma separated (.csv)    `read_csv()`     readr (tidyverse)\n",
    "  other delimited formats   `read_delim()`   readr (tidyverse)\n",
    "  R (.Rds)                  `read_rds()`     readr (tidyverse)\n",
    "  Stata (.dta)              `read_stata()`   haven (tidyverse, needs to be attached separately)\n",
    "  SPSS (.sav)               `read_spss()`    haven (tidyverse, needs to be attached separately)\n",
    "  SAS (.sas7bdat)           `read_sas()`     haven (tidyverse, needs to be attached separately)\n",
    "  Excel (.xls, .xlsx)       `read_excel()`   readxl (tidyverse, needs to be attached separately)\n",
    "\n",
    "Exercise 2\n",
    "----------\n",
    "\n",
    "The purpose of this exercise is to practice reading data into R. The\n",
    "data in \"`dataSets/babyNames.csv`\" is moderately tricky to read, making\n",
    "it a good data set to practice on.\n",
    "\n",
    "1.  Open the help page for the `read_csv` function. How can you limit\n",
    "    the number of rows to be read in?"
   ]
  },
  {
   "cell_type": "code",
   "execution_count": null,
   "metadata": {},
   "outputs": [],
   "source": [
    "## write your answer here"
   ]
  },
  {
   "cell_type": "markdown",
   "metadata": {},
   "source": [
    "2.  Read just the first 10 rows of \"`dataSets/babyNames.csv`\". Notice\n",
    "    that the \"Sex\" column has been read as a logical (TRUE/FALSE)."
   ]
  },
  {
   "cell_type": "code",
   "execution_count": null,
   "metadata": {},
   "outputs": [],
   "source": [
    "## write your answer here"
   ]
  },
  {
   "cell_type": "markdown",
   "metadata": {},
   "source": [
    "3.  Read the `read_csv` help page to figure out how to make it read the\n",
    "    \"Sex\" column as a character. Make adjustments to your code until you\n",
    "    have read in the first 10 rows with the correct column types. \"Year\"\n",
    "    and \"Name.length\" should be integer (int), \"Count\" and \"Percent\"\n",
    "    should be double (dbl) and everything else should be\n",
    "    character (chr)."
   ]
  },
  {
   "cell_type": "code",
   "execution_count": null,
   "metadata": {},
   "outputs": [],
   "source": [
    "## write your answer here"
   ]
  },
  {
   "cell_type": "markdown",
   "metadata": {},
   "source": [
    "4.  Once you have successfully read in the first 10 rows, read the whole\n",
    "    file, assigning the result to the name `baby.names`."
   ]
  },
  {
   "cell_type": "code",
   "execution_count": null,
   "metadata": {},
   "outputs": [],
   "source": [
    "## write your answer here"
   ]
  },
  {
   "cell_type": "markdown",
   "metadata": {},
   "source": [
    "\\\n",
    "\n",
    "\\\n",
    "\n",
    "\\\n",
    "\n",
    "\\\n",
    "\n",
    "\\\n",
    "\n",
    "\n",
    "Exercise 2 solution<span class=\"tag\" data-tag-name=\"prototype\"></span>\n",
    "----------------------------------------------------------------------\n",
    "\n",
    "\n",
    "\n",
    "Checking imported data\n",
    "----------------------\n",
    "\n",
    "It is always a good idea to examine the imported data set--usually we\n",
    "want the results to be a `data.frame`"
   ]
  },
  {
   "cell_type": "code",
   "execution_count": null,
   "metadata": {},
   "outputs": [],
   "source": [
    "## we know that this object will have type and length, because all R objects do.\n",
    "typeof(baby.names)\n",
    "length(baby.names) # number of columns"
   ]
  },
  {
   "cell_type": "code",
   "execution_count": null,
   "metadata": {},
   "outputs": [],
   "source": [
    "## additional information about this data object\n",
    "class(baby.names) # check to see that test is a data.frame"
   ]
  },
  {
   "cell_type": "code",
   "execution_count": null,
   "metadata": {},
   "outputs": [],
   "source": [
    "dim(baby.names) # how many rows and columns?"
   ]
  },
  {
   "cell_type": "code",
   "execution_count": null,
   "metadata": {},
   "outputs": [],
   "source": [
    "names(baby.names) # or colnames(baby.names)"
   ]
  },
  {
   "cell_type": "code",
   "execution_count": null,
   "metadata": {},
   "outputs": [],
   "source": [
    "str(baby.names) # more details"
   ]
  },
  {
   "cell_type": "code",
   "execution_count": null,
   "metadata": {},
   "outputs": [],
   "source": [
    "glimpse(baby.names) # details, more compactly"
   ]
  },
  {
   "cell_type": "markdown",
   "metadata": {},
   "source": [
    "Data Manipulation\n",
    "=================\n",
    "\n",
    "data.frame objects\n",
    "------------------\n",
    "\n",
    "Usually data read into R will be stored as a **data.frame**\n",
    "\n",
    "-   A data.frame is a list of vectors of equal length\n",
    "    -   Each vector in the list forms a column\n",
    "    -   Each column can be a differnt type of vector\n",
    "    -   Typically columns are variables and the rows are observations\n",
    "\n",
    "A data.frame has two dimensions corresponding the number of rows and the\n",
    "number of columns (in that order)\n",
    "\n",
    "Slice and Filter data.frames rows\n",
    "---------------------------------\n",
    "\n",
    "You can extract subsets of data.frames using `slice` to select rows by\n",
    "number and `filter` to select rows that match some condition. It works\n",
    "like this:"
   ]
  },
  {
   "cell_type": "code",
   "execution_count": null,
   "metadata": {},
   "outputs": [],
   "source": [
    "## make up some example data\n",
    "(example.df <- data.frame(id  = rep(letters[1:4], each = 4),\n",
    "                          t   = rep(1:4, times = 4),\n",
    "                          var1 = runif(16),\n",
    "                          var2 = sample(letters[1:3], 16, replace = TRUE)))"
   ]
  },
  {
   "cell_type": "code",
   "execution_count": null,
   "metadata": {},
   "outputs": [],
   "source": [
    "## rows 2 and 4\n",
    "slice(example.df, c(2, 4))"
   ]
  },
  {
   "cell_type": "code",
   "execution_count": null,
   "metadata": {},
   "outputs": [],
   "source": [
    "## rows where id == \"a\"\n",
    "filter(example.df, id == \"a\")"
   ]
  },
  {
   "cell_type": "code",
   "execution_count": null,
   "metadata": {},
   "outputs": [],
   "source": [
    "## rows where id is either \"a\" or \"b\"\n",
    "filter(example.df, id %in% c(\"a\", \"b\"))"
   ]
  },
  {
   "cell_type": "markdown",
   "metadata": {},
   "source": [
    "Select data.frame columns\n",
    "-------------------------\n",
    "\n",
    "`slice` and `filter` are used to extract rows. `select` is used to\n",
    "extract columns"
   ]
  },
  {
   "cell_type": "code",
   "execution_count": null,
   "metadata": {},
   "outputs": [],
   "source": [
    "select(example.df, id, var1)"
   ]
  },
  {
   "cell_type": "code",
   "execution_count": null,
   "metadata": {},
   "outputs": [],
   "source": [
    "select(example.df, id, t, var1)"
   ]
  },
  {
   "cell_type": "markdown",
   "metadata": {},
   "source": [
    "You can also conveniently select a single column using `$`, like this:"
   ]
  },
  {
   "cell_type": "code",
   "execution_count": null,
   "metadata": {},
   "outputs": [],
   "source": [
    "example.df$t"
   ]
  },
  {
   "cell_type": "markdown",
   "metadata": {},
   "source": [
    "Data manipulation commands can be combined:"
   ]
  },
  {
   "cell_type": "code",
   "execution_count": null,
   "metadata": {},
   "outputs": [],
   "source": [
    "filter(select(example.df,\n",
    "              id,\n",
    "              var1),\n",
    "       id == \"a\")"
   ]
  },
  {
   "cell_type": "markdown",
   "metadata": {},
   "source": [
    "In the previous example we used == to filter rows where id was \"a\".\n",
    "Other relational and logical operators are listed below.\n",
    "\n",
    "  Operator   Meaning\n",
    "  ---------- --------------------------\n",
    "  ==         equal to\n",
    "  !=         not equal to\n",
    "  &gt;       greater than\n",
    "  &gt;=      greater than or equal to\n",
    "  &lt;       less than\n",
    "  &lt;=      less than or equal to\n",
    "  %in%       contained in\n",
    "  &          and\n",
    "  |          or\n",
    "\n",
    "Adding, removing, and modifying data.frame columns\n",
    "--------------------------------------------------\n",
    "\n",
    "You can modify data.frames using the `mutate()` function. It works like\n",
    "this:"
   ]
  },
  {
   "cell_type": "code",
   "execution_count": null,
   "metadata": {},
   "outputs": [],
   "source": [
    "example.df"
   ]
  },
  {
   "cell_type": "code",
   "execution_count": null,
   "metadata": {},
   "outputs": [],
   "source": [
    "## modify example.df and assign the modified data.frame the name example.df\n",
    "example.df <- mutate(example.df,\n",
    "       var2 = var1/t, # replace the values in var2\n",
    "       var3 = 1:length(t), # create a new column named var3\n",
    "       var4 = factor(letters[t]),\n",
    "       t = NULL # delete the column named t\n",
    "       )"
   ]
  },
  {
   "cell_type": "code",
   "execution_count": null,
   "metadata": {},
   "outputs": [],
   "source": [
    "## examine our changes\n",
    "example.df"
   ]
  },
  {
   "cell_type": "markdown",
   "metadata": {},
   "source": [
    "Exporting Data\n",
    "--------------\n",
    "\n",
    "Now that we have made some changes to our data set, we might want to\n",
    "save those changes to a file."
   ]
  },
  {
   "cell_type": "code",
   "execution_count": null,
   "metadata": {},
   "outputs": [],
   "source": [
    "# write data to a .csv file\n",
    "write_csv(example.df, path = \"example.csv\")\n",
    "\n",
    "# write data to an R file\n",
    "write_rds(example.df, path = \"example.rds\")\n",
    "\n",
    "# write data to a Stata file\n",
    "library(haven)\n",
    "write_dta(example.df, path = \"example.dta\")"
   ]
  },
  {
   "cell_type": "markdown",
   "metadata": {},
   "source": [
    "Saving and loading R workspaces\n",
    "-------------------------------\n",
    "\n",
    "In addition to importing individual datasets, R can save and load entire\n",
    "workspaces"
   ]
  },
  {
   "cell_type": "code",
   "execution_count": null,
   "metadata": {},
   "outputs": [],
   "source": [
    "ls() # list objects in our workspace\n",
    "save.image(file=\"myWorkspace.RData\") # save workspace \n",
    "rm(list=ls()) # remove all objects from our workspace \n",
    "ls() # list stored objects to make sure they are deleted"
   ]
  },
  {
   "cell_type": "markdown",
   "metadata": {},
   "source": [
    "Load the \"myWorkspace.RData\" file and check that it is restored"
   ]
  },
  {
   "cell_type": "code",
   "execution_count": null,
   "metadata": {},
   "outputs": [],
   "source": [
    "load(\"myWorkspace.RData\") # load myWorkspace.RData\n",
    "ls() # list objects"
   ]
  },
  {
   "cell_type": "markdown",
   "metadata": {},
   "source": [
    "Exercise 3: Data manipulation\n",
    "-----------------------------\n",
    "\n",
    "Read in the \"babyNames.csv\" file if you have not already done so,\n",
    "assigning the result to `baby.names`. The file is located at \"http://tutorials.iq.harvard.edu/R/Rintro/dataSets/babyNames.csv\"\n",
    "\n",
    "1.  Filter `baby.names` to show only names given to at least 5 percent\n",
    "    of boys."
   ]
  },
  {
   "cell_type": "code",
   "execution_count": null,
   "metadata": {},
   "outputs": [],
   "source": [
    "## write your answer here"
   ]
  },
  {
   "cell_type": "markdown",
   "metadata": {},
   "source": [
    "2.  Create a column named \"Proportion\" equal to Percent divided by 100."
   ]
  },
  {
   "cell_type": "code",
   "execution_count": null,
   "metadata": {},
   "outputs": [],
   "source": [
    "## write your answer here"
   ]
  },
  {
   "cell_type": "markdown",
   "metadata": {},
   "source": [
    "3.  Filter `baby.names` to include only names given to at least 3\n",
    "    percent of Girls. Save this to a Stata data set\n",
    "    named \"popularGirlNames.dta\")"
   ]
  },
  {
   "cell_type": "code",
   "execution_count": null,
   "metadata": {},
   "outputs": [],
   "source": [
    "## write your answer here"
   ]
  },
  {
   "cell_type": "markdown",
   "metadata": {},
   "source": [
    "\\\n",
    "\n",
    "\\\n",
    "\n",
    "\\\n",
    "\n",
    "\\\n",
    "\n",
    "\\\n",
    "\n",
    "\\\n",
    "\n",
    "Exercise 3 solution<span class=\"tag\" data-tag-name=\"prototype\"></span>\n",
    "----------------------------------------------------------------------\n",
    "\n",
    "\n",
    "\n",
    "Basic Statistics and Graphs\n",
    "===========================\n",
    "\n",
    "Basic statistics\n",
    "----------------\n",
    "\n",
    "Descriptive statistics of single variables are straightforward:"
   ]
  },
  {
   "cell_type": "code",
   "execution_count": null,
   "metadata": {},
   "outputs": [],
   "source": [
    "sum(example.df$var1) # calculate sum of var 1\n",
    "mean(example.df$var1)\n",
    "median(example.df$var1)"
   ]
  },
  {
   "cell_type": "code",
   "execution_count": null,
   "metadata": {},
   "outputs": [],
   "source": [
    "sd(example.df$var1) # calculate standard deviation of var1\n",
    "var(example.df$var1)"
   ]
  },
  {
   "cell_type": "code",
   "execution_count": null,
   "metadata": {},
   "outputs": [],
   "source": [
    "## summaries of individual columns\n",
    "summary(example.df$var1)"
   ]
  },
  {
   "cell_type": "code",
   "execution_count": null,
   "metadata": {},
   "outputs": [],
   "source": [
    "summary(example.df$var2)"
   ]
  },
  {
   "cell_type": "code",
   "execution_count": null,
   "metadata": {},
   "outputs": [],
   "source": [
    "## summary of whole data.frame\n",
    "summary(example.df)"
   ]
  },
  {
   "cell_type": "markdown",
   "metadata": {},
   "source": [
    "Some of these functions (e.g., summary) will also work with data.frames\n",
    "and other types of objects, others (such as `sd`) will not.\n",
    "\n",
    "Statistics by grouping variable(s)\n",
    "----------------------------------\n",
    "\n",
    "The `summarize` function can be used to calculate statistics by grouping\n",
    "variable. Here is how it works."
   ]
  },
  {
   "cell_type": "code",
   "execution_count": null,
   "metadata": {},
   "outputs": [],
   "source": [
    "summarize(group_by(example.df, id), mean(var1), sd(var1))"
   ]
  },
  {
   "cell_type": "markdown",
   "metadata": {},
   "source": [
    "You can group by multiple variables:"
   ]
  },
  {
   "cell_type": "code",
   "execution_count": null,
   "metadata": {},
   "outputs": [],
   "source": [
    "summarize(group_by(example.df, id, var3), mean(var1), sd(var1))"
   ]
  },
  {
   "cell_type": "markdown",
   "metadata": {},
   "source": [
    "Save R output to a file\n",
    "-----------------------\n",
    "\n",
    "Earlier we learned how to write a data set to a file. But what if we\n",
    "want to write something that isn't in a nice rectangular format, like\n",
    "the output of `summary`? For that we can use the `sink()` function:"
   ]
  },
  {
   "cell_type": "code",
   "execution_count": null,
   "metadata": {},
   "outputs": [],
   "source": [
    "sink(file=\"output.txt\", split=TRUE) # start logging\n",
    "print(\"This is the summary of example.df \\n\")\n",
    "print(summary(example.df))\n",
    "sink() ## sink with no arguments turns logging off"
   ]
  },
  {
   "cell_type": "markdown",
   "metadata": {},
   "source": [
    "Exercise 4\n",
    "----------\n",
    "\n",
    "1.  Calculate the total number of children born."
   ]
  },
  {
   "cell_type": "code",
   "execution_count": null,
   "metadata": {},
   "outputs": [],
   "source": [
    "## write your answer here"
   ]
  },
  {
   "cell_type": "markdown",
   "metadata": {},
   "source": [
    "2.  Filter the data to extract only Massachusetts (Location \"MA\"), and\n",
    "    calculate the total number of children born in Massachusetts."
   ]
  },
  {
   "cell_type": "code",
   "execution_count": null,
   "metadata": {},
   "outputs": [],
   "source": [
    "## write your answer here"
   ]
  },
  {
   "cell_type": "markdown",
   "metadata": {},
   "source": [
    "3.  Group and summarize the data to calculate the number of children\n",
    "    born each year. Assign the result to the name `births.by.year`."
   ]
  },
  {
   "cell_type": "code",
   "execution_count": null,
   "metadata": {},
   "outputs": [],
   "source": [
    "## write your answer here"
   ]
  },
  {
   "cell_type": "markdown",
   "metadata": {},
   "source": [
    "4.  Calculate the average number of characters in baby names (using the\n",
    "    \"Name.length\" column)."
   ]
  },
  {
   "cell_type": "code",
   "execution_count": null,
   "metadata": {},
   "outputs": [],
   "source": [
    "## write your answer here"
   ]
  },
  {
   "cell_type": "markdown",
   "metadata": {},
   "source": [
    "5.  Group and summarize to calculate the average number of characters in\n",
    "    baby names for each location. Assign the result to the name `name.length.by.location`.\n",
    "\n",
    "\\\n",
    "\n",
    "\\\n",
    "\n",
    "\\\n",
    "\n",
    "\\\n",
    "\n",
    "\\\n",
    "\n",
    "\n",
    "Exercise 4 solution<span class=\"tag\" data-tag-name=\"prototype\"></span>\n",
    "----------------------------------------------------------------------\n",
    "\n",
    "\n",
    "\n",
    "Basic graphics: Frequency bars\n",
    "------------------------------\n",
    "\n",
    "Thanks to classes and methods, you can `plot()` many kinds of objects:"
   ]
  },
  {
   "cell_type": "code",
   "execution_count": null,
   "metadata": {},
   "outputs": [],
   "source": [
    "plot(example.df$var4)"
   ]
  },
  {
   "cell_type": "markdown",
   "metadata": {},
   "source": [
    "Basic graphics: Boxplots by group\n",
    "---------------------------------\n",
    "\n",
    "Thanks to classes and methods, you can `plot()` many kinds of objects:"
   ]
  },
  {
   "cell_type": "code",
   "execution_count": null,
   "metadata": {},
   "outputs": [],
   "source": [
    "plot(select(example.df, id, var1))"
   ]
  },
  {
   "cell_type": "markdown",
   "metadata": {},
   "source": [
    "Basic graphics: Mosaic chart\n",
    "----------------------------\n",
    "\n",
    "Thanks to classes and methods, you can `plot()` many kinds of objects:"
   ]
  },
  {
   "cell_type": "code",
   "execution_count": null,
   "metadata": {},
   "outputs": [],
   "source": [
    "plot(select(example.df, id, var4))"
   ]
  },
  {
   "cell_type": "markdown",
   "metadata": {},
   "source": [
    "Basic graphics: scatter plot\n",
    "----------------------------"
   ]
  },
  {
   "cell_type": "code",
   "execution_count": null,
   "metadata": {},
   "outputs": [],
   "source": [
    "plot(select(example.df, var1, var2))"
   ]
  },
  {
   "cell_type": "markdown",
   "metadata": {},
   "source": [
    "Exercise 5 TBD\n",
    "--------------\n",
    "\n",
    "Wrap-up\n",
    "=======\n",
    "\n",
    "Help us make this workshop better!\n",
    "----------------------------------\n",
    "\n",
    "-   Please take a moment to fill out a very short feedback form\n",
    "-   These workshops exist for you – tell us what you need!\n",
    "-   <http://tinyurl.com/R-intro-feedback>\n",
    "\n",
    "Additional resources\n",
    "--------------------\n",
    "\n",
    "-   IQSS workshops:\n",
    "    <http://projects.iq.harvard.edu/rtc/filter_by/workshops>\n",
    "-   IQSS statistical consulting: <http://dss.iq.harvard.edu>\n",
    "-   Software (all free!):\n",
    "    -   R and R package download: <http://cran.r-project.org>\n",
    "    -   Rstudio download: <http://rstudio.org>\n",
    "    -   ESS (emacs R package): <http://ess.r-project.org/>\n",
    "-   Online tutorials\n",
    "    -   <http://www.codeschool.com/courses/try-r>\n",
    "    -   <http://www.datacamp.org>\n",
    "    -   <http://swirlstats.com/>\n",
    "    -   <http://r4ds.had.co.nz/>\n",
    "-   Getting help:\n",
    "    -   Documentation and tutorials:\n",
    "        <http://cran.r-project.org/other-docs.html>\n",
    "    -   Recommended R packages by topic:\n",
    "        <http://cran.r-project.org/web/views/>\n",
    "    -   Mailing list: <https://stat.ethz.ch/mailman/listinfo/r-help>\n",
    "    -   StackOverflow: <http://stackoverflow.com/questions/tagged/r>"
   ]
  }
 ],
 "metadata": {
        "kernelspec": {
            "display_name": "R",
            "language": "R",
            "name": "ir"
        },
        "language_info": {
            "codemirror_mode": "r",
            "file_extension": ".r",
            "mimetype": "text/x-r-source",
            "name": "R",
            "pygments_lexer": "r",
            "version": "3.2.3"
        }
    },
 "nbformat": 4,
 "nbformat_minor": 2
}
