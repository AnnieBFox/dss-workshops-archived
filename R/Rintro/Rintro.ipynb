{
 "cells": [
  {
   "cell_type": "raw",
   "metadata": {},
   "source": [
    "---\n",
    "title: \"Introduction to R workshop notes\"\n",
    "always_allow_html: yes\n",
    "output: \n",
    "  html_document:\n",
    "    highlight: tango\n",
    "    toc: true\n",
    "    toc_float:\n",
    "      collapsed: true\n",
    "---"
   ]
  },
  {
   "cell_type": "code",
   "execution_count": null,
   "metadata": {
    "hide_input": true,
    "results": "'hide'"
   },
   "outputs": [],
   "source": [
    "options(max.print = 100)\n",
    "knitr::opts_chunk$set(message = FALSE)"
   ]
  },
  {
   "cell_type": "markdown",
   "metadata": {
    "lines_to_next_cell": 0
   },
   "source": [
    "Welcome\n",
    "========\n",
    "\n",
    "Materials and setup \n",
    "-------------------\n",
    "\n",
    "**NOTE: skip this section if you are not running R locally** (e.g., if you are\n",
    "running R in your browser using a remote Jupyter server)\n",
    "\n",
    "You should have R installed --if not:\n",
    "\n",
    "-   Download and install R from http://cran.r-project.org\n",
    "-   Download and install RStudio from https://www.rstudio.com/products/rstudio/download/#download\n",
    "\n",
    "Notes and examples for this workshop are available at \n",
    "[](http://tutorials.iq.harvard.edu/R/Rintro/Rintro.html)\n",
    "\n",
    "Start RStudio create a new project:\n",
    "-   On Windows click the start button and search for rstudio. On Mac\n",
    "    RStudio will be in your applications folder.\n",
    "-   In Rstudio go to `File -> New Project`.\n",
    "-   Choose `New Directory` and `New Project`.\n",
    "-   Choose a name and location for your new project directory.\n",
    "\n",
    "Workshop goals and approach\n",
    "---------------------------\n",
    "\n",
    "In this workshop you will\n",
    "\n",
    "-  learn R language basics and common idioms,\n",
    "-  learn about the R package ecosystem,\n",
    "-  practice reading files and manipulating data in R\n",
    "\n",
    "A more general goal is to get you comfortable with R so that it seems less scary and mystifying than it perhaps does now. Note that this is by no means a complete or thorough introduction to R! It's just enough to get you started.\n",
    "\n",
    "This workshop is relatively informal, example-oriented, and hands-on. We won't spend much time examining language features in detail. Instead we will work through an example, and learn some things about the R language and environment along the way.\n",
    "\n",
    "As an example project we will analyze the popularity of baby names in the US from 1996 through 2015. Among the questions we will use R to answer are:\n",
    "\n",
    "-  How many children were named \"Jack\" or \"Jill\" in 1996?\n",
    "-  In which year was the name \"Ashley\" the most popular?\n",
    "-  What are the most popular names overall? For girls? For Boys?\n",
    "-  How many children were born each year?\n",
    "\n",
    "What is R?\n",
    "----------\n",
    "\n",
    "R is a *programming language designed for statistical computing*.\n",
    "Notable characteristics include:\n",
    "\n",
    "-   Vast capabilities, wide range of statistical and graphical\n",
    "    techniques\n",
    "-   Very popular in academia, growing popularity in business:\n",
    "    <http://r4stats.com/articles/popularity/>\n",
    "-   Written primarily by statisticians\n",
    "-   FREE (no monetary cost and open source)\n",
    "-   Excellent community support: mailing list, blogs, tutorials\n",
    "-   Easy to extend by writing new functions\n",
    "\n",
    "Whatever you're trying to do, you're probably not the first to try doing\n",
    "it R. Chances are good that someone has already written a package for\n",
    "that.\n",
    "\n",
    "Graphical User Interfaces (GUIs)\n",
    "================================\n",
    "\n",
    "There are many different ways you can interact with R. See the\n",
    "[Data Science Tools workshop notes](http://tutorials.iq.harvard.edu/DataScienceTools/DataScienceTools.html) \n",
    "for details.\n",
    "\n",
    "For this workshop I encourage you to use RStudio; it is a good\n",
    "R-specific IDE that mostly just works.\n",
    "\n",
    "Launch RStudio (skip if not using Rstudio)\n",
    "------------------------------------------\n",
    "**Note: skip this section if you are not using Rstudio (e.g., if you are running\n",
    "these examples in a Jupyter notebook).**\n",
    "\n",
    "-   Start the RStudio program\n",
    "-   In RStudio, go to **File =&gt; New File =&gt R Script**\n",
    "\n",
    "The window in the upper-left is your R script. This is where you will\n",
    "write instructions for R to carry out.\n",
    "\n",
    "The window in the lower-left is the R console. This is where results\n",
    "will be displayed.\n",
    "\n",
    "Exercise 0\n",
    "----------\n",
    "\n",
    "The purpose of this exercise is to give you an opportunity to explore\n",
    "the interface provided by RStudio (or whichever GUI you've decided to\n",
    "use). You may not know how to do these things; that's fine! This is an\n",
    "opportunity to figure it out.\n",
    "\n",
    "Also keep in mind that we are living in a golden age of tab completion.\n",
    "If you don't know the name of an R function, try guessing the first two\n",
    "or three letters and pressing TAB. If you guessed correctly the function\n",
    "you are looking for should appear in a pop up!\n",
    "\n",
    "-------------------------------------------\n",
    "\n",
    "1.  Try to get R to add 2 plus 2."
   ]
  },
  {
   "cell_type": "code",
   "execution_count": null,
   "metadata": {
    "lines_to_next_cell": 0
   },
   "outputs": [],
   "source": [
    "##"
   ]
  },
  {
   "cell_type": "markdown",
   "metadata": {
    "lines_to_next_cell": 0
   },
   "source": [
    "2.  Try to calculate the square root of 10."
   ]
  },
  {
   "cell_type": "code",
   "execution_count": null,
   "metadata": {
    "lines_to_next_cell": 0
   },
   "outputs": [],
   "source": [
    "##"
   ]
  },
  {
   "cell_type": "markdown",
   "metadata": {},
   "source": [
    "3.  R includes extensive documentation, including a file named \"An\n",
    "    introduction to R\". Try to find this help file."
   ]
  },
  {
   "cell_type": "markdown",
   "metadata": {},
   "source": [
    "Exercise 0 solution<span class=\"tag\" data-tag-name=\"prototype\"></span>\n",
    "----------------------------------------------------------------------\n"
   ]
  },
  {
   "cell_type": "code",
   "execution_count": null,
   "metadata": {
    "lines_to_next_cell": 2,
    "purl": false
   },
   "outputs": [],
   "source": [
    "## 1. 2 plus 2\n",
    "2 + 2\n",
    "## or\n",
    "sum(2, 2)\n",
    "\n",
    "## 2. square root of 10:\n",
    "sqrt(10)\n",
    "## or\n",
    "10^(1/2)\n",
    "\n",
    "\n",
    "## 3. Find \"An Introduction to R\".\n",
    "\n",
    "## Go to the main help page by running 'help.start() or using the GUI\n",
    "## menu, find and click on the link to \"An Introduction to R\".\n"
   ]
  },
  {
   "cell_type": "markdown",
   "metadata": {},
   "source": [
    "R basics\n",
    "========"
   ]
  },
  {
   "cell_type": "markdown",
   "metadata": {},
   "source": [
    "Function calls\n",
    "---------\n",
    "\n",
    "The general form for calling R functions is"
   ]
  },
  {
   "cell_type": "code",
   "execution_count": null,
   "metadata": {
    "eval": false
   },
   "outputs": [],
   "source": [
    "## FunctionName(arg.1 = value.1, arg.2 = value.2, ..., arg.n - value.n)"
   ]
  },
  {
   "cell_type": "markdown",
   "metadata": {},
   "source": [
    "Arguments can be matched by name; unnamed arguments will be matched by position.\n",
    "\n",
    "Assignment\n",
    "----------\n",
    "\n",
    "Values can be assigned names and used in subsequent operations\n",
    "\n",
    "-   The `<-` operator (less than followed by a dash) is used to save\n",
    "    values\n",
    "-   The name on the left gets the value on the right."
   ]
  },
  {
   "cell_type": "code",
   "execution_count": null,
   "metadata": {},
   "outputs": [],
   "source": [
    "sqrt(10) ## calculate square root of 10; result is not stored anywhere\n",
    "x <- sqrt(10) # assign result to a variable named x"
   ]
  },
  {
   "cell_type": "markdown",
   "metadata": {},
   "source": [
    "Asking R for help\n",
    "---------------------\n",
    "\n",
    "You can ask R for help using the `help` function, or the `?` shortcut."
   ]
  },
  {
   "cell_type": "code",
   "execution_count": null,
   "metadata": {},
   "outputs": [],
   "source": [
    "help(help)"
   ]
  },
  {
   "cell_type": "markdown",
   "metadata": {},
   "source": [
    "The `help` function can be used to look up the documentation for a function, or\n",
    "to look up the documentation to a package. We can learn how to use the `stats`\n",
    "package by reading its documentation like this:"
   ]
  },
  {
   "cell_type": "code",
   "execution_count": null,
   "metadata": {
    "eval": false,
    "lines_to_next_cell": 2
   },
   "outputs": [],
   "source": [
    "help(package = \"stats\")"
   ]
  },
  {
   "cell_type": "markdown",
   "metadata": {},
   "source": [
    "Getting data into R\n",
    "===================\n",
    "\n",
    "R has data reading functionality built-in -- see e.g.,\n",
    "`help(read.table)`. However, faster and more robust tools are\n",
    "available, and so to make things easier on ourselves we will use a\n",
    "*contributed package* called `readr` instead. This requires that we\n",
    "learn a little bit about packages in R.\n",
    "\n",
    "Installing and using R packages\n",
    "----------------------------------------------------\n",
    "\n",
    "A large number of contributed packages are available. If you are\n",
    "looking for a package for a specific task,\n",
    "https://cran.r-project.org/web/views/ and https://r-pkg.org are good\n",
    "places to start.\n",
    "\n",
    "You can install a package in R using the `install.packages()`\n",
    "function. Once a package is installed you may use the `library`\n",
    "function to attach it so that it can be used."
   ]
  },
  {
   "cell_type": "code",
   "execution_count": null,
   "metadata": {},
   "outputs": [],
   "source": [
    "## install.packages(\"readr\")\n",
    "library(readr)"
   ]
  },
  {
   "cell_type": "markdown",
   "metadata": {},
   "source": [
    "Readers for common file types\n",
    "-----------------------------\n",
    "\n",
    "In order to read data from a file, you have to know what kind of file\n",
    "it is. The table below lists functions that can import data from\n",
    "common plain-text formats.\n",
    "\n",
    "| Data Type                 | Function        |\n",
    "| ------------------------- | --------------- |\n",
    "| comma separated           | `read_csv()`    |\n",
    "| tab separated             | `read_delim()`  |\n",
    "| other delimited formats   | `read_table()`  |\n",
    "| fixed width               | `read_fwf()`    |\n",
    "\n",
    "**Note** You may be confused by the existence of similar functions,\n",
    "e.g., `read.csv` and `read.delim`. These are legacy functions that\n",
    "tend to be slower and less robust than the `readr` functions. One way\n",
    "to tell them apart is that the faster more robust versions use\n",
    "underscores in their names (e.g., `read_csv`) while the older\n",
    "functions us dots (e.g., `read.csv`). My advice is to use the more\n",
    "robust newer versions, i.e., the ones with underscores.\n",
    "\n",
    "Baby names data\n",
    "---------------\n",
    "\n",
    "The examples in this workshop use the baby names data provided by the\n",
    "governments of the United States and the United Kingdom. A cleaned and\n",
    "merged version of these data is available at\n",
    "`http://tutorials.iq.harvard.edu/data/babyNames.csv`."
   ]
  },
  {
   "cell_type": "markdown",
   "metadata": {
    "lines_to_next_cell": 0
   },
   "source": [
    "Exercise 1: Reading data\n",
    "----------\n",
    "\n",
    "The purpose of this exercise is to practice reading data into R.\n",
    "\n",
    "1.  Open the help page for the `read_csv` function. How can you limit\n",
    "    the number of rows to be read in?"
   ]
  },
  {
   "cell_type": "code",
   "execution_count": null,
   "metadata": {
    "lines_to_next_cell": 0
   },
   "outputs": [],
   "source": [
    "##"
   ]
  },
  {
   "cell_type": "markdown",
   "metadata": {
    "lines_to_next_cell": 0
   },
   "source": [
    "2.  Read just the first 10 rows of\n",
    "`http://tutorials.iq.harvard.edu/data/babyNames.csv`"
   ]
  },
  {
   "cell_type": "code",
   "execution_count": null,
   "metadata": {
    "lines_to_next_cell": 0
   },
   "outputs": [],
   "source": [
    "##"
   ]
  },
  {
   "cell_type": "markdown",
   "metadata": {
    "lines_to_next_cell": 0
   },
   "source": [
    "3.  Once you have successfully read in the first 10 rows, read the whole\n",
    "    file, assigning the result to the name `baby.names`."
   ]
  },
  {
   "cell_type": "code",
   "execution_count": null,
   "metadata": {},
   "outputs": [],
   "source": [
    "##"
   ]
  },
  {
   "cell_type": "markdown",
   "metadata": {},
   "source": [
    "Exercise 1 solution<span class=\"tag\" data-tag-name=\"prototype\"></span>\n",
    "----------------------------------------------------------------------"
   ]
  },
  {
   "cell_type": "code",
   "execution_count": null,
   "metadata": {
    "message": false,
    "purl": false,
    "results": false
   },
   "outputs": [],
   "source": [
    "## read ?read_csv\n",
    "\n",
    "## limit rows with nrows argument\n",
    "\n",
    "read_csv(\"http://tutorials.iq.harvard.edu/data/babyNames.csv\",\n",
    "         n_max = 10)\n",
    "## read all the data\n",
    "baby.names <- read_csv(\"http://tutorials.iq.harvard.edu/data/babyNames.csv\")"
   ]
  },
  {
   "cell_type": "markdown",
   "metadata": {},
   "source": [
    "Data Manipulation\n",
    "=================\n",
    "\n",
    "data.frame objects\n",
    "------------------\n",
    "\n",
    "Usually data read into R will be stored as a **data.frame**\n",
    "\n",
    "-   A data.frame is a list of vectors of equal length\n",
    "    -   Each vector in the list forms a column\n",
    "    -   Each column can be a differnt type of vector\n",
    "    -   Typically columns are variables and the rows are observations\n",
    "\n",
    "A data.frame has two dimensions corresponding to the number of rows and the\n",
    "number of columns (in that order)\n",
    "\n",
    "Tools for manipulating data.frame objects\n",
    "----------------------------------------------------\n",
    "\n",
    "R has decent data manipulation tools built-in -- see e.g.,\n",
    "`help(Extract)`. However, these tools are powerful and complex and\n",
    "often overwhelm beginners. To make things easier on ourselves we will\n",
    "use a *contributed package* called `dplyr` instead."
   ]
  },
  {
   "cell_type": "code",
   "execution_count": null,
   "metadata": {},
   "outputs": [],
   "source": [
    "## install.packages(\"dplyr\")\n",
    "library(dplyr)"
   ]
  },
  {
   "cell_type": "markdown",
   "metadata": {},
   "source": [
    "Checking imported data\n",
    "----------------------\n",
    "\n",
    "It is always a good idea to examine the imported data set--usually we\n",
    "want the results to be a `data.frame`"
   ]
  },
  {
   "cell_type": "code",
   "execution_count": null,
   "metadata": {},
   "outputs": [],
   "source": [
    "class(baby.names) # check to see that it os a data.frame"
   ]
  },
  {
   "cell_type": "markdown",
   "metadata": {},
   "source": [
    "We can get more information about R objects using the `glimpse` function."
   ]
  },
  {
   "cell_type": "code",
   "execution_count": null,
   "metadata": {},
   "outputs": [],
   "source": [
    "glimpse(baby.names) # structure"
   ]
  },
  {
   "cell_type": "code",
   "execution_count": null,
   "metadata": {},
   "outputs": [],
   "source": [
    "View(baby.names) # visually inspect"
   ]
  },
  {
   "cell_type": "markdown",
   "metadata": {},
   "source": [
    "Filter data.frame rows\n",
    "---------------------------------\n",
    "\n",
    "You can extract subsets of data.frames using `filter` to select rows\n",
    "meeting some condition."
   ]
  },
  {
   "cell_type": "code",
   "execution_count": null,
   "metadata": {},
   "outputs": [],
   "source": [
    "## rows where Name == \"jill\"\n",
    "filter(baby.names, Name == \"jill\")"
   ]
  },
  {
   "cell_type": "markdown",
   "metadata": {},
   "source": [
    "It is often useful to `arrange` the data to make it easier to see patterns. For example, we can see which years saw the most babies named \"Jill\":"
   ]
  },
  {
   "cell_type": "code",
   "execution_count": null,
   "metadata": {},
   "outputs": [],
   "source": [
    "jill <- filter(baby.names, Name == \"jill\")\n",
    "arrange(jill, Count)"
   ]
  },
  {
   "cell_type": "markdown",
   "metadata": {
    "lines_to_next_cell": 0
   },
   "source": [
    "We can combine conditons usine `&` (AND) and `|` (OR). For example, to find the number of babies named \"Jill\" or \"Jack\" born in 1996:"
   ]
  },
  {
   "cell_type": "code",
   "execution_count": null,
   "metadata": {},
   "outputs": [],
   "source": [
    "## rows where Year is 1996 and Name is either \"jill\" or \"jack\"\n",
    "filter(baby.names, Year == 1996 & (Name == \"jill\" | Name == \"jack\"))"
   ]
  },
  {
   "cell_type": "markdown",
   "metadata": {},
   "source": [
    "In the previous example we used `==` to filter rows. Other relational\n",
    "and logical operators are listed below.\n",
    "\n",
    " | Operator  | Meaning                   | \n",
    " | ----------| --------------------------| \n",
    " | `==`      | equal to                  | \n",
    " | `!=`      | not equal to              | \n",
    " | `>`       | greater than              | \n",
    " | `>=`      | greater than or equal to  | \n",
    " | `<`       | less than                 | \n",
    " | `<=`      | less than or equal to     | \n",
    " | `%in%`    | contained in              | \n",
    "\n",
    "These operators may be combined with `&` (and) or `|` (or)."
   ]
  },
  {
   "cell_type": "markdown",
   "metadata": {
    "lines_to_next_cell": 0
   },
   "source": [
    "Exercise 2: Data Extraction\n",
    "-----------------------------\n",
    "\n",
    "Read in the \"babyNames.csv\" file if you have not already done so,\n",
    "assigning the result to `baby.names`. The file is located at \"http://tutorials.iq.harvard.edu/data/babyNames.csv\"\n",
    "\n",
    "1.  Extract data for the name \"ashley\".  "
   ]
  },
  {
   "cell_type": "code",
   "execution_count": null,
   "metadata": {},
   "outputs": [],
   "source": [
    "##"
   ]
  },
  {
   "cell_type": "markdown",
   "metadata": {
    "lines_to_next_cell": 0
   },
   "source": [
    "2.  Arrange the \"ashley\" data you produced above by `Count`. In which year was Ashley most popular?\n",
    "\n",
    "3.  Restrict the previous extraction to include only years between 2000 and 2004."
   ]
  },
  {
   "cell_type": "code",
   "execution_count": null,
   "metadata": {
    "lines_to_next_cell": 2
   },
   "outputs": [],
   "source": [
    "##"
   ]
  },
  {
   "cell_type": "markdown",
   "metadata": {},
   "source": [
    "Exercise 2 solution<span class=\"tag\" data-tag-name=\"prototype\"></span>\n",
    "----------------------------------------------------------------------"
   ]
  },
  {
   "cell_type": "code",
   "execution_count": null,
   "metadata": {
    "purl": false
   },
   "outputs": [],
   "source": [
    "## 1. Extract data for the name \"ashley\".\n",
    "filter(baby.names, Name == \"ashley\")\n",
    "\n",
    "## 2. Arrange the \"ashley\" data you produced above by `Count` \n",
    "##    so that the year with the highest count is first. In \n",
    "##    which year was Ashley most popular?\n",
    "\n",
    "ashley <- filter(baby.names, Name == \"ashley\")\n",
    "arrange(ashley, desc(Count))\n",
    "\n",
    "## 3.  Restrict the previous extraction to include only \n",
    "##     years between 2000 and 2004.\n",
    "filter(baby.names,\n",
    "       Year >= 2000 &\n",
    "       Year <= 2004 &\n",
    "       Name == \"ashley\")"
   ]
  },
  {
   "cell_type": "markdown",
   "metadata": {},
   "source": [
    "Adding, removing, and modifying data.frame columns\n",
    "--------------------------------------------------\n",
    "\n",
    "You can modify data.frames using `mutate` function. It works like this:"
   ]
  },
  {
   "cell_type": "code",
   "execution_count": null,
   "metadata": {},
   "outputs": [],
   "source": [
    "baby.names <- mutate(baby.names, Thousands = Count/1000)\n",
    "baby.names"
   ]
  },
  {
   "cell_type": "markdown",
   "metadata": {},
   "source": [
    "Often one needs to replace values conditionally, as in the following example:"
   ]
  },
  {
   "cell_type": "code",
   "execution_count": null,
   "metadata": {},
   "outputs": [],
   "source": [
    "baby.names <- mutate(baby.names,\n",
    "                     Decade = case_when(Year < 2000 ~ \"1990's\",\n",
    "                                        Year < 2010 ~ \"2000's\",\n",
    "                                        Year < 2020 ~ \"2010's\"))\n",
    "\n",
    "head(baby.names)\n",
    "tail(baby.names)"
   ]
  },
  {
   "cell_type": "markdown",
   "metadata": {},
   "source": [
    "Operating by group\n",
    "---------------------\n",
    "It is often useful to perform operations on each group defined by one or more grouping variables. For example, if we wish to compare name popularity over time we may wish to compute the proportion of boys and girls given each name in each year. Using proportions instead of counts as a measure of popularity has the advantage of being independent of the number of children born in a particular year.\n",
    "\n",
    "The `dplyr` package makes it relatively easy to compute the proportion of boys and girls given each name in a particular year:"
   ]
  },
  {
   "cell_type": "code",
   "execution_count": null,
   "metadata": {},
   "outputs": [],
   "source": [
    "baby.names <- mutate(group_by(baby.names, Year, Sex),\n",
    "                     Proportion = Count/sum(Count))"
   ]
  },
  {
   "cell_type": "markdown",
   "metadata": {
    "lines_to_next_cell": 0
   },
   "source": [
    "Note that the data remains grouped until you change the groups by\n",
    "running `group_by` again or remove grouping information with\n",
    "`ungroup`.\n",
    "\n",
    "Exercise 3: Data manipulation\n",
    "-----------------------------\n",
    "\n",
    "Read in the `http://tutorials.iq.harvard.edu/data/babyNames.csv` \n",
    "file if you have not already done so, assigning the result to\n",
    "`baby.names`.\n",
    "\n",
    "1.  If you look at `unique(baby.names$Sex)` you'll notice that some\n",
    "    records indicate Male with `\"M\"`, while other records use\n",
    "    `\"Male\"`. Correct this by replacing `\"M\"` with `\"Male\"`."
   ]
  },
  {
   "cell_type": "code",
   "execution_count": null,
   "metadata": {},
   "outputs": [],
   "source": [
    "##"
   ]
  },
  {
   "cell_type": "markdown",
   "metadata": {
    "lines_to_next_cell": 0
   },
   "source": [
    "2.  Use `mutate` and `group_by` to create a column named \"Proportion\". Note that this step is exactly the same as shown in the demonstration. You can copy/paste that code if you like."
   ]
  },
  {
   "cell_type": "code",
   "execution_count": null,
   "metadata": {},
   "outputs": [],
   "source": [
    "##"
   ]
  },
  {
   "cell_type": "markdown",
   "metadata": {},
   "source": [
    "3.  Create a column named \"Popular\" containing `TRUE` in rows where \"Proportion\" is greater than 0.02 and a `FALSE` otherwise."
   ]
  },
  {
   "cell_type": "code",
   "execution_count": null,
   "metadata": {},
   "outputs": [],
   "source": [
    "##"
   ]
  },
  {
   "cell_type": "markdown",
   "metadata": {
    "lines_to_next_cell": 0
   },
   "source": [
    "4.  Filter the baby names data to display only the popular names."
   ]
  },
  {
   "cell_type": "code",
   "execution_count": null,
   "metadata": {
    "lines_to_next_cell": 2
   },
   "outputs": [],
   "source": [
    "##"
   ]
  },
  {
   "cell_type": "markdown",
   "metadata": {},
   "source": [
    "Exercise 3 solution<span class=\"tag\" data-tag-name=\"prototype\"></span>\n",
    "----------------------------------------------------------------------"
   ]
  },
  {
   "cell_type": "code",
   "execution_count": null,
   "metadata": {
    "purl": false
   },
   "outputs": [],
   "source": [
    "## 1.  If you look at `unique(baby.names$Sex)` you'll notice \n",
    "##     that some records indicate Male with `\"M\"`, while other \n",
    "##     records use `\"Male\"`. Correct this by replacing `\"M\"` \n",
    "##     with `\"Male\"`.\n",
    "\n",
    "baby.names <- mutate(ungroup(baby.names), \n",
    "                     Sex = case_when(Sex == \"M\" ~ \"Male\",\n",
    "                                     TRUE ~ Sex))\n",
    "\n",
    "# 2.  Use `mutate` and `group_by` to create a column named\n",
    "##    \"Proportion\". Note that this step is exactly the same\n",
    "##    as shown in the demonstration. You can copy/paste that\n",
    "##    code if you like.\n",
    "\n",
    "baby.names <- mutate(group_by(baby.names, Year, Sex),\n",
    "                     Proportion = Count/sum(Count))\n",
    "\n",
    "## 3.  Create a column named \"Popular\" containing `TRUE` in \n",
    "##     rows where \"Proportion\" is greater than 0.02 and a `FALSE` \n",
    "##     otherwise.\n",
    "\n",
    "baby.names <- mutate(baby.names, \n",
    "                     Popular = case_when(Proportion > 0.02 ~ TRUE,\n",
    "                                         Proportion <= 0.02 ~ FALSE))\n",
    "## or more compactly and directly:\n",
    "baby.names <- mutate(baby.names,\n",
    "                     Popular = Proportion > 0.02)\n",
    "\n",
    "# 4.  Filter the baby names data to display only the popular names.\n",
    "\n",
    "filter(baby.names, Popular)\n"
   ]
  },
  {
   "cell_type": "markdown",
   "metadata": {},
   "source": [
    "Grouping and Aggregation\n",
    "--------------------------\n",
    "\n",
    "So far we've seen that \"Jacob\" and \"Michael\" tend to be\n",
    "popular names. That isn't very satisfying, because it leaves us\n",
    "wanting to know which girls names are popular, and perhaps how\n",
    "popularity has changed over time. To answer these questions we again\n",
    "need to operate on groups within the data rather than on the whole data\n",
    "structure at once. \n",
    "\n",
    "Grouping can be useful when modifying a data.frame with `mutate` or\n",
    "extracting subsets with `filter`, but it really shines when combined\n",
    "with `summarize`. For example, we can find the most popular names of\n",
    "each decade using `group_by`, `summarize`, and `filter`:"
   ]
  },
  {
   "cell_type": "code",
   "execution_count": null,
   "metadata": {},
   "outputs": [],
   "source": [
    "bn.by.decade <- summarize(group_by(baby.names, Decade, Sex, Name),\n",
    "                          Count = sum(Count))\n",
    "\n",
    "filter(group_by(bn.by.decade, Decade, Sex),\n",
    "                     Count == max(Count))"
   ]
  },
  {
   "cell_type": "markdown",
   "metadata": {},
   "source": [
    "In the previous example we used `sum` and `max`, two examples of basic statistics functions in R. Other basic statistics functions include:\n",
    "-   `mean`\n",
    "-   `median`\n",
    "-   `sd`\n",
    "-   `var`\n",
    "-   `min`\n",
    "-   `quantile`\n",
    "-   `length`\n",
    "\n",
    "Exporting Data\n",
    "--------------\n",
    "\n",
    "Now that we have made some changes to our data set, we might want to\n",
    "save those changes to a file."
   ]
  },
  {
   "cell_type": "code",
   "execution_count": null,
   "metadata": {},
   "outputs": [],
   "source": [
    "# write data to a .csv file\n",
    "write_csv(baby.names, \"babyNames.csv\")\n",
    "\n",
    "# write data to an R file\n",
    "write_rds(baby.names, \"babyNames.rds\")"
   ]
  },
  {
   "cell_type": "markdown",
   "metadata": {},
   "source": [
    "Saving and loading R workspaces\n",
    "-------------------------------\n",
    "\n",
    "In addition to importing individual datasets, R can save and load entire\n",
    "workspaces"
   ]
  },
  {
   "cell_type": "code",
   "execution_count": null,
   "metadata": {},
   "outputs": [],
   "source": [
    "ls() # list objects in our workspace\n",
    "save.image(file=\"myWorkspace.RData\") # save workspace \n",
    "rm(list=ls()) # remove all objects from our workspace \n",
    "ls() # list stored objects to make sure they are deleted\n",
    "\n",
    "## Load the \"myWorkspace.RData\" file and check that it is restored\n",
    "load(\"myWorkspace.RData\") # load myWorkspace.RData\n",
    "ls() # list objects"
   ]
  },
  {
   "cell_type": "markdown",
   "metadata": {
    "lines_to_next_cell": 0
   },
   "source": [
    "Exercise 4: Group by and summarize\n",
    "----------\n",
    "\n",
    "1.  Calculate the total number of children born."
   ]
  },
  {
   "cell_type": "code",
   "execution_count": null,
   "metadata": {},
   "outputs": [],
   "source": []
  },
  {
   "cell_type": "markdown",
   "metadata": {
    "lines_to_next_cell": 0
   },
   "source": [
    "2.  Calculate the number of boys and girls born each year. Assign the result\n",
    "    to the name `births.by.year`."
   ]
  },
  {
   "cell_type": "code",
   "execution_count": null,
   "metadata": {},
   "outputs": [],
   "source": [
    "##"
   ]
  },
  {
   "cell_type": "markdown",
   "metadata": {
    "lines_to_next_cell": 0
   },
   "source": [
    "3.  How many children were born in 2004?"
   ]
  },
  {
   "cell_type": "code",
   "execution_count": null,
   "metadata": {
    "lines_to_next_cell": 0
   },
   "outputs": [],
   "source": [
    "##"
   ]
  },
  {
   "cell_type": "markdown",
   "metadata": {},
   "source": [
    "Exercise 4 solution<span class=\"tag\" data-tag-name=\"prototype\"></span>\n",
    "----------------------------------------------------------------------"
   ]
  },
  {
   "cell_type": "code",
   "execution_count": null,
   "metadata": {
    "purl": false
   },
   "outputs": [],
   "source": [
    "## 1.  Calculate the total number of children born.\n",
    "baby.names <- ungroup(baby.names)\n",
    "summarize(baby.names, Total = sum(Count))\n",
    "\n",
    "## 2.  Calculate the number of boys and girls born each year.\n",
    "##     Assign the result\n",
    "##     to the name `births.by.year`.\n",
    "##     to the name `births.by.year`.\n",
    "births.by.year <- summarize(group_by(baby.names, Year, Sex),\n",
    "                            Count = sum(Count))\n",
    "births.by.year\n",
    "\n",
    "## 3. How many children were born in 2004?\n",
    "summarize(filter(births.by.year, Year == 2004),\n",
    "          total = sum(Count))"
   ]
  },
  {
   "cell_type": "markdown",
   "metadata": {},
   "source": [
    "Basic graphs\n",
    "============\n",
    "\n",
    "R has decent plotting tools built-in -- see e.g., `help(plot)`.\n",
    "However, To make things easier on ourselves we will use a *contributed\n",
    "package* called `ggplot2` instead.\n"
   ]
  },
  {
   "cell_type": "code",
   "execution_count": null,
   "metadata": {},
   "outputs": [],
   "source": [
    "## install.packages(\"ggplot2\")\n",
    "library(ggplot2)"
   ]
  },
  {
   "cell_type": "markdown",
   "metadata": {
    "lines_to_next_cell": 0
   },
   "source": [
    "First, we'll plot the number of boys and girls born each year."
   ]
  },
  {
   "cell_type": "code",
   "execution_count": null,
   "metadata": {},
   "outputs": [],
   "source": [
    "qplot(Year, Count, color = Sex,\n",
    "     geom = \"line\",\n",
    "     data = births.by.year)"
   ]
  },
  {
   "cell_type": "markdown",
   "metadata": {},
   "source": [
    "Next, we'll filter out the most popular girls names and plot their\n",
    "popularity over time."
   ]
  },
  {
   "cell_type": "code",
   "execution_count": null,
   "metadata": {},
   "outputs": [],
   "source": [
    "popular.girls <- filter(group_by(baby.names, Year, Sex),\n",
    "                       Sex == \"Female\" & Proportion == max(Proportion))\n",
    "\n",
    "qplot(Year, Proportion, color = Name,\n",
    "     geom = \"line\",\n",
    "     data = filter(baby.names,\n",
    "                   Sex == \"Female\" & Name %in% popular.girls$Name))"
   ]
  },
  {
   "cell_type": "markdown",
   "metadata": {},
   "source": [
    "Exercise 5: Popularity of the most popular names\n",
    "----------\n",
    "\n",
    "In this exercise we will plot trends in the proportion of boys and girls given the most popular name each year.\n",
    "\n",
    "1.  Filter the baby.names data, retaining only the most popular girl\n",
    "    and boy names for each year."
   ]
  },
  {
   "cell_type": "code",
   "execution_count": null,
   "metadata": {},
   "outputs": [],
   "source": [
    "##"
   ]
  },
  {
   "cell_type": "markdown",
   "metadata": {},
   "source": [
    "2.  Plot proportion over time to see changes in the proportion of\n",
    "    who chose the most popular name of the year."
   ]
  },
  {
   "cell_type": "code",
   "execution_count": null,
   "metadata": {},
   "outputs": [],
   "source": [
    "##"
   ]
  },
  {
   "cell_type": "markdown",
   "metadata": {},
   "source": [
    "Exercise 5 solution<span class=\"tag\" data-tag-name=\"prototype\"></span>\n",
    "----------------------------------------------------------------------"
   ]
  },
  {
   "cell_type": "code",
   "execution_count": null,
   "metadata": {
    "purl": false
   },
   "outputs": [],
   "source": [
    "### 1.  Filter the baby.names data, retaining only the most \n",
    "##      popular girl and boy names for each year.\n",
    "\n",
    "most.popular <- filter(group_by(baby.names, Year, Sex),\n",
    "                       Proportion == max(Proportion))\n",
    "\n",
    "\n",
    "## 2.  Plot proportion over time to see changes in the proportion\n",
    "##     who chose the most popular name of the year.\n",
    "\n",
    "qplot(data = most.popular, \n",
    "      x = Year, \n",
    "      y = Proportion, \n",
    "      color = Sex, \n",
    "      geom = \"line\")"
   ]
  },
  {
   "cell_type": "markdown",
   "metadata": {},
   "source": [
    "Wrap-up\n",
    "=======\n",
    "\n",
    "Help us make this workshop better!\n",
    "----------------------------------\n",
    "\n",
    "Please take a moment to fill out a very short feedback form. These\n",
    "workshops exist for you -- tell us what you need!\n",
    "<http://tinyurl.com/R-intro-feedback>\n",
    "\n",
    "Additional resources\n",
    "--------------------\n",
    "\n",
    "-   IQSS workshops:\n",
    "    <http://projects.iq.harvard.edu/rtc/filter_by/workshops>\n",
    "-   IQSS statistical consulting: <http://dss.iq.harvard.edu>\n",
    "-   Software (all free!):\n",
    "    -   R and R package download: <http://cran.r-project.org>\n",
    "    -   Rstudio download: <http://rstudio.org>\n",
    "    -   ESS (emacs R package): <http://ess.r-project.org/>\n",
    "-   Online tutorials\n",
    "    -   <http://www.codeschool.com/courses/try-r>\n",
    "    -   <http://www.datacamp.org>\n",
    "    -   <http://swirlstats.com/>\n",
    "    -   <http://r4ds.had.co.nz/>\n",
    "-   Getting help:\n",
    "    -   Documentation and tutorials:\n",
    "        <http://cran.r-project.org/other-docs.html>\n",
    "    -   Recommended R packages by topic:\n",
    "        <http://cran.r-project.org/web/views/>\n",
    "    -   Mailing list: <https://stat.ethz.ch/mailman/listinfo/r-help>\n",
    "    -   StackOverflow: <http://stackoverflow.com/questions/tagged/r>\n",
    "-   Coming from...\n",
    "    Stata\n",
    "    :   <http://www.princeton.edu/~otorres/RStata.pdf>\n",
    "    SAS/SPSS\n",
    "    :   <http://www.et.bs.ehu.es/~etptupaf/pub/R/RforSAS&SPSSusers.pdf>\n",
    "   matlab\n",
    "   :   <http://www.math.umaine.edu/~hiebeler/comp/matlabR.pdf>\n",
    "    Python\n",
    "    :   <http://mathesaurus.sourceforge.net/matlab-python-xref.pdf>"
   ]
  }
 ],
 "metadata": {
  "jupytext_format_version": "1.0",
  "jupytext_formats": "ipynb",
  "kernelspec": {
   "display_name": "R",
   "language": "R",
   "name": "ir"
  },
  "language_info": {
   "codemirror_mode": "r",
   "file_extension": ".r",
   "mimetype": "text/x-r-source",
   "name": "R",
   "pygments_lexer": "r",
   "version": "3.5.1"
  }
 },
 "nbformat": 4,
 "nbformat_minor": 2
}
