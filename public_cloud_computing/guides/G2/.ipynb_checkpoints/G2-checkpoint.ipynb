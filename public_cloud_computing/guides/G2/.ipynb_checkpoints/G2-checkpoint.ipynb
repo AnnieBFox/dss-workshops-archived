{
 "cells": [
  {
   "cell_type": "markdown",
   "metadata": {},
   "source": [
    "# Guide 2: Public Cloud Storage with Microsoft Azure"
   ]
  },
  {
   "cell_type": "markdown",
   "metadata": {},
   "source": [
    "Public Cloud storage is the service that allow you to keep data on a remote server. You can use your data but instead of querying them from documents saved in your hardware, they are secure in another place depending from the location you choose for your Azure Storage Account.  \n",
    "It is somehow expensive (**TODO** explain).  \n",
    "You can communicate how (**TODO** explain). \n",
    "\n",
    "What is storage\n",
    "\n",
    "In this tutorial we are going to explain: a), b) , c)\n",
    "\n",
    "*TODO Point out some resources and explain why they are good (add links)."
   ]
  },
  {
   "cell_type": "markdown",
   "metadata": {},
   "source": [
    "# Table of Contents\n",
    "* [Guide 2: Public Cloud Storage with Microsoft Azure](#Guide-2:-Public-Cloud-Storage-with-Microsoft-Azure)\n",
    "    * [Cloud storage versus cloud computing](#Cloud-storage-versus-cloud-computing)\n",
    "    * [Azure Storage Account](#Azure-Storage-Account)\n",
    "        * [Concepts](#Concepts)\n",
    "    \n",
    "    * [Use Azure Storage Account with Storage Explorer](#Upload-file-to-Azure-Blob-Storage-with-Storage-Explorer)\n",
    "        * [Storage Explorer set up](#Storage-Explorer-set-up)\n",
    "        * [Create containers and and blob to upload file with Storage Explorer](# broken)\n",
    "    \n",
    "    * [Use Azure Storage Account with API](# broken)\n",
    "        * [Explore file inside Azure Blob Storage](# broken)\n",
    "        * [Create containers and and blob to upload file with Storage Explorer](# broken)\n",
    "\n",
    "    * [Recap](#Recap)\n",
    "        *  [What you have learnt](#What-you-have-learnt)\n",
    "        *  [What you will learn next guide](#What-you-will-learn-next-guide)"
   ]
  },
  {
   "cell_type": "markdown",
   "metadata": {},
   "source": [
    "## Cloud storage versus cloud computing\n",
    "\n",
    "Terms such as “cloud storage” and “cloud computing” are oftentimes used interchangeably. One may be tempted to believe they have the same meaning, but this is far from the truth. Indeed, they are actually different concepts eventhough they derived from the same source the cloud. The public cloud storage is a system that allows you to store data on the Internet, as you would save on your own computer. Some popular examples are Google Drive, DropBox, or iCloud,  for which the definition of cloud storage remains the same. Cloud computing, on the other hand, is used to work on and complete specified projects. Cloud computing is linked with cloud storage in that you have to move data to the cloud storage before you can make use of cloud computing systems. In the next part of the guide we are introducing Microsoft's object storage solution called Azure Blob storage and the one used for Machine Learning Studio (**to check:** they have different uses, not sure yet if it is just to different ways of accessing the same cloud storage)."
   ]
  },
  {
   "cell_type": "markdown",
   "metadata": {},
   "source": [
    "## Azure Storage Account\n",
    "\n",
    "Azure Blob storage is Microsoft's solution for the cloud and it stores massive amounts of unstructured data, such as text or binary data. Blob storage is ideal for serving images or documents directly to a browser, for storing files for distributed access and in our case for analysis by an on-premises or Azure-hosted service. Objects in Blob storage can be accessed from anywhere in the world via HTTP or HTTPS. We are going to access blobs storage via URLs using the Azure Storage REST API. \n",
    "\n",
    "### Concepts\n",
    "\n",
    "As detailed in the Azure Blob Storage documentation, the service uses three resources [Blob service concepts](https://docs.microsoft.com/en-us/azure/storage/blobs/storage-blobs-introduction#blob-service-concepts): your storage account, the containers in the account, and the blobs in a container. The following diagram shown in the  the relationship between these resources.\n",
    "\n",
    "![public_cloud_storage_concepts](img/public_cloud_storage_concepts.png)\n",
    "\n",
    "**to check:** image size change image to be similar to  (use CSS)\n",
    "\n",
    " - The **Storage Account** provides a unique namespace to store and access your Azure Storage data objects. All objects in a storage account are billed together as a group. By default, the data in your account is available only to you.\n",
    " - The **Container** provides a grouping of a set of blobs. All blobs must be in a container. It is similar to a folder in a file system.\n",
    " - The **Blob**, Binary Large OBject (BLOB), is a collection of binary data stored as a single entity in a database management system [[wiki/Binary_large_object](https://en.wikipedia.org/wiki/Binary_large_object)]. Blobs are typically images, audio or other multimedia objects, though sometimes binary executable code is stored as a blob. Azure Storage offers *three types of blobs*: block blobs, page blobs, and append blobs. Block blobs are ideal for storing text or binary files, such as documents and media files.\n",
    "\n",
    "### Upload file to Azure Blob Storage with Storage Explorer\n",
    "\n",
    "Before to upload files to the storage we need to download and install Storage Explore an application that allows users to upload blobs to a container in the public cloud. Follow the to launch the appliction steps:\n",
    "\n",
    "- Go to https://azure.microsoft.com/en-us/features/storage-explorer/ and download Storage Explore for your operating system\n",
    "\n",
    "- Install and launch the application\n",
    "\n",
    "- Connect to Azure storage using account name and key ([see point 6 from the link](#Login-to-Azure-Dashboard-and-create-your-first-service))\n",
    "\n",
    "![public_cloud_upload_file_ABS](img/public_cloud_upload_file_ABS.png)\n",
    "\n",
    "- Create a blob container (from storage explorer under your storage service, right clik on Blob Containers icon)\n",
    "\n",
    "![Add images](figs/name.png)\n",
    "\n",
    "- Give the container a unique name (e.g. cloudcomputingcontainer)\n",
    "\n",
    "![Add images](figs/name.png)\n",
    "\n",
    "- Right click on new container, select Set Public Access Level, and apply Public read access for container and blobs (no need for a key to access content)\n",
    "\n",
    "![Add images](figs/name.png)\n",
    "\n",
    "- Upload files to the container clicking on icon (download from github repo?)\n",
    "\n",
    "![Add images](figs/name.png)\n",
    "\n",
    "- Select file and blob type (what are other type)\n",
    "\n",
    "![Add images](figs/name.png)"
   ]
  },
  {
   "cell_type": "markdown",
   "metadata": {},
   "source": [
    "## Blob Container with Storage Explorer\n",
    "\n",
    "### Set your first blob container\n",
    "\n",
    "\n",
    "10. Go to https://azure.microsoft.com/en-us/features/storage-explorer/ and download Storage Explore for your operating system\n",
    "11. Install and launch the application\n",
    "12. Connect to Azure storage using account name and key (from point 9)\n",
    "13. Create a blob container (from storage explorer under your storage service, right clik on Blob Containers icon)\n",
    "14. Give the containe a unique name (e.g. cloudcomputingcontainer)\n",
    "\n",
    "### Upload blobs to the container\n",
    "\n",
    "15. Right click on new container, select Set Public Access Level, and apply Public read access for container and blobs (no need for a key to access content)\n",
    "16. Upload files to the container clicking on icon (download from github repo?)\n",
    "17. Select file and blob type\n",
    "\n",
    "### Read files in the Container? \n",
    "\n",
    "Is it possible?"
   ]
  },
  {
   "cell_type": "markdown",
   "metadata": {},
   "source": [
    "#### Useful links\n",
    "\n",
    "- Azure Storage documentation: https://docs.microsoft.com/en-us/azure/storage/ #here you can see language available\n",
    "\n",
    "- Azure Storage princing:https://azure.microsoft.com/en-us/pricing/details/storage/\n",
    "\n",
    "- Azure Storage quickstart: https://docs.microsoft.com/en-us/azure/storage/blobs/storage-quickstart-blobs-python\n",
    "\n",
    "- Azure Storage SDK: https://github.com/Azure/azure-storage-python/tree/master/azure-storage-blob\n",
    "\n",
    "#### other resources:\n",
    "- https://docs.microsoft.com/en-us/azure/storage/blobs/storage-quickstart-blobs-python\n",
    "\n",
    "-https://github.com/squillace/staging/blob/master/articles/storage/storage-python-how-to-use-blob-storage.md\n",
    "\n",
    "#### Community: active community to try stuff (show how to navigate, select example for Python)\n",
    "\n",
    "https://azure.microsoft.com/en-us/resources/samples/?sort=0\n",
    "\n",
    "https://github.com/Azure/azure-storage-python/tree/master/azure-storage-blob\n",
    "\n",
    "https://github.com/Azure/azure-sdk-for-python"
   ]
  },
  {
   "cell_type": "markdown",
   "metadata": {},
   "source": [
    "## Blob Container with Python\n",
    "\n",
    "### Read Blob with your notebook\n",
    "\n",
    "##### Motivate why we should do this\n",
    "\n",
    "To access the files in the container you will need to:\n",
    "- install Azure software development kit (SDK) for python: \n",
    "    - pip install azure. \n",
    "    - Documentation go to  https://github.com/Azure/azure-storage-python/tree/master/azure-storage-blob #add img mac/windows/linux\n",
    "- import BlockBlobService module from the Azure SDK \n",
    "- retrieve storage a) name, b) key, and c) container name \n",
    "- instantiate the BlockBlobService object (IMPORTANT)\n",
    "- call method list_blob() to retrieve a list of the file you uploaded\n",
    "- iterate over the list generator to store BLoBs' name and URLs"
   ]
  },
  {
   "cell_type": "code",
   "execution_count": null,
   "metadata": {
    "collapsed": true
   },
   "outputs": [],
   "source": [
    "#from azure library import methods to use storage \n",
    "from azure.storage.blob import BlockBlobService\n",
    "\n",
    "#retrive your keys\n",
    "import pickle\n",
    "with open('../keys/azure_services_keys.json', 'rb') as handle:\n",
    "    azure_keys = pickle.load(handle)\n",
    "\n",
    "#select storage account name and API key from keys\n",
    "storage_name = azure_keys['STORAGE']['NAME']\n",
    "storage_key = azure_keys['STORAGE']['API_KEY']\n",
    "\n",
    "#copy the container name \n",
    "container_name = 'mynamecontainer' #add your account name\n",
    "\n",
    "#######################\n",
    "\n",
    "#TO FIND CONTAINER NAME:\n",
    "#go to Storage Explorer > your_storage > blob containers > your_container\n",
    "#go to Dashboard > your_storage > Storage Explorer (preview) > your_container"
   ]
  },
  {
   "cell_type": "code",
   "execution_count": null,
   "metadata": {},
   "outputs": [],
   "source": [
    "#instanciate a BLoB service object\n",
    "blob_service = BlockBlobService(storage_name, storage_key)\n",
    "\n",
    "#generate list of files uploaded in your container\n",
    "uploaded_file = blob_service.list_blobs(container_name)\n",
    "\n",
    "#set BLoB url format\n",
    "blob_url_format = 'https://{0}.blob.core.windows.net/{1}/{2}'\n",
    "\n",
    "#store BLoBs' name and urls in a container\n",
    "blob_name_list = []\n",
    "blob_url_list = []\n",
    "for blob in uploaded_file:\n",
    "    blob_name_list.append(blob.name)\n",
    "    blob_url_list.append(blob_url_format.format(blob_service.account_name, blob_container_name, blob.name))\n",
    "print(\"This is the first file name: {}\".format(blob_name_list[0]))\n",
    "print(\"This is the url of the first file uploaded in the container:\\n \\t{}\".format(blob_url_list[0]))"
   ]
  },
  {
   "cell_type": "markdown",
   "metadata": {},
   "source": [
    "### Display Blob\n",
    "\n",
    "Let us now print the first image in the blob list. First we have to read the image from the blob storage as byte array and then plot it. To display images from containers into notebook do the following:\n",
    "\n",
    "- import libraries to display image\n",
    "- call method get_blob_to_bytes() to downloads a blob as an array of bytes (it takes blob service instantied before and a blob name as input)\n",
    "- store bytes into local memory (use method .content to extract byte stream from object)\n",
    "- read bytes and display image in the notebook"
   ]
  },
  {
   "cell_type": "code",
   "execution_count": null,
   "metadata": {
    "collapsed": true
   },
   "outputs": [],
   "source": [
    "#import libraries\n",
    "import io\n",
    "from PIL import Image\n",
    "import matplotlib.pyplot as plt\n",
    "#allow to print images in this notebook\n",
    "%matplotlib inline"
   ]
  },
  {
   "cell_type": "code",
   "execution_count": null,
   "metadata": {},
   "outputs": [],
   "source": [
    "#read the images as byte array\n",
    "blob_bytes = blob_service.get_blob_to_bytes(container_name, blob_name_list[1])\n",
    "\n",
    "#store byte stream from object \n",
    "blob_bytes_in_memory = io.BytesIO(blob_bytes.content)\n",
    "\n",
    "#read bytes and display image\n",
    "img_bytes = Image.open(blob_bytes_in_memory)\n",
    "plt.figure(figsize=(10,10))\n",
    "plt.imshow(img_bytes);"
   ]
  },
  {
   "cell_type": "code",
   "execution_count": null,
   "metadata": {},
   "outputs": [],
   "source": [
    "#BOX\n",
    "#what is inside the blob? byte stream\n",
    "    \n",
    "blob_bytes.content[0:20]"
   ]
  },
  {
   "cell_type": "markdown",
   "metadata": {},
   "source": [
    "### Upload blobs to the container\n",
    "\n",
    "- set a new container name\n",
    "- call method create_container() from the blob service\n",
    "- call method set_container_acl() from the blob service to set the permission container permission. \n",
    "- set public access (if you want private, then provide key to the service)\n",
    "\n",
    "- store bytes into local memory (use method .content to extract byte stream from object)\n",
    "- read bytes and display image in the notebook"
   ]
  },
  {
   "cell_type": "code",
   "execution_count": null,
   "metadata": {},
   "outputs": [],
   "source": [
    "#set a name for a new container\n",
    "new_container_name ='playgroundcontainer2'\n",
    "\n",
    "#create a new container \n",
    "blob_service.create_container(new_container_name) \n",
    "\n",
    "#set the blobs' permission \n",
    "blob_service.set_container_acl(new_container_name, public_access=None)\n",
    "\n",
    "#####\n",
    "#show this one with Explorer open\n",
    "#what if I want to set it private?"
   ]
  },
  {
   "cell_type": "code",
   "execution_count": null,
   "metadata": {},
   "outputs": [],
   "source": [
    "# Create the BlockBlockService that is used to call the Blob service for the storage account\n",
    "block_blob_service = BlockBlobService(account_name='accountname', account_key='accountkey') \n",
    "\n",
    "# Create a container called 'quickstartblobs'.\n",
    "container_name ='quickstartblobs'\n",
    "block_blob_service.create_container(container_name) \n",
    "\n",
    "# Set the permission so the blobs are public.\n",
    "block_blob_service.set_container_acl(container_name, public_access=PublicAccess.Container)"
   ]
  },
  {
   "cell_type": "markdown",
   "metadata": {},
   "source": [
    "Upload blobs to the container\n",
    "Blob storage supports block blobs, append blobs, and page blobs. Block blobs are the most commonly used, and that is what is used in this quickstart.\n",
    "\n",
    "To upload a file to a blob, get the full path of the file by joining the directory name and the file name on your local drive. You can then upload the file to the specified path using the create_blob_from_path method.\n",
    "\n",
    "The sample code creates a local file to be used for the upload and download, storing the file to be uploaded as file_path_to_file and the name of the blob as local_file_name. The following example uploads the file to your container called quickstartblobs."
   ]
  },
  {
   "cell_type": "code",
   "execution_count": null,
   "metadata": {
    "collapsed": true
   },
   "outputs": [],
   "source": [
    "# Create a file in Documents to test the upload and download.\n",
    "local_path=os.path.expanduser(\"~\\Documents\")\n",
    "local_file_name =\"QuickStart_\" + str(uuid.uuid4()) + \".txt\"\n",
    "full_path_to_file =os.path.join(local_path, local_file_name)\n",
    "\n",
    "# Write text to the file.\n",
    "file = open(full_path_to_file,  'w')\n",
    "file.write(\"Hello, World!\")\n",
    "file.close()\n",
    "\n",
    "print(\"Temp file = \" + full_path_to_file)\n",
    "print(\"\\nUploading to Blob storage as blob\" + local_file_name)\n",
    "\n",
    "# Upload the created file, use local_file_name for the blob name\n",
    "block_blob_service.create_blob_from_path(container_name, local_file_name, full_path_to_file)"
   ]
  },
  {
   "cell_type": "markdown",
   "metadata": {},
   "source": [
    "Block blobs can be as large as 4.7 TB, and can be anything from Excel spreadsheets to large video files. Page blobs are primarily used for the VHD files used to back IaaS VMs. Append blobs are used for logging, such as when you want to write to a file and then keep adding more information. Most objects stored in Blob storage are block blobs.\n",
    "\n",
    "\n",
    "----\n",
    "\n",
    "Clean up resources\n",
    "If you no longer need the blobs uploaded in this quickstart, you can delete the entire container using the delete_container. If the files created are no longer needed, you use the delete_blob method to delete the files."
   ]
  },
  {
   "cell_type": "markdown",
   "metadata": {},
   "source": [
    "# Clean up resources. This includes the container and the temp files\n",
    "block_blob_service.delete_container(container_name)\n",
    "os.remove(full_path_to_file)\n",
    "os.remove(full_path_to_file2)"
   ]
  },
  {
   "cell_type": "markdown",
   "metadata": {},
   "source": [
    "## Recap\n",
    "### What you have learnt\n",
    "\n",
    "- What is cloud storage and when it is useful (a,b,c)\n",
    "- Deploy public cloud storage\n",
    "- Open questions for discussion. Now that you know more about cloud, what do you think about a,b,c?\n",
    "\n",
    "### What you will learn next guide\n",
    "- How to use public cloud services:\n",
    "    - Azure Blob Storage and Cognitive Services using APIs\n",
    "    - Machine Learning Studio"
   ]
  },
  {
   "cell_type": "markdown",
   "metadata": {},
   "source": [
    "- TODO: MOTIVATE THE USE OF THE NOTEBOOK\n",
    "    - cost of moving file is cheap\n",
    "    - notebook allow for automation\n",
    "\n",
    "\n",
    "- TODO: How much cost the storage? Moving a lot of stuff to and from storage causes \"high bill\"?\n",
    "\n",
    "- TODO: extend uses to: download/scrape more images from social media. upload them into a container"
   ]
  },
  {
   "cell_type": "markdown",
   "metadata": {},
   "source": [
    "1. create_blob_from_path\n",
    "\n",
    "\n",
    "2. create_blob_from_stream\n",
    "3. create_blob_from_bytes \n",
    "4. create_blob_from_text"
   ]
  },
  {
   "cell_type": "markdown",
   "metadata": {},
   "source": [
    "**(*) to find url:** Dashboard > Select Cognitive Services to Use > Select Overview > API/refereence or Endpoint: API Service URI"
   ]
  },
  {
   "cell_type": "code",
   "execution_count": null,
   "metadata": {
    "collapsed": true
   },
   "outputs": [],
   "source": [
    "def retrive_blob_list(keys, container_name):\n",
    "    \"\"\" \n",
    "    function to get a list of blobs' URLs\n",
    "    INPUT: - dictionary with storage info. dictionary format: {storage:{storage_name:name,storage_api_key:api_key}}\n",
    "           - container name      \n",
    "    OUTPUT: a list of BLoBs' name and URL\n",
    "    \"\"\"\n",
    "    storage_name = keys['STORAGE']['NAME']\n",
    "    storage_key = keys['STORAGE']['API_KEY']\n",
    "    blob_service = BlockBlobService(storage_name, storage_key)\n",
    "    uploaded_file = blob_service.list_blobs(container_name)\n",
    "    blob_url_format = 'https://{0}.blob.core.windows.net/{1}/{2}'\n",
    "    #store blobs' name and URLs in list\n",
    "    blob_name_list = []\n",
    "    blob_url_list = []\n",
    "    # retrive each blob name\n",
    "    for blob in uploaded_file:\n",
    "        blob_name_list.append(blob.name)\n",
    "        blob_url_list.append(blob_url_format.format(blob_service.account_name, blob_container_name, blob.name))\n",
    "    return blob_name_list, blob_url_list"
   ]
  },
  {
   "cell_type": "code",
   "execution_count": null,
   "metadata": {},
   "outputs": [],
   "source": [
    "#get a complete list of images' name and urls\n",
    "retrive_blob_list(azure_keys,'mynamecontainer')"
   ]
  },
  {
   "cell_type": "markdown",
   "metadata": {},
   "source": [
    "---\n",
    "\n",
    "## Microsoft Cognitive Services APIs with Python\n",
    "\n",
    "#### List of services shown in this tutorial:\n",
    "    \n",
    "- Caption Generation\n",
    "    - Face API to detect facial characteristics\n",
    "    - Computer Vision API to Analyze Image Contents\n",
    "    - Computer Vision API for Optical Character Recognition\n",
    "\n",
    "- Speech Recognition\n",
    "    - Bing Speech Recognition API\n",
    "\n",
    "- Text Analysis using Azure Machine Learning Studio Workshop\n",
    "    - Key Phrases\n",
    "    - Detect Language\n",
    "    - Sentiment Analysis\n",
    "    - Topic Detection\n",
    "\n",
    "\n",
    "- **what are some research applications?**\n",
    "---\n",
    "\n",
    "#### What are you going to learn\n",
    "\n",
    "- use cloud computing services to extract data from images and audio document\n",
    "- use microsoft azure cloud computing services\n",
    "- text analysis: predict and topic detection\n",
    "\n",
    "---\n",
    "\n",
    "#### Requirements\n",
    "\n",
    "**TODO**\n",
    "\n",
    "- list necessary dependencies (pip install azure)\n",
    "- script to install dependecies\n",
    "---"
   ]
  },
  {
   "cell_type": "code",
   "execution_count": 1,
   "metadata": {
    "collapsed": true
   },
   "outputs": [],
   "source": [
    "#import library to display notebook as HTML\n",
    "import os\n",
    "from IPython.core.display import HTML\n",
    "\n",
    "#path to .ccs style script\n",
    "cur_path = os.path.dirname(os.path.abspath(\"__file__\"))\n",
    "new_path = os.path.relpath('..\\\\styles\\\\custom_styles_public_cloud_computing.css', cur_path)\n",
    "\n",
    "#function to display notebook\n",
    "def css():\n",
    "    style = open(new_path, \"r\").read()\n",
    "    return HTML(style)"
   ]
  },
  {
   "cell_type": "code",
   "execution_count": 2,
   "metadata": {},
   "outputs": [
    {
     "data": {
      "text/html": [
       "<style>\n",
       "@import url(http://fonts.googleapis.com/css?family=helvetica);\n",
       "body{\n",
       "font-family: 'helvetica', sans-serif !important;\n",
       "font-size: 16pt !important;\n",
       "line-height: 30px !important;\n",
       "font-weight: 400 !important;\n",
       "color: #d16103 !important;\n",
       "}\n",
       "#notebook-container {\n",
       "-webkit-box-shadow: none;\n",
       "box-shadow: none;\n",
       "}\n",
       ".rendered_html h1 { font-size:  30pt !important;  }\n",
       ".rendered_html h2 { font-size:  22pt !important; }\n",
       ".rendered_html h3 { font-size:  20pt  !important; }\n",
       ".rendered_html h4 { font-size:  14pt !important; }\n",
       ".rendered_html h5 { font-size:  14pt  !important; }\n",
       ".rendered_html h6 { font-size:  12pt  !important; }\n",
       ".rendered_html h1,\n",
       ".rendered_html h2,\n",
       ".rendered_html h3,\n",
       ".rendered_html h4,\n",
       ".rendered_html h5,\n",
       ".rendered_html h6 {\n",
       "font-family: 'helvetica', sans-serif !important;\n",
       "font-weight: 300 !important;\n",
       "line-height: 1.5em !important;\n",
       "color: rgb(221, 153, 51) !important;\n",
       "}\n",
       "h1 { font-size: 30pt; }\n",
       "h2 { font-size: 22pt; }\n",
       "h3 { font-size: 20pt; }\n",
       "h4 { font-size: 14pt; }\n",
       "h5 { font-size: 14pt; }\n",
       "h6 { font-size: 12pt; }\n",
       "h1, h2, h3, h4, h5, h6 {\n",
       "font-family: 'helvetica', sans-serif !important;\n",
       "color: #d16103 !important;\n",
       "line-height: 150px !important;\n",
       "text-decoration: none;\n",
       "}\n",
       "p{\n",
       "font-family: 'helvetica', sans-serif !important;\n",
       "font-size: 14pt !important;\n",
       "line-height: 30px !important;\n",
       "font-weight: 400 !important;\n",
       "color: #8d8d8d !important;\n",
       "}\n",
       "li{\n",
       "font-family: 'helvetica', sans-serif !important;\n",
       "font-size: 14pt !important;\n",
       "line-height: 30px !important;\n",
       "font-weight: 400 !important;\n",
       "color: #8d8d8d !important;\n",
       "padding-left: 0;\n",
       "list-style-position: inside;\n",
       "text-decoration: none;\n",
       "}\n",
       "ul{\n",
       "font-family: 'helvetica', sans-serif !important;\n",
       "font-size: 14pt !important;\n",
       "line-height: 30px !important;\n",
       "font-weight: 400 !important;\n",
       "text-decoration: none;\n",
       "}\n",
       "a{\n",
       "font-family: 'helvetica', sans-serif !important;\n",
       "font-size: 14pt !important;\n",
       "line-height: 30px !important;\n",
       "font-weight: 400 !important;\n",
       "color: #8d8d8d !important;\n",
       "text-decoration: none;\n",
       "}\n",
       "code{\n",
       "font-family: 'helvetica' !important;\n",
       "font-size: 1em !important;\n",
       "}\n",
       "pre{\n",
       "font-family: 'courier' !important;\n",
       "font-size: 1em !important;\t\n",
       "}\n",
       "div.input_area {\n",
       "border: none !important;\n",
       "background: whitesmoke !important;\n",
       "display: flex;\n",
       "justify-content: left;\n",
       "text-decoration: none;\n",
       "}\n",
       "<style>"
      ],
      "text/plain": [
       "<IPython.core.display.HTML object>"
      ]
     },
     "execution_count": 2,
     "metadata": {},
     "output_type": "execute_result"
    }
   ],
   "source": [
    "#run this cell to apply HTML style\n",
    "css()"
   ]
  },
  {
   "cell_type": "code",
   "execution_count": null,
   "metadata": {
    "collapsed": true
   },
   "outputs": [],
   "source": [
    "    * [Azure Machine Learning Studio](# broken)    \n",
    "        * [Upload file to Machine Learning Studio](# broken)      \n",
    "        * [Explore file inside Machine Learning Studio](# broken)"
   ]
  }
 ],
 "metadata": {
  "kernelspec": {
   "display_name": "Python 3",
   "language": "python",
   "name": "python3"
  },
  "language_info": {
   "codemirror_mode": {
    "name": "ipython",
    "version": 3
   },
   "file_extension": ".py",
   "mimetype": "text/x-python",
   "name": "python",
   "nbconvert_exporter": "python",
   "pygments_lexer": "ipython3",
   "version": "3.6.5"
  }
 },
 "nbformat": 4,
 "nbformat_minor": 2
}
