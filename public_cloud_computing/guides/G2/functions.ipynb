{
 "cells": [
  {
   "cell_type": "code",
   "execution_count": null,
   "metadata": {
    "collapsed": true
   },
   "outputs": [],
   "source": [
    "def handler():\n",
    "    #get file content\n",
    "    blob = get_blob()\n",
    "    \n",
    "    #get request\n",
    "    request = make_request()\n",
    "    \n",
    "    #perform cgnitive service\n",
    "    response = get_service(request, blob)    \n",
    "    \n",
    "    #print response\n",
    "    print(response)"
   ]
  },
  {
   "cell_type": "code",
   "execution_count": null,
   "metadata": {
    "collapsed": true
   },
   "outputs": [],
   "source": [
    "def get_blob():\n",
    "    \n",
    "    #select storage account name and API key from azure_keys\n",
    "    storage_name = azure_keys['STORAGE']['NAME']\n",
    "    storage_key = azure_keys['STORAGE']['API_KEY']\n",
    "\n",
    "    #create BlockBlockService object to call the the storage account service\n",
    "    blob_service = BlockBlobService(account_name= storage_name, account_key=storage_key) \n",
    "\n",
    "    #set a name for a new container\n",
    "    container_name ='myplayground' #erase name here\n",
    "    \n",
    "    # create blob service object to access the files in the storage*\n",
    "    blob_service = BlockBlobService(azure_storage_account_name, azure_storage_account_key)\n",
    "    \n",
    "    # set image's name to read\n",
    "    blob_name = 'andrea_porelli.jpg'\n",
    "\n",
    "    # call method (i.e. get_blob_to_bytes to) read the images as byte array\n",
    "    blob = blob_service.get_blob_to_bytes(blob_container_name, blob_name)\n",
    "    \n",
    "    return blob.content"
   ]
  },
  {
   "cell_type": "code",
   "execution_count": null,
   "metadata": {
    "collapsed": true
   },
   "outputs": [],
   "source": [
    "def make_request():\n",
    "    #service Url (change based on the region*)\n",
    "    face_api = 'https://eastus.api.cognitive.microsoft.com/face/v1.0/detect'\n",
    "    \n",
    "    # Azure Cognitive Services Key for FACE API\n",
    "    key_1 = '620facc4717d4136b665e43a618c2911'\n",
    "\n",
    "    # Set the request headers\n",
    "    headers = {'Content-Type': 'application/octet-stream', # or 'application/json' for remote stored image files\n",
    "               'Ocp-Apim-Subscription-Key': key_1} # for locally stored\n",
    "\n",
    "    # Set request parameters converted to HTTP protocol\n",
    "    # these parameters tell the api I want to detect a face\n",
    "    params = urllib.parse.urlencode({'returnFaceLandmarks' : 'true',\n",
    "                                     'returnFaceAttributes' : 'gender, smile, age, emotion, exposure'})\n",
    "\n",
    "    # compone query with chosen parameters and associaed URL\n",
    "    query = '?{0}'.format(params)\n",
    "    url = face_api + query\n",
    "\n",
    "    return url"
   ]
  },
  {
   "cell_type": "code",
   "execution_count": null,
   "metadata": {
    "collapsed": true
   },
   "outputs": [],
   "source": [
    "def get_service(request, blob):\n",
    "    \n",
    "    api_response = requests.post(url, headers=headers, data=blob.content)\n",
    "    \n",
    "    res_json = json.loads(api_response.content.decode('utf-8'))\n",
    "    \n",
    "    #take json and make it into a n entry\n",
    "    \n",
    "    return entry"
   ]
  },
  {
   "cell_type": "code",
   "execution_count": null,
   "metadata": {
    "collapsed": true
   },
   "outputs": [],
   "source": [
    "**##TODO**\n",
    "- write a function to load one image: \n",
    "- variables: blob_name, container_name, figure size)\n",
    "\n",
    "def handler():\n",
    "    #get an authorization token\n",
    "    token = get_token()\n",
    "    #perform speech recognition\n",
    "    results = get_text(token, YOUR_AUDIO_FILE)\n",
    "    #print results\n",
    "    print(results)\n",
    "\n",
    "def get_token():\n",
    "    #return an authorization token by making a HTTP POST request to Cognitive Services with a valid API key.\n",
    "    url = 'https://api.cognitive.microsoft.com/sts/v1.0/issueToken'\n",
    "    headers = {\n",
    "        'Ocp-Apim-Subscription-Key': YOUR_API_KEY\n",
    "    }\n",
    "    r = requests.post(url, headers=headers)\n",
    "    token = r.content\n",
    "    return(token)\n",
    "\n",
    "def get_text(token, audio):\n",
    "    # Request that the Bing Speech API convert the audio to text\n",
    "    url = 'https://{0}.stt.speech.microsoft.com/speech/recognition/{1}/cognitiveservices/v1?language={2}&format={3}'.format(MODE, LANG, FORMAT, REGION)\n",
    "    headers = {\n",
    "        'Accept': 'application/json',\n",
    "        'Ocp-Apim-Subscription-Key': YOUR_API_KEY,\n",
    "        'Transfer-Encoding': 'chunked',\n",
    "        'Content-type': 'audio/wav; codec=audio/pcm; samplerate=16000',\n",
    "        'Authorization': 'Bearer {0}'.format(token)\n",
    "    }\n",
    "    r = requests.post(url, headers=headers, data=stream_audio_file(audio))\n",
    "    results = json.loads(r.content)\n",
    "    return results\n",
    "\n",
    "def stream_audio_file(speech_file, chunk_size=1024):\n",
    "    # Chunk audio file\n",
    "    with open(speech_file, 'rb') as f:\n",
    "        while 1:\n",
    "            data = f.read(1024)\n",
    "            if not data:\n",
    "                break\n",
    "            yield data\n",
    "\n",
    "if __name__ == '__main__':\n",
    "    handler()"
   ]
  },
  {
   "cell_type": "code",
   "execution_count": 15,
   "metadata": {
    "collapsed": true
   },
   "outputs": [],
   "source": [
    "#add blob service\n",
    "\n",
    "def retrive_blob_list(keys, container_name):\n",
    "    \"\"\" \n",
    "    Function to get a list of blobs' URLs.\n",
    "    It takes your storage account name and API key, and it returns a list of BLOBs and urls to access them through your browser.\n",
    "    The funtion creates a BlockBlobService object and use list_blobs() to extract a list of BLOBs within the chosen container.\n",
    "    \n",
    "    INPUT: - dictionary with storage info. dictionary format: {storage:{storage_name:name,storage_api_key:api_key}}\n",
    "           - container name \n",
    "           \n",
    "    OUTPUT: a list of BLoBs' name and URL\n",
    "    \n",
    "    add use example:\n",
    "    \n",
    "    >>> from azure.storage.blob import BlockBlobService\n",
    "    >>> blob_name, blob_url = retrive_blob_list(azure_keys,'mynamecontainer')\n",
    "    >>> blob_name\n",
    "        (['bunch_of_people.jpg', 'bunch_of_people_2.jpg']\n",
    "    >>> blob_url\n",
    "        (['https://mynamestorage.blob.core.windows.net/mynamecontainer/bunch_of_people.jpg',\n",
    "         ['https://mynamestorage.blob.core.windows.net/mynamecontainer/bunch_of_people_2.jpg'])\n",
    "    \n",
    "    \"\"\"\n",
    "    storage_name = keys['STORAGE']['NAME']\n",
    "    storage_key = keys['STORAGE']['API_KEY']\n",
    "    blob_service = BlockBlobService(storage_name, storage_key)\n",
    "    uploaded_file = blob_service.list_blobs(container_name)\n",
    "    blob_url_format = 'https://{0}.blob.core.windows.net/{1}/{2}'\n",
    "    #store blobs' name and URLs in list\n",
    "    blob_name_list = []\n",
    "    blob_url_list = []\n",
    "    # retrive each blob name\n",
    "    for blob in uploaded_file:\n",
    "        blob_name_list.append(blob.name)\n",
    "        blob_url_list.append(blob_url_format.format(blob_service.account_name, container_name, blob.name))\n",
    "    return blob_name_list, blob_url_list"
   ]
  },
  {
   "cell_type": "code",
   "execution_count": 12,
   "metadata": {},
   "outputs": [],
   "source": [
    "#import library\n",
    "from azure.storage.blob import BlockBlobService\n",
    "\n",
    "#get a complete list of images' name and urls\n",
    "blob_name, blob_url = retrive_blob_list(azure_keys,'mynamecontainer')"
   ]
  },
  {
   "cell_type": "code",
   "execution_count": 13,
   "metadata": {},
   "outputs": [
    {
     "data": {
      "text/plain": [
       "['bunch_of_people.jpg', 'bunch_of_people_2.jpg']"
      ]
     },
     "execution_count": 13,
     "metadata": {},
     "output_type": "execute_result"
    }
   ],
   "source": [
    "blob_name"
   ]
  },
  {
   "cell_type": "code",
   "execution_count": 14,
   "metadata": {},
   "outputs": [
    {
     "data": {
      "text/plain": [
       "['https://mynamecloudstorage.blob.core.windows.net/mynamecontainer/bunch_of_people.jpg',\n",
       " 'https://mynamecloudstorage.blob.core.windows.net/mynamecontainer/bunch_of_people_2.jpg']"
      ]
     },
     "execution_count": 14,
     "metadata": {},
     "output_type": "execute_result"
    }
   ],
   "source": [
    "blob_url"
   ]
  },
  {
   "cell_type": "code",
   "execution_count": 4,
   "metadata": {},
   "outputs": [],
   "source": [
    "import pickle\n",
    "with open('C:/Users/popor/Desktop/azure_services_keys.json', 'rb') as handle:\n",
    "    azure_keys = pickle.load(handle)"
   ]
  }
 ],
 "metadata": {
  "kernelspec": {
   "display_name": "Python 3",
   "language": "python",
   "name": "python3"
  },
  "language_info": {
   "codemirror_mode": {
    "name": "ipython",
    "version": 3
   },
   "file_extension": ".py",
   "mimetype": "text/x-python",
   "name": "python",
   "nbconvert_exporter": "python",
   "pygments_lexer": "ipython3",
   "version": "3.6.5"
  }
 },
 "nbformat": 4,
 "nbformat_minor": 2
}
