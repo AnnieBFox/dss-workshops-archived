{
 "cells": [
  {
   "cell_type": "code",
   "execution_count": 1,
   "metadata": {
    "collapsed": true
   },
   "outputs": [],
   "source": [
    "#This Python Script will download 10,000 images from a specified location. \n",
    "# 10k images takes approx 15-20 minutes, approx 700 MB.\n",
    "import urllib, json, requests\n",
    "import time, csv"
   ]
  },
  {
   "cell_type": "code",
   "execution_count": null,
   "metadata": {
    "collapsed": true
   },
   "outputs": [],
   "source": [
    "print \"time.time(): %f \" %  time.time()   #Current epoch time (Unix Timestamp)\n",
    "print time.asctime( time.localtime(time.time()) )   #Current time in human readable format\n",
    "\n",
    "#lat='48.858844' #Latitude of the center search coordinate. If used, lng is required.\n",
    "#lng='2.294351'  #Longitude of the center search coordinate. If used, lat is required.\n",
    "\n",
    "#Brooklyn Brewery\n",
    "lat='40.721645'\n",
    "lng='-73.957258'\n",
    "\n",
    "\n",
    "distance='5000' #Default is 1km (distance=1000), max distance is 5km.\n",
    "access_token='<YOUR TOKEN HERE>' #Access token to use API\n",
    "\n",
    "\n",
    "#The default time span is set to 5 days. The time span must not exceed 7 days. \n",
    "#min_timestamp #    A unix timestamp. All media returned will be taken later than this timestamp.\n",
    "#max_timestamp #    A unix timestamp. All media returned will be taken earlier than this timestamp.\n",
    "\n",
    "\n",
    "#Settings for Verification Dataset of images\n",
    "#lat, long =40.721645, -73.957258, dist = 5000, default timestamp (5 days)\n",
    "\n",
    "images={}\n",
    "#to keep track of duplicates\n",
    "\n",
    "total_count=0\n",
    "count=0\n",
    "#count for each loop\n",
    "\n",
    "timestamp_last_image=0\n",
    "flag=0\n",
    "\n",
    "#images are returned in reverse order, i.e. most recent to least recent\n",
    "#A max of 100 images are returned in during each request, to get the next set, we use last image (least recent) timestamp as max timestamp and continue\n",
    "#to avoid duplicates we check if image ID has already been recorded (instagram tends to return images based on a %60 timestamp)\n",
    "#flag checks for first run of loop\n",
    "#use JSON viewer http://www.jsoneditoronline.org/ and use commented API response links below to comprehend JSON response\n",
    "while total_count<10:\n",
    "    if flag==0: \n",
    "        response = urllib.urlopen('https://api.instagram.com/v1/media/search?lat='+lat+'&lng='+lng+'&distance='+distance+'&access_token='+access_token+'&count=100')\n",
    "        #https://api.instagram.com/v1/media/search?lat=48.858844&lng=2.294351&distance=5000&access_token=2017228644.ab103e5.f6083159690e476b94dff6cbe8b53759\n",
    "    else:\n",
    "        response = urllib.urlopen('https://api.instagram.com/v1/media/search?lat='+lat+'&lng='+lng+'&distance='+distance+'&max_timestamp='+timestamp_last_image+'&access_token='+access_token+'&count=100')\n",
    "\n",
    "    data = json.load(response)\n",
    "\n",
    "    for img in data[\"data\"]:\n",
    "        #print img[\"images\"][\"standard_resolution\"][\"url\"]\n",
    "        if img['id'] in images:\n",
    "            continue\n",
    "        images[img['id']] = 1\n",
    "        total_count = total_count + 1\n",
    "        count=count+1\n",
    "        urllib.urlretrieve(img[\"images\"][\"standard_resolution\"][\"url\"],\"C://Instagram/\"+str(total_count)+\".jpg\")\n",
    "        #above line downloads image by retrieving it from the url\n",
    "        instaUrlFile.write(img[\"images\"][\"standard_resolution\"][\"url\"]+\"\\n\")\n",
    "        #above line captures image url so it can be passed directly to Face++ API from the text file instaUrlFile.txt\n",
    "        print \"IMAGE WITH name \"+str(total_count)+\".jpg was just saved with created time \"+data[\"data\"][count-1][\"created_time\"]\n",
    "    #This for loop will download all the images from instagram and save them in the above path\n",
    "\n",
    "    timestamp_last_image=data[\"data\"][count-1][\"created_time\"]\n",
    "    flag=1\n",
    "    count=0"
   ]
  }
 ],
 "metadata": {
  "kernelspec": {
   "display_name": "Python 3",
   "language": "python",
   "name": "python3"
  },
  "language_info": {
   "codemirror_mode": {
    "name": "ipython",
    "version": 3
   },
   "file_extension": ".py",
   "mimetype": "text/x-python",
   "name": "python",
   "nbconvert_exporter": "python",
   "pygments_lexer": "ipython3",
   "version": "3.6.5"
  }
 },
 "nbformat": 4,
 "nbformat_minor": 2
}
