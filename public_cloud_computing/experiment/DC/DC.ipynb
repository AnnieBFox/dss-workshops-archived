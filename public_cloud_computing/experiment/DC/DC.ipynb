{
 "cells": [
  {
   "cell_type": "markdown",
   "metadata": {},
   "source": [
    "# Data Collection: Prepare Data for Your Experiment"
   ]
  },
  {
   "cell_type": "markdown",
   "metadata": {},
   "source": [
    "Data Collection is (**TODO** explain).  \n",
    "It is somehow expensive (**TODO** explain).\n",
    "You can communicate how (**TODO** explain). \n",
    "\n",
    "In this tutorial we are going to explain: a), b) , c)"
   ]
  },
  {
   "cell_type": "markdown",
   "metadata": {},
   "source": [
    "# Table of Contents\n",
    "* [Data Collection: prepare data for your experiment](#Data-Collection:-Prepare-Data-for-Your-Experiment)\n",
    "    * [Set Up Dependencies](#Paragraph-3)\n",
    "        * [Dep 1](#Paragraph-3)\n",
    "        * [Dep 2](#Paragraph-3)\n",
    "    * [Use pytube to download videos from you tube](#Paragraph-3)\n",
    "        * [Task 1](#Paragraph-3)\n",
    "        * [Task 2](#Paragraph-3)\n",
    "    * [Use pydub to chunck videos and convert to audio](#Paragraph-3)\n",
    "        * [Task 1](#Paragraph-3)\n",
    "        * [Task 2](#Paragraph-3)\n",
    "* [Feature Engineering](#Paragraph-3)\n",
    "    * [Extract speech form audio](#Paragraph-3)\n",
    "    * [Analyze thumbnails](#Paragraph-3)\n",
    "    * [Key Phrases from speech](#Paragraph-3)\n",
    "    * [Sentiment analysis](#Paragraph-3)\n",
    "* [Modeling: Classification](#Paragraph-3)\n",
    "    * [Presidential Elections commercials](#Paragraph-3)"
   ]
  },
  {
   "cell_type": "markdown",
   "metadata": {},
   "source": [
    "## Data Collection: prepare data for your experiment\n",
    "\n",
    "We are going to download videos from the webpage the [Ten of the Most Succesfull Presidential Campaign Ads Ever Made](https://www.kqed.org/lowdown/3955/ten-of-the-best-presidential-campaign-commercials-of-all-time). "
   ]
  },
  {
   "cell_type": "code",
   "execution_count": null,
   "metadata": {},
   "outputs": [],
   "source": [
    "#import libraries\n",
    "import os\n",
    "import pandas as pd\n",
    "from pytube import YouTube\n",
    "import requests\n",
    "import time"
   ]
  },
  {
   "cell_type": "code",
   "execution_count": null,
   "metadata": {},
   "outputs": [],
   "source": [
    "#list of URLs in the page (consider writing a script to scrape for greater quantities)\n",
    "videos_urls = ['https://youtu.be/Y9RAxAgksSE', \n",
    "                'https://youtu.be/vs5ORK8RLWk', \n",
    "                'https://youtu.be/dDTBnsqxZ3k',\n",
    "                'https://youtu.be/Qwk_epMblW4', \n",
    "                'https://youtu.be/qVcFUIXEDZ8', \n",
    "                'https://youtu.be/EU-IBF8nwSY',\n",
    "                'https://youtu.be/PmwhdDv8VrM', \n",
    "                'https://youtu.be/Xq_x3JUwrU0', \n",
    "                'https://youtu.be/pbdzMLk9wHQ', \n",
    "                'https://youtu.be/jjXyqcx-mYY']\n",
    "\n",
    "#create a dataframe to store your data\n",
    "df = pd.DataFrame({'video_url':videos_urls})\n",
    "df\n",
    "\n",
    "#write dataframe to csv"
   ]
  },
  {
   "cell_type": "code",
   "execution_count": null,
   "metadata": {},
   "outputs": [],
   "source": [
    "#set directory to the folder where we are going to download the videos\n",
    "os.chdir('../../data/video/video.mp4/')\n",
    "dir_video = os.getcwd()\n",
    "\n",
    "#set directory to folder to download the video thumbnail\n",
    "os.chdir('../thumbnail/')\n",
    "dir_thumbnail = os.getcwd()\n",
    "\n",
    "#print directories where files are going to be saved\n",
    "print(dir_video,'\\n---')\n",
    "print(dir_thumbnail)"
   ]
  },
  {
   "cell_type": "code",
   "execution_count": null,
   "metadata": {},
   "outputs": [],
   "source": [
    "#set procedure starting time\n",
    "print(\"Start downloading videos and thumbnails\")\n",
    "print('-------------------')\n",
    "start = time.time()\n",
    "\n",
    "#store useful info to lists\n",
    "titles = []\n",
    "thumbnail_urls = []\n",
    "video_file_spec = []\n",
    "\n",
    "#download videos and thumbnails\n",
    "for video in videos_urls:\n",
    "\n",
    "    #instatiate Youtube object passing video URL\n",
    "    yt = YouTube(video)\n",
    "\n",
    "    #extract the video's title and thumbnail url\n",
    "    title = yt.title.replace(' ', '-').replace('\"', '')\n",
    "    titles.append(title)\n",
    "    thumbnail_url = yt.thumbnail_url\n",
    "    thumbnail_urls.append(thumbnail_url)\n",
    "\n",
    "    #choose file to download (filter by extension and resolution and take first in the list)\n",
    "    video_file = yt.streams.filter(file_extension = 'mp4', res=\"360p\").first()\n",
    "    video_file_spec.append(video_file)\n",
    "    \n",
    "    #download video\n",
    "    try:\n",
    "        video_file.download(dir_video, filename=title)\n",
    "        print('{} download status: success'.format(title))\n",
    "    except:\n",
    "        print('{} download status: fail'.format(title))\n",
    "        \n",
    "    #set thumbail name and choose path to save it\n",
    "    thumbnail_name = title+'_'+yt.thumbnail_url.split('/')[-1]\n",
    "    save_thumbnail_path = (os.path.join(dir_thumbnail, thumbnail_name))\n",
    "    \n",
    "    #download thumbnail\n",
    "    img_data = requests.get(thumbnail_url).content\n",
    "    with open(save_thumbnail_path, 'wb') as handler:\n",
    "        try:\n",
    "            handler.write(img_data)\n",
    "            print('{} download status: success'.format(thumbnail_name))\n",
    "        except:\n",
    "            print('{} download status: fail'.format(thumbnail_name))\n",
    "\n",
    "#set procedure ending time\n",
    "end = time.time()\n",
    "print('-------------------')\n",
    "print('Download completed')\n",
    "print('-------------------')\n",
    "print('It took', {0},' ms to download 10 Ads and their thumbnails'.format(end - start))"
   ]
  },
  {
   "cell_type": "code",
   "execution_count": null,
   "metadata": {},
   "outputs": [],
   "source": [
    "df = pd.DataFrame({'video_url':videos_urls,\n",
    "                   'thumbnail_url':thumbnail_urls,\n",
    "                   'titles':titles})\n",
    "\n",
    "df"
   ]
  },
  {
   "cell_type": "code",
   "execution_count": null,
   "metadata": {},
   "outputs": [],
   "source": [
    "#import libraries\n",
    "import pydub\n",
    "from pydub import AudioSegment\n",
    "from pydub.silence import split_on_silence\n",
    "#ignore warning"
   ]
  },
  {
   "cell_type": "code",
   "execution_count": null,
   "metadata": {},
   "outputs": [],
   "source": [
    "#set path to folder to save audio file\n",
    "os.chdir('../audio/')\n",
    "dir_audio = os.getcwd()\n",
    "\n",
    "print(dir_audio)"
   ]
  },
  {
   "cell_type": "code",
   "execution_count": null,
   "metadata": {},
   "outputs": [],
   "source": [
    "titles_sub = titles[0:5] + titles[7:8] + ['Yes-We-Can---Barack-Obama-Music-Video']\n",
    "titles_sub"
   ]
  },
  {
   "cell_type": "code",
   "execution_count": null,
   "metadata": {},
   "outputs": [],
   "source": [
    "#set procedure starting time\n",
    "print(\"Start downloading videos and thumbnails\")\n",
    "print('-------------------')\n",
    "start = time.time()\n",
    "\n",
    "#store audio lenght\n",
    "audio_lenght = []\n",
    "\n",
    "#convert video to audio, and plit in chunks\n",
    "for title in titles_sub:\n",
    "\n",
    "    #set path to file to convert\n",
    "    if title == titles[6]:\n",
    "        path_to_file = os.path.join(dir_video, title)\n",
    "    else:\n",
    "        path_to_file = os.path.join(dir_video, title) + '.mp4'\n",
    "        \n",
    "    #read file \n",
    "    sound = AudioSegment.from_file(path_to_file, \"mp4\")\n",
    "    \n",
    "    #estimate length\n",
    "    file_length = len(sound)\n",
    "    audio_lenght.append(file_length)\n",
    "\n",
    "    #split audio when it is silent for at least one second or quieter than -16 dBFS\n",
    "    chunks = split_on_silence(sound, min_silence_len=700, silence_thresh=-16,  keep_silence=200)\n",
    "    \n",
    "#     # now recombine the chunks so that the parts are at least 14 sec long\n",
    "#     target_length = 10 * 1000\n",
    "#     output_chunks = [chunks[0]]\n",
    "#     for chunk in chunks[1:]:\n",
    "#         if len(output_chunks[-1]) < target_length:\n",
    "#             output_chunks[-1] += chunk\n",
    "#         else:\n",
    "#             # if the last output chunk is longer than the target length start a new one\n",
    "#             output_chunks.append(chunk)\n",
    "\n",
    "    #take each chunck and save it as wav\n",
    "    for i, chunk in enumerate(output_chunks):\n",
    "        dir_file = os.path.join(dir_audio, title) \n",
    "        chunk.export(dir_file + \"chunck{}.wav\".format(i), format=\"wav\")\n",
    "        \n",
    "    print('The video {0} is {1} ms long and has been split in {2} audio files'.format(title, file_length,len(chunks)))\n",
    "    \n",
    "#set procedure ending time\n",
    "end = time.time()\n",
    "print('-------------------')\n",
    "print('Download completed')\n",
    "print('-------------------')\n",
    "print('It took {0} ms to chunk the video and convert to audio'.format(end - start))"
   ]
  },
  {
   "cell_type": "code",
   "execution_count": null,
   "metadata": {},
   "outputs": [],
   "source": [
    "audio_lenght = [62090, 60233, 66897, 19249, 60047,'nan', 'nan', 60256, 'nan', 270211]"
   ]
  },
  {
   "cell_type": "code",
   "execution_count": null,
   "metadata": {},
   "outputs": [],
   "source": [
    "df = pd.DataFrame({'video_url':videos_urls,\n",
    "                   'thumbnail_url':thumbnail_urls,\n",
    "                   'titles':titles,\n",
    "                   'length[ms]':audio_lenght})\n",
    "\n",
    "df"
   ]
  },
  {
   "cell_type": "code",
   "execution_count": null,
   "metadata": {},
   "outputs": [],
   "source": [
    "#TODO\n",
    "\n",
    "#other features\n",
    "#candidate party\n",
    "#win/lost elections\n",
    "#number of words\n",
    "\n",
    "#advanced features\n",
    "#number of views\n",
    "#comments on you tube"
   ]
  },
  {
   "cell_type": "code",
   "execution_count": null,
   "metadata": {},
   "outputs": [],
   "source": [
    "from IPython.display import Audio, display\n",
    "import requests\n",
    "import urllib\n",
    "import uuid"
   ]
  },
  {
   "cell_type": "code",
   "execution_count": null,
   "metadata": {},
   "outputs": [],
   "source": [
    "# save file into a blob container"
   ]
  },
  {
   "cell_type": "code",
   "execution_count": null,
   "metadata": {},
   "outputs": [],
   "source": [
    "#import library and retrieve keys\n",
    "\n",
    "#from azure library import methods to use storage \n",
    "from azure.storage.blob import BlockBlobService, PublicAccess\n",
    "\n",
    "#retrive your keys\n",
    "import pickle\n",
    "with open('guides/keys/azure_services_keys.json', 'rb') as handle:\n",
    "    azure_keys = pickle.load(handle)\n",
    "\n",
    "#select storage account name and API key from keys\n",
    "storage_name = azure_keys['STORAGE']['NAME']\n",
    "storage_key = azure_keys['STORAGE']['API_KEY']"
   ]
  },
  {
   "cell_type": "code",
   "execution_count": null,
   "metadata": {},
   "outputs": [],
   "source": [
    "# create a new container\n",
    "\n",
    "#blob service\n",
    "blob_service = BlockBlobService(storage_name, storage_key)"
   ]
  },
  {
   "cell_type": "code",
   "execution_count": null,
   "metadata": {},
   "outputs": [],
   "source": [
    "#set a name for a new container\n",
    "new_container_name ='videocontainer'"
   ]
  },
  {
   "cell_type": "code",
   "execution_count": null,
   "metadata": {},
   "outputs": [],
   "source": [
    "#create a new container and set public access\n",
    "try:\n",
    "    container_status = blob_service.create_container(new_container_name, public_access=PublicAccess.Container) \n",
    "    print(\"{} creation success status: {}\".format(new_container_name, container_status))\n",
    "except:\n",
    "    print(\"{} creation failed\".format(new_container_name))"
   ]
  },
  {
   "cell_type": "code",
   "execution_count": null,
   "metadata": {},
   "outputs": [],
   "source": [
    "os.getcwd()+'\\\\data\\\\video\\\\video.wav\\\\'"
   ]
  },
  {
   "cell_type": "code",
   "execution_count": null,
   "metadata": {},
   "outputs": [],
   "source": [
    "blob_service.create_blob_from_path(new_container_name, local_file_name, full_path)"
   ]
  },
  {
   "cell_type": "code",
   "execution_count": null,
   "metadata": {},
   "outputs": [],
   "source": [
    "#get the file from local \n",
    "local_path = os.getcwd()+'\\\\data\\\\video\\\\video.wav'\n",
    "local_file_name = \"Eisenhower_1952.chunk0.wav\"\n",
    "full_path = os.path.join(local_path, local_file_name)\n",
    "full_path\n",
    "\n",
    "\n",
    "# Upload the created file\n",
    "try:\n",
    "    blob_service.create_blob_from_path(new_container_name, local_file_name, full_path)    \n",
    "    print(\"{} upload status: successful\".format(local_file_name))\n",
    "except:\n",
    "    print(\"{} upload status: failed\".format(local_file_name))"
   ]
  },
  {
   "cell_type": "code",
   "execution_count": null,
   "metadata": {},
   "outputs": [],
   "source": [
    "def retrive_blob_list(keys, container_name):\n",
    "    \"\"\" \n",
    "    function to get a list of blobs' URLs\n",
    "    INPUT: - dictionary with storage info. dictionary format: {storage:{storage_name:name,storage_api_key:api_key}}\n",
    "           - container name      \n",
    "    OUTPUT: a list of BLoBs' name and URL\n",
    "    \"\"\"\n",
    "    storage_name = keys['STORAGE']['NAME']\n",
    "    storage_key = keys['STORAGE']['API_KEY']\n",
    "    blob_service = BlockBlobService(storage_name, storage_key)\n",
    "    uploaded_file = blob_service.list_blobs(container_name)\n",
    "    blob_url_format = 'https://{0}.blob.core.windows.net/{1}/{2}'\n",
    "    #store blobs' name and URLs in list\n",
    "    blob_name_list = []\n",
    "    blob_url_list = []\n",
    "    # retrive each blob name\n",
    "    for blob in uploaded_file:\n",
    "        blob_name_list.append(blob.name)\n",
    "        blob_url_list.append(blob_url_format.format(blob_service.account_name, container_name, blob.name))\n",
    "    return blob_name_list, blob_url_list"
   ]
  },
  {
   "cell_type": "code",
   "execution_count": null,
   "metadata": {},
   "outputs": [],
   "source": [
    "#get a complete list of images' name and urls\n",
    "retrive_blob_list(azure_keys,new_container_name)"
   ]
  },
  {
   "cell_type": "code",
   "execution_count": null,
   "metadata": {},
   "outputs": [],
   "source": [
    "# load speech file to process\n",
    "blob_name = 'Eisenhower_1952.chunk1.wav'\n",
    "blob = blob_service.get_blob_to_bytes(new_container_name, blob_name)\n",
    "\n",
    "wav_bytes = Audio(data=blob.content)\n",
    "display(wav_bytes)"
   ]
  },
  {
   "cell_type": "code",
   "execution_count": null,
   "metadata": {},
   "outputs": [],
   "source": [
    "url_token_api = 'https://api.cognitive.microsoft.com/sts/v1.0/issueToken'"
   ]
  },
  {
   "cell_type": "code",
   "execution_count": null,
   "metadata": {},
   "outputs": [],
   "source": [
    "headers = {'Content-Length': '0', 'Ocp-Apim-Subscription-Key': storage_key}\n",
    "\n",
    "#\"Content-Type\", \"application/octet-stream\"\n",
    "\n",
    "api_response = requests.post(url_token_api, headers=headers)"
   ]
  },
  {
   "cell_type": "code",
   "execution_count": null,
   "metadata": {},
   "outputs": [],
   "source": [
    "api_response"
   ]
  },
  {
   "cell_type": "code",
   "execution_count": null,
   "metadata": {},
   "outputs": [],
   "source": [
    "access_token = str(api_response.content.decode('utf-8'))\n",
    "\n",
    "# Service\n",
    "# Call Speech to text service\n",
    "url_stt_api = 'https://speech.platform.bing.com/recognize' # service address \n",
    "\n",
    "headers = {'Authorization': 'Bearer {0}'.format(access_token), \n",
    "           'Content-type': 'audio/wav', \n",
    "           'codec': 'audio/pcm',  \n",
    "           'samplerate': '16000'}\n",
    "\n",
    "# 'Content-Length': len(blob.content), \\\n",
    "\n",
    "params = urllib.parse.urlencode({\n",
    "    'scenarios': 'ulm',\n",
    "    'appid': 'D4D52672-91D7-4C74-8AD8-42B1D98141A5',\n",
    "    'locale': 'en-US',\n",
    "    'device.os': 'PC',\n",
    "    'version': '3.0',\n",
    "    'format': 'json',\n",
    "    'instanceid': str(uuid.uuid1()),\n",
    "    'requestid': str(uuid.uuid1()),\n",
    "})\n",
    "\n",
    "api_response = requests.post(url_stt_api, headers=headers, params=params, data=blob.content)"
   ]
  },
  {
   "cell_type": "code",
   "execution_count": null,
   "metadata": {},
   "outputs": [],
   "source": [
    "api_response"
   ]
  },
  {
   "cell_type": "code",
   "execution_count": null,
   "metadata": {},
   "outputs": [],
   "source": [
    "import json\n",
    "res_json = json.loads(api_response.content.decode('utf-8'))\n",
    "\n",
    "print(json.dumps(res_json, indent=2, sort_keys=True))"
   ]
  },
  {
   "cell_type": "code",
   "execution_count": null,
   "metadata": {},
   "outputs": [],
   "source": [
    "[The Living Room Candidate at Museum of the Moving Image: presidential campaign commercials](http://www.livingroomcandidate.org/)"
   ]
  },
  {
   "cell_type": "code",
   "execution_count": null,
   "metadata": {},
   "outputs": [],
   "source": [
    "# Upload the created file, use local_file_name for the blob name\n",
    "block_blob_service.create_blob_from_path(container_name, local_file_name, full_path_to_file"
   ]
  },
  {
   "cell_type": "code",
   "execution_count": null,
   "metadata": {},
   "outputs": [],
   "source": [
    "#where to save\n",
    "SAVE_PATH = os.getcwd()+'\\\\video'\n",
    " "
   ]
  },
  {
   "cell_type": "code",
   "execution_count": null,
   "metadata": {},
   "outputs": [],
   "source": [
    "#link of the video to be downloaded\n",
    "videos_urls = ['https://youtu.be/Y9RAxAgksSE', \n",
    "                'https://youtu.be/vs5ORK8RLWk', \n",
    "                'https://youtu.be/dDTBnsqxZ3k',\n",
    "                'https://youtu.be/Qwk_epMblW4', \n",
    "                'https://youtu.be/qVcFUIXEDZ8', \n",
    "                'https://youtu.be/EU-IBF8nwSY',\n",
    "                'https://youtu.be/PmwhdDv8VrM', \n",
    "                'https://youtu.be/Xq_x3JUwrU0', \n",
    "                'https://youtu.be/pbdzMLk9wHQ', \n",
    "                'https://youtu.be/jjXyqcx-mYY']\n",
    "     #list of youtube links which need to be downloaded\n",
    "for i in videos_urls:\n",
    "    try:\n",
    "        #object creation using YouTube which was imported in the beginning\n",
    "        yt = YouTube(i)\n",
    "    except:\n",
    "        print(\"Connection Error\") #to handle exception\n",
    "     \n",
    "    #filters out all the files with \"mp4\" extension\n",
    "    mp4files = yt.streams.filter('mp4')\n",
    "    print(mp4files)\n",
    "\n",
    "     #get the video with the extension and resolution passed in the get() function\n",
    "#     d_video = yt.get(mp4files[-1].extension,mp4files[-1].resolution)\n",
    "#     try:\n",
    "#         #downloading the video\n",
    "#         mp4files.download(SAVE_PATH)\n",
    "#     except:\n",
    "#         print(\"Some Error!\")\n",
    "# print('Task Completed!')"
   ]
  },
  {
   "cell_type": "code",
   "execution_count": null,
   "metadata": {},
   "outputs": [],
   "source": [
    "yt = YouTube(\"https://www.youtube.com/watch?v=n06H7OcPd-g\")\n",
    "yt = yt.get('mp4', '720p')\n",
    "yt.download('/path/to/download/directory')"
   ]
  },
  {
   "cell_type": "code",
   "execution_count": null,
   "metadata": {},
   "outputs": [],
   "source": [
    "videos_urls = ['https://youtu.be/Y9RAxAgksSE', \n",
    "                'https://youtu.be/vs5ORK8RLWk', \n",
    "                'https://youtu.be/dDTBnsqxZ3k',\n",
    "                'https://youtu.be/Qwk_epMblW4', \n",
    "                'https://youtu.be/qVcFUIXEDZ8', \n",
    "                'https://youtu.be/EU-IBF8nwSY',\n",
    "                'https://youtu.be/PmwhdDv8VrM', \n",
    "                'https://youtu.be/Xq_x3JUwrU0', \n",
    "                'https://youtu.be/pbdzMLk9wHQ', \n",
    "                'https://youtu.be/jjXyqcx-mYY']"
   ]
  },
  {
   "cell_type": "code",
   "execution_count": null,
   "metadata": {},
   "outputs": [],
   "source": [
    "csv.reader\n",
    "\n",
    "with open(..., 'wb') as myfile:\n",
    "    wr = csv.writer(myfile, quoting=csv.QUOTE_ALL)\n",
    "    wr.writerow(mylist)"
   ]
  },
  {
   "cell_type": "code",
   "execution_count": null,
   "metadata": {},
   "outputs": [],
   "source": [
    "video_csv_reader = csv.reader(open(\"videos.csv\"), delimiter=\",\")\n",
    "header1 = video_csv_reader.next() #header"
   ]
  },
  {
   "cell_type": "code",
   "execution_count": null,
   "metadata": {},
   "outputs": [],
   "source": [
    "def get_youtube_video(url):\n",
    "    for id, url in video_csv_reader:\n",
    "        yt = url\n",
    "        #set resolution and filetype\n",
    "        video = yt.get('mp3', '720p')\n",
    "        # set a destination directory for download\n",
    "        video.download('/video/')\n",
    "        break"
   ]
  },
  {
   "cell_type": "code",
   "execution_count": null,
   "metadata": {},
   "outputs": [],
   "source": [
    "get_youtube_video('https://youtu.be/jjXyqcx-mYY')"
   ]
  },
  {
   "cell_type": "code",
   "execution_count": null,
   "metadata": {},
   "outputs": [],
   "source": []
  }
 ],
 "metadata": {
  "kernelspec": {
   "display_name": "Python 3",
   "language": "python",
   "name": "python3"
  },
  "language_info": {
   "codemirror_mode": {
    "name": "ipython",
    "version": 3
   },
   "file_extension": ".py",
   "mimetype": "text/x-python",
   "name": "python",
   "nbconvert_exporter": "python",
   "pygments_lexer": "ipython3",
   "version": "3.6.5"
  }
 },
 "nbformat": 4,
 "nbformat_minor": 2
}
