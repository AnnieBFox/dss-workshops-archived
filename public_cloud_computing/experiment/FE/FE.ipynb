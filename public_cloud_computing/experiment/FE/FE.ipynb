{
 "cells": [
  {
   "cell_type": "markdown",
   "metadata": {},
   "source": [
    "# Experiment: presidential elections Ad"
   ]
  },
  {
   "cell_type": "markdown",
   "metadata": {},
   "source": [
    "Data Collection is (**TODO** explain).  \n",
    "It is somehow expensive (**TODO** explain).\n",
    "You can communicate how (**TODO** explain). \n",
    "\n",
    "In this tutorial we are going to explain: a), b) , c)"
   ]
  },
  {
   "cell_type": "markdown",
   "metadata": {},
   "source": [
    "# Table of Contents\n",
    "* [Experiment: presidential elections Ads](#Experiment: presidential elections Ads)\n",
    "* [Data collection: prepare data for your experiment](#Data-collection:-prepare-data-for-your-experiment)\n",
    "    * [Set Up Dependencies](#Paragraph-3)\n",
    "    * [Use pytube to download videos from you tube](#Paragraph-3)\n",
    "    * [Use pydub to chunck videos and convert to audio](#Paragraph-3)\n",
    "* [Feature Engineering: extract data using Azure public cloud](#Paragraph-3)\n",
    "    * [Set up containers and upload files (audio & image)](#Set-up-containers-and-upload-files(audio-&-image))\n",
    "    * [Extract speech from audio using Bing Speech Recognition API](#Extract-speech-from-audio-using-Bing-Speech-Recognition-API)\n",
    "    * [Extract sentiment and key phrases from text using Text Analytics API](#Extract-sentiment-and-key-phrases-from-text-using-Text-Analytics-API)\n",
    "    * [Analyze thumbnails](#Paragraph-3)\n",
    "    * [Face](#Paragraph-3)\n",
    "    * [OCR](#Paragraph-3)\n",
    "* [Modeling: Classification](#Paragraph-3)\n",
    "    * [Presidential Elections Ads](#Paragraph-3)"
   ]
  },
  {
   "cell_type": "markdown",
   "metadata": {},
   "source": [
    "## Data Collection: prepare data for your experiment\n",
    "\n",
    "We are going to download videos from the webpage the [Ten of the Most Succesfull Presidential Campaign Ads Ever Made](https://www.kqed.org/lowdown/3955/ten-of-the-best-presidential-campaign-commercials-of-all-time). "
   ]
  },
  {
   "cell_type": "code",
   "execution_count": 445,
   "metadata": {},
   "outputs": [],
   "source": [
    "#import libraries\n",
    "import os\n",
    "import pandas as pd\n",
    "from pytube import YouTube\n",
    "import requests\n",
    "import time"
   ]
  },
  {
   "cell_type": "code",
   "execution_count": 2,
   "metadata": {},
   "outputs": [
    {
     "data": {
      "text/html": [
       "<div>\n",
       "<style scoped>\n",
       "    .dataframe tbody tr th:only-of-type {\n",
       "        vertical-align: middle;\n",
       "    }\n",
       "\n",
       "    .dataframe tbody tr th {\n",
       "        vertical-align: top;\n",
       "    }\n",
       "\n",
       "    .dataframe thead th {\n",
       "        text-align: right;\n",
       "    }\n",
       "</style>\n",
       "<table border=\"1\" class=\"dataframe\">\n",
       "  <thead>\n",
       "    <tr style=\"text-align: right;\">\n",
       "      <th></th>\n",
       "      <th>video_url</th>\n",
       "    </tr>\n",
       "  </thead>\n",
       "  <tbody>\n",
       "    <tr>\n",
       "      <th>0</th>\n",
       "      <td>https://youtu.be/Y9RAxAgksSE</td>\n",
       "    </tr>\n",
       "    <tr>\n",
       "      <th>1</th>\n",
       "      <td>https://youtu.be/vs5ORK8RLWk</td>\n",
       "    </tr>\n",
       "    <tr>\n",
       "      <th>2</th>\n",
       "      <td>https://youtu.be/dDTBnsqxZ3k</td>\n",
       "    </tr>\n",
       "    <tr>\n",
       "      <th>3</th>\n",
       "      <td>https://youtu.be/Qwk_epMblW4</td>\n",
       "    </tr>\n",
       "    <tr>\n",
       "      <th>4</th>\n",
       "      <td>https://youtu.be/qVcFUIXEDZ8</td>\n",
       "    </tr>\n",
       "    <tr>\n",
       "      <th>5</th>\n",
       "      <td>https://youtu.be/EU-IBF8nwSY</td>\n",
       "    </tr>\n",
       "    <tr>\n",
       "      <th>6</th>\n",
       "      <td>https://youtu.be/PmwhdDv8VrM</td>\n",
       "    </tr>\n",
       "    <tr>\n",
       "      <th>7</th>\n",
       "      <td>https://youtu.be/Xq_x3JUwrU0</td>\n",
       "    </tr>\n",
       "    <tr>\n",
       "      <th>8</th>\n",
       "      <td>https://youtu.be/pbdzMLk9wHQ</td>\n",
       "    </tr>\n",
       "    <tr>\n",
       "      <th>9</th>\n",
       "      <td>https://youtu.be/jjXyqcx-mYY</td>\n",
       "    </tr>\n",
       "  </tbody>\n",
       "</table>\n",
       "</div>"
      ],
      "text/plain": [
       "                      video_url\n",
       "0  https://youtu.be/Y9RAxAgksSE\n",
       "1  https://youtu.be/vs5ORK8RLWk\n",
       "2  https://youtu.be/dDTBnsqxZ3k\n",
       "3  https://youtu.be/Qwk_epMblW4\n",
       "4  https://youtu.be/qVcFUIXEDZ8\n",
       "5  https://youtu.be/EU-IBF8nwSY\n",
       "6  https://youtu.be/PmwhdDv8VrM\n",
       "7  https://youtu.be/Xq_x3JUwrU0\n",
       "8  https://youtu.be/pbdzMLk9wHQ\n",
       "9  https://youtu.be/jjXyqcx-mYY"
      ]
     },
     "execution_count": 2,
     "metadata": {},
     "output_type": "execute_result"
    }
   ],
   "source": [
    "#list of URLs in the page (consider writing a script to scrape for greater quantities)\n",
    "videos_urls = ['https://youtu.be/Y9RAxAgksSE', \n",
    "                'https://youtu.be/vs5ORK8RLWk', \n",
    "                'https://youtu.be/dDTBnsqxZ3k',\n",
    "                'https://youtu.be/Qwk_epMblW4', \n",
    "                'https://youtu.be/qVcFUIXEDZ8', \n",
    "                'https://youtu.be/EU-IBF8nwSY',\n",
    "                'https://youtu.be/PmwhdDv8VrM', \n",
    "                'https://youtu.be/Xq_x3JUwrU0', \n",
    "                'https://youtu.be/pbdzMLk9wHQ', \n",
    "                'https://youtu.be/jjXyqcx-mYY']"
   ]
  },
  {
   "cell_type": "code",
   "execution_count": 3,
   "metadata": {},
   "outputs": [
    {
     "name": "stdout",
     "output_type": "stream",
     "text": [
      "C:\\Users\\popor\\iqss_workshop\\workshops\\public_cloud_computing\\data\\video\\video.mp4\n",
      "C:\\Users\\popor\\iqss_workshop\\workshops\\public_cloud_computing\\data\\video\\thumbnail\n"
     ]
    }
   ],
   "source": [
    "#set directory to the folder where we are going to download the videos\n",
    "os.chdir('../../data/video/video.mp4/')\n",
    "dir_video = os.getcwd()\n",
    "\n",
    "#set directory to folder to download the video thumbnail\n",
    "os.chdir('../thumbnail/')\n",
    "dir_thumbnail = os.getcwd()\n",
    "\n",
    "#print directories where files are going to be saved\n",
    "print(dir_video)\n",
    "print(dir_thumbnail)"
   ]
  },
  {
   "cell_type": "code",
   "execution_count": 15,
   "metadata": {},
   "outputs": [
    {
     "name": "stdout",
     "output_type": "stream",
     "text": [
      "-------------------\n",
      "Start downloading videos and thumbnails\n",
      "-------------------\n",
      "eisenhower_for_president_1952 download status: success\n",
      "eisenhower_for_president_1952_default.jpg download status: success\n",
      "kennedy_for_me_campaign_jingle_jfk_1960 download status: success\n",
      "kennedy_for_me_campaign_jingle_jfk_1960_default.jpg download status: success\n",
      "high_quality_famous_daisy_attack_ad_from_1964_presidential_election download status: success\n",
      "high_quality_famous_daisy_attack_ad_from_1964_presidential_election_default.jpg download status: success\n",
      "humphrey_laughing_at_spiro_agnew_1968_political_ad download status: success\n",
      "humphrey_laughing_at_spiro_agnew_1968_political_ad_default.jpg download status: success\n",
      "mcgovern_defense_plan_ad_nixon_1972_presidential_campaign_commercial download status: success\n",
      "mcgovern_defense_plan_ad_nixon_1972_presidential_campaign_commercial_default.jpg download status: success\n",
      "ronald_reagan_tv_ad_its_morning_in_america_again download status: success\n",
      "ronald_reagan_tv_ad_its_morning_in_america_again_default.jpg download status: success\n",
      "1988_george_bush_sr_revolving_door_attack_ad_campaign download status: success\n",
      "1988_george_bush_sr_revolving_door_attack_ad_campaign_default.jpg download status: success\n",
      "bill_clinton_hope_ad_1992 download status: success\n",
      "bill_clinton_hope_ad_1992_default.jpg download status: success\n",
      "historical_campaign_ad_windsurfing_bushcheney_04 download status: success\n",
      "historical_campaign_ad_windsurfing_bushcheney_04_default.jpg download status: success\n",
      "yes_we_can__barack_obama_music_video download status: success\n",
      "yes_we_can__barack_obama_music_video_default.jpg download status: success\n",
      "-------------------\n",
      "Download completed\n",
      "-------------------\n",
      "It took 73 seconds to download 10 Ads and their thumbnails\n"
     ]
    }
   ],
   "source": [
    "#set procedure starting time\n",
    "print('-------------------')\n",
    "print(\"Start downloading videos and thumbnails\")\n",
    "print('-------------------')\n",
    "start = time.time()\n",
    "\n",
    "#store useful info to lists\n",
    "titles = []\n",
    "thumbnail_urls = []\n",
    "video_file_spec = []\n",
    "\n",
    "#download videos and thumbnails\n",
    "for video in videos_urls:\n",
    "\n",
    "    #instatiate Youtube object passing video URL\n",
    "    yt = YouTube(video)\n",
    "\n",
    "    #extract the video's title and thumbnail url\n",
    "    replacements = {\" \": \"_\", \"-\": \"\", \"'\": \"\", '\"': \"\", ':':'', '.':'', '(':'', ')':''}\n",
    "    title = \"\".join([replacements.get(c, c) for c in yt.title.lower()])\n",
    "    titles.append(title)\n",
    "    thumbnail_url = yt.thumbnail_url.lower()\n",
    "    thumbnail_urls.append(thumbnail_url)\n",
    "\n",
    "    #choose file to download (filter by extension and resolution and take first in the list)\n",
    "    video_file = yt.streams.filter(file_extension = 'mp4', res=\"360p\").first()\n",
    "    video_file_spec.append(video_file)\n",
    "    \n",
    "    #download video\n",
    "    try:\n",
    "        video_file.download(dir_video, filename=title)\n",
    "        print('{} download status: success'.format(title))\n",
    "    except:\n",
    "        print('{} download status: fail'.format(title))\n",
    "        \n",
    "    #set thumbail name and choose path to save it\n",
    "    thumbnail_name = title+'_'+yt.thumbnail_url.split('/')[-1]\n",
    "    save_thumbnail_path = (os.path.join(dir_thumbnail, thumbnail_name))\n",
    "    \n",
    "    #download thumbnail\n",
    "    img_data = requests.get(thumbnail_url).content\n",
    "    with open(save_thumbnail_path, 'wb') as handler:\n",
    "        try:\n",
    "            handler.write(img_data)\n",
    "            print('{} download status: success'.format(thumbnail_name))\n",
    "        except:\n",
    "            print('{} download status: fail'.format(thumbnail_name))\n",
    "\n",
    "#set procedure ending time\n",
    "end = time.time()\n",
    "print('-------------------')\n",
    "print('Download completed')\n",
    "print('-------------------')\n",
    "print('It took {} seconds to download 10 Ads and their thumbnails'.format(round(end - start),2))"
   ]
  },
  {
   "cell_type": "code",
   "execution_count": 58,
   "metadata": {},
   "outputs": [],
   "source": [
    "#import libraries\n",
    "import pydub\n",
    "from pydub import AudioSegment\n",
    "from pydub.silence import split_on_silence\n",
    "from pydub.utils import make_chunks\n",
    "#ignore warning"
   ]
  },
  {
   "cell_type": "code",
   "execution_count": 9,
   "metadata": {},
   "outputs": [
    {
     "name": "stdout",
     "output_type": "stream",
     "text": [
      "C:\\Users\\popor\\iqss_workshop\\workshops\\public_cloud_computing\\data\\video\\audio\n"
     ]
    }
   ],
   "source": [
    "#set path to folder to save audio file\n",
    "os.chdir('../audio/')\n",
    "dir_audio = os.getcwd()\n",
    "\n",
    "print(dir_audio)"
   ]
  },
  {
   "cell_type": "code",
   "execution_count": 63,
   "metadata": {},
   "outputs": [
    {
     "name": "stdout",
     "output_type": "stream",
     "text": [
      "-------------------\n",
      "Start dividing video in chuncks and converting to audio\n",
      "-------------------\n",
      "The video eisenhower_for_president_1952 is long 62.09 seconds and has been split in 5 audio files\n",
      "The video kennedy_for_me_campaign_jingle_jfk_1960 is long 60.23 seconds and has been split in 5 audio files\n",
      "The video high_quality_famous_daisy_attack_ad_from_1964_presidential_election is long 66.9 seconds and has been split in 5 audio files\n",
      "The video humphrey_laughing_at_spiro_agnew_1968_political_ad is long 19.25 seconds and has been split in 2 audio files\n",
      "The video mcgovern_defense_plan_ad_nixon_1972_presidential_campaign_commercial is long 60.05 seconds and has been split in 5 audio files\n",
      "The video ronald_reagan_tv_ad_its_morning_in_america_again is long 59.95 seconds and has been split in 4 audio files\n",
      "The video 1988_george_bush_sr_revolving_door_attack_ad_campaign is long 29.88 seconds and has been split in 2 audio files\n",
      "The video bill_clinton_hope_ad_1992 is long 60.26 seconds and has been split in 5 audio files\n",
      "The video historical_campaign_ad_windsurfing_bushcheney_04 is long 30.09 seconds and has been split in 3 audio files\n",
      "The video yes_we_can__barack_obama_music_video is long 270.21 seconds and has been split in 19 audio files\n",
      "-------------------\n",
      "Process completed\n",
      "-------------------\n",
      "It took 3.56 seconds to chunk the video and convert \n"
     ]
    }
   ],
   "source": [
    "#set procedure starting time\n",
    "print('-------------------')\n",
    "print(\"Start dividing video in chuncks and converting to audio\")\n",
    "print('-------------------')\n",
    "start = time.time()\n",
    "\n",
    "#store audio lenght\n",
    "audio_lenght = []\n",
    "\n",
    "#convert video to audio, and split in chunks\n",
    "for title in titles:\n",
    "    \n",
    "    #set path to file to convert\n",
    "    path_to_file = os.path.join(dir_video, title) + '.mp4'\n",
    "        \n",
    "    #read file into variable\n",
    "    myaudio = AudioSegment.from_file(path_to_file, \"mp4\")\n",
    "    \n",
    "    #estimate length\n",
    "    file_length = round(len(myaudio)/1000, 2)\n",
    "    audio_lenght.append(file_length)\n",
    "    \n",
    "    #Make chunks of fi\n",
    "    chunk_length_ms = 15000\n",
    "    chunks = make_chunks(myaudio, chunk_length_ms)\n",
    "\n",
    "    #take each chunck and export it to path as wav\n",
    "    dir_file = os.path.join(dir_audio, title)\n",
    "    for i, chunk in enumerate(chunks):\n",
    "        chunk.export(dir_file + \"_chunck_{}.wav\".format(i+1), format=\"wav\")\n",
    "        \n",
    "    print('The video {0} is long {1} seconds and has been split in {2} audio files'.format(title, file_length,len(chunks)))\n",
    "    \n",
    "#set procedure ending time\n",
    "end = time.time()\n",
    "print('-------------------')\n",
    "print('Process completed')\n",
    "print('-------------------')\n",
    "print('It took {} seconds to chunk the video and convert '.format(round(end - start, 2)))"
   ]
  },
  {
   "cell_type": "code",
   "execution_count": 26,
   "metadata": {},
   "outputs": [
    {
     "name": "stdout",
     "output_type": "stream",
     "text": [
      "-------------------\n",
      "Start dividing video in chuncks and converting to audio\n",
      "-------------------\n",
      "eisenhower_for_president_1952\n",
      "5\n",
      "5\n",
      "5\n",
      "62.09 5\n",
      "The video eisenhower_for_president_1952 is long 62.09 seconds and has been split in 4 audio files\n",
      "kennedy_for_me_campaign_jingle_jfk_1960\n",
      "12\n",
      "12\n",
      "12\n",
      "60.23 12\n",
      "The video kennedy_for_me_campaign_jingle_jfk_1960 is long 60.23 seconds and has been split in 4 audio files\n",
      "high_quality_famous_daisy_attack_ad_from_1964_presidential_election\n",
      "0\n",
      "0\n",
      "0\n"
     ]
    },
    {
     "ename": "IndexError",
     "evalue": "list index out of range",
     "output_type": "error",
     "traceback": [
      "\u001b[1;31m---------------------------------------------------------------------------\u001b[0m",
      "\u001b[1;31mIndexError\u001b[0m                                Traceback (most recent call last)",
      "\u001b[1;32m<ipython-input-26-25463d377b50>\u001b[0m in \u001b[0;36m<module>\u001b[1;34m()\u001b[0m\n\u001b[0;32m     38\u001b[0m     \u001b[1;31m# now recombine the chunks so that the parts are at least 10 sec long\u001b[0m\u001b[1;33m\u001b[0m\u001b[1;33m\u001b[0m\u001b[0m\n\u001b[0;32m     39\u001b[0m     \u001b[0mtarget_length\u001b[0m \u001b[1;33m=\u001b[0m \u001b[1;36m10\u001b[0m \u001b[1;33m*\u001b[0m \u001b[1;36m1000\u001b[0m\u001b[1;33m\u001b[0m\u001b[0m\n\u001b[1;32m---> 40\u001b[1;33m     \u001b[0moutput_chunks\u001b[0m \u001b[1;33m=\u001b[0m \u001b[1;33m[\u001b[0m\u001b[0mchunks\u001b[0m\u001b[1;33m[\u001b[0m\u001b[1;36m0\u001b[0m\u001b[1;33m]\u001b[0m\u001b[1;33m]\u001b[0m\u001b[1;33m\u001b[0m\u001b[0m\n\u001b[0m\u001b[0;32m     41\u001b[0m     \u001b[1;32mfor\u001b[0m \u001b[0mchunk\u001b[0m \u001b[1;32min\u001b[0m \u001b[0mchunks\u001b[0m\u001b[1;33m[\u001b[0m\u001b[1;36m1\u001b[0m\u001b[1;33m:\u001b[0m\u001b[1;33m]\u001b[0m\u001b[1;33m:\u001b[0m\u001b[1;33m\u001b[0m\u001b[0m\n\u001b[0;32m     42\u001b[0m         \u001b[1;32mif\u001b[0m \u001b[0mlen\u001b[0m\u001b[1;33m(\u001b[0m\u001b[0moutput_chunks\u001b[0m\u001b[1;33m[\u001b[0m\u001b[1;33m-\u001b[0m\u001b[1;36m1\u001b[0m\u001b[1;33m]\u001b[0m\u001b[1;33m)\u001b[0m \u001b[1;33m<\u001b[0m \u001b[0mtarget_length\u001b[0m\u001b[1;33m:\u001b[0m\u001b[1;33m\u001b[0m\u001b[0m\n",
      "\u001b[1;31mIndexError\u001b[0m: list index out of range"
     ]
    }
   ],
   "source": [
    "#TODO split on silence\n",
    "\n",
    "#set procedure starting time\n",
    "print('-------------------')\n",
    "print(\"Start dividing video in chuncks and converting to audio\")\n",
    "print('-------------------')\n",
    "start = time.time()\n",
    "\n",
    "#store audio lenght\n",
    "audio_lenght = []\n",
    "\n",
    "#convert video to audio, and plit in chunks\n",
    "for title in titles:\n",
    "\n",
    "    #set path to file to convert\n",
    "    path_to_file = os.path.join(dir_video, title) + '.mp4'\n",
    "        \n",
    "    #read file \n",
    "    sound = AudioSegment.from_file(path_to_file, \"mp4\")\n",
    "    \n",
    "    #estimate length\n",
    "    file_length = round(len(sound)/1000, 2)\n",
    "    audio_lenght.append(file_length)\n",
    "    \n",
    "\n",
    "    print(title)\n",
    "    \n",
    "    #split audio when it is silent for at least one second or quieter than -16 dBFS\n",
    "    chunks = split_on_silence(sound, min_silence_len=500, silence_thresh=-16,  keep_silence=200)\n",
    "    print(len(chunks))\n",
    "    \n",
    "    if len(chunks) == 0:\n",
    "        chunks = split_on_silence(sound, min_silence_len=500, silence_thresh=-48,  keep_silence=200)\n",
    "    print(len(chunks))\n",
    "    \n",
    "    if len(chunks) == 1:\n",
    "        chunks = split_on_silence(sound, min_silence_len=300, silence_thresh=-72,  keep_silence=200)\n",
    "    print(len(chunks))\n",
    "    \n",
    "    # now recombine the chunks so that the parts are at least 10 sec long\n",
    "    target_length = 10 * 1000\n",
    "    output_chunks = [chunks[0]]\n",
    "    for chunk in chunks[1:]:\n",
    "        if len(output_chunks[-1]) < target_length:\n",
    "            output_chunks[-1] += chunk\n",
    "        else:\n",
    "            # if the last output chunk is longer than the target length start a new one\n",
    "            output_chunks.append(chunk)\n",
    "    \n",
    "    print(file_length,len(chunks))\n",
    "    \n",
    "    dir_file = os.path.join(dir_audio, title)\n",
    "    #take each chunck and save it as wav\n",
    "    for i, chunk in enumerate(output_chunks):\n",
    "        chunk.export(dir_file + \"_chunck_{}.wav\".format(i+1), format=\"wav\")\n",
    "        \n",
    "    print('The video {0} is long {1} seconds and has been split in {2} audio files'.format(title, file_length,len(output_chunks)))\n",
    "    \n",
    "#set procedure ending time\n",
    "end = time.time()\n",
    "print('-------------------')\n",
    "print('Process completed')\n",
    "print('-------------------')\n",
    "print('It took {} seconds to chunk the video and convert '.format(round(end - start, 2)))"
   ]
  },
  {
   "cell_type": "code",
   "execution_count": 56,
   "metadata": {},
   "outputs": [
    {
     "name": "stdout",
     "output_type": "stream",
     "text": [
      "mcgovern_defense_plan_ad_nixon_1972_presidential_campaign_commercial 15\n",
      "15\n",
      "15\n",
      "60.05 15\n",
      "The video high_quality_famous_daisy_attack_ad_from_1964_presidential_election is long 60.05 seconds and has been split in 1 audio files\n"
     ]
    }
   ],
   "source": [
    "#sample code to check split on silence\n",
    "\n",
    "title_HS = titles[4]\n",
    "path_to_file = os.path.join(dir_video, title_HS) + '.mp4'\n",
    "sound = AudioSegment.from_file(path_to_file, \"mp4\")\n",
    "file_length = round(len(sound)/1000, 2)\n",
    "\n",
    "chunks = split_on_silence(sound, min_silence_len=300, silence_thresh=-16,  keep_silence=200) #,  keep_silence=200\n",
    "print(title_HS, len(chunks))\n",
    "\n",
    "if len(chunks) == 0:\n",
    "    chunks = split_on_silence(sound, min_silence_len=500, silence_thresh=-32,  keep_silence=200)\n",
    "print(len(chunks))\n",
    "\n",
    "if len(chunks) == 0:\n",
    "    chunks = split_on_silence(sound, min_silence_len=300, silence_thresh=-32,  keep_silence=200)\n",
    "print(len(chunks))\n",
    "\n",
    "target_length =  10 * 1000\n",
    "    \n",
    "output_chunks = [chunks[0]]\n",
    "for chunk in chunks[1:]:\n",
    "    if len(output_chunks[-1]) < target_length:\n",
    "        output_chunks[-1] += chunk\n",
    "    else:\n",
    "        # if the last output chunk is longer than the target length start a new one\n",
    "        output_chunks.append(chunk)\n",
    "        \n",
    "print(file_length,len(chunks))\n",
    "\n",
    "dir_file = os.path.join(dir_audio, title_HS)\n",
    "#take each chunck and save it as wav\n",
    "for i, chunk in enumerate(output_chunks):\n",
    "    chunk.export(dir_file + \"_chunck_{}.wav\".format(i+1), format=\"wav\")\n",
    "\n",
    "print('The video {0} is long {1} seconds and has been split in {2} audio files'.format(title, file_length,len(output_chunks)))"
   ]
  },
  {
   "cell_type": "markdown",
   "metadata": {},
   "source": [
    "| title | min_silence_len| silence_thresh |keep_silence| target_length |\n",
    "|---|---|---|---|---|\n",
    "| eisenhower | 500 | -16 | 200 | 10 |\n",
    "| kennedy | 500 | -16 | 200 | 10 |\n",
    "| LBJ | 500 | -32 | 200 | 5 |\n",
    "| HHH | 500 | -16 | 200 | 5 |\n",
    "\n"
   ]
  },
  {
   "cell_type": "code",
   "execution_count": 65,
   "metadata": {},
   "outputs": [
    {
     "data": {
      "text/html": [
       "<div>\n",
       "<style scoped>\n",
       "    .dataframe tbody tr th:only-of-type {\n",
       "        vertical-align: middle;\n",
       "    }\n",
       "\n",
       "    .dataframe tbody tr th {\n",
       "        vertical-align: top;\n",
       "    }\n",
       "\n",
       "    .dataframe thead th {\n",
       "        text-align: right;\n",
       "    }\n",
       "</style>\n",
       "<table border=\"1\" class=\"dataframe\">\n",
       "  <thead>\n",
       "    <tr style=\"text-align: right;\">\n",
       "      <th></th>\n",
       "      <th>video_url</th>\n",
       "      <th>thumbnail_url</th>\n",
       "      <th>titles</th>\n",
       "      <th>length[sec]</th>\n",
       "      <th>year</th>\n",
       "      <th>candidate_name</th>\n",
       "      <th>party</th>\n",
       "      <th>win</th>\n",
       "    </tr>\n",
       "  </thead>\n",
       "  <tbody>\n",
       "    <tr>\n",
       "      <th>0</th>\n",
       "      <td>https://youtu.be/Y9RAxAgksSE</td>\n",
       "      <td>https://i.ytimg.com/vi/y9raxagksse/default.jpg</td>\n",
       "      <td>eisenhower_for_president_1952</td>\n",
       "      <td>62.09</td>\n",
       "      <td>1952</td>\n",
       "      <td>IKE</td>\n",
       "      <td>republican</td>\n",
       "      <td>-</td>\n",
       "    </tr>\n",
       "    <tr>\n",
       "      <th>1</th>\n",
       "      <td>https://youtu.be/vs5ORK8RLWk</td>\n",
       "      <td>https://i.ytimg.com/vi/vs5ork8rlwk/default.jpg</td>\n",
       "      <td>kennedy_for_me_campaign_jingle_jfk_1960</td>\n",
       "      <td>60.23</td>\n",
       "      <td>1960</td>\n",
       "      <td>JFK</td>\n",
       "      <td>democratic</td>\n",
       "      <td>-</td>\n",
       "    </tr>\n",
       "    <tr>\n",
       "      <th>2</th>\n",
       "      <td>https://youtu.be/dDTBnsqxZ3k</td>\n",
       "      <td>https://i.ytimg.com/vi/ddtbnsqxz3k/default.jpg</td>\n",
       "      <td>high_quality_famous_daisy_attack_ad_from_1964_...</td>\n",
       "      <td>66.90</td>\n",
       "      <td>1964</td>\n",
       "      <td>LBJ</td>\n",
       "      <td>democratic</td>\n",
       "      <td>-</td>\n",
       "    </tr>\n",
       "    <tr>\n",
       "      <th>3</th>\n",
       "      <td>https://youtu.be/Qwk_epMblW4</td>\n",
       "      <td>https://i.ytimg.com/vi/qwk_epmblw4/default.jpg</td>\n",
       "      <td>humphrey_laughing_at_spiro_agnew_1968_politica...</td>\n",
       "      <td>19.25</td>\n",
       "      <td>1968</td>\n",
       "      <td>HHH</td>\n",
       "      <td>republican</td>\n",
       "      <td>0</td>\n",
       "    </tr>\n",
       "    <tr>\n",
       "      <th>4</th>\n",
       "      <td>https://youtu.be/qVcFUIXEDZ8</td>\n",
       "      <td>https://i.ytimg.com/vi/qvcfuixedz8/default.jpg</td>\n",
       "      <td>mcgovern_defense_plan_ad_nixon_1972_presidenti...</td>\n",
       "      <td>60.05</td>\n",
       "      <td>1972</td>\n",
       "      <td>NIX</td>\n",
       "      <td>republican</td>\n",
       "      <td>-</td>\n",
       "    </tr>\n",
       "    <tr>\n",
       "      <th>5</th>\n",
       "      <td>https://youtu.be/EU-IBF8nwSY</td>\n",
       "      <td>https://i.ytimg.com/vi/eu-ibf8nwsy/default.jpg</td>\n",
       "      <td>ronald_reagan_tv_ad_its_morning_in_america_again</td>\n",
       "      <td>59.95</td>\n",
       "      <td>1984</td>\n",
       "      <td>---</td>\n",
       "      <td>---</td>\n",
       "      <td>-</td>\n",
       "    </tr>\n",
       "    <tr>\n",
       "      <th>6</th>\n",
       "      <td>https://youtu.be/PmwhdDv8VrM</td>\n",
       "      <td>https://i.ytimg.com/vi/pmwhddv8vrm/default.jpg</td>\n",
       "      <td>1988_george_bush_sr_revolving_door_attack_ad_c...</td>\n",
       "      <td>29.88</td>\n",
       "      <td>1988</td>\n",
       "      <td>---</td>\n",
       "      <td>---</td>\n",
       "      <td>-</td>\n",
       "    </tr>\n",
       "    <tr>\n",
       "      <th>7</th>\n",
       "      <td>https://youtu.be/Xq_x3JUwrU0</td>\n",
       "      <td>https://i.ytimg.com/vi/xq_x3juwru0/default.jpg</td>\n",
       "      <td>bill_clinton_hope_ad_1992</td>\n",
       "      <td>60.26</td>\n",
       "      <td>1992</td>\n",
       "      <td>---</td>\n",
       "      <td>---</td>\n",
       "      <td>-</td>\n",
       "    </tr>\n",
       "    <tr>\n",
       "      <th>8</th>\n",
       "      <td>https://youtu.be/pbdzMLk9wHQ</td>\n",
       "      <td>https://i.ytimg.com/vi/pbdzmlk9whq/default.jpg</td>\n",
       "      <td>historical_campaign_ad_windsurfing_bushcheney_04</td>\n",
       "      <td>30.09</td>\n",
       "      <td>2004</td>\n",
       "      <td>---</td>\n",
       "      <td>---</td>\n",
       "      <td>-</td>\n",
       "    </tr>\n",
       "    <tr>\n",
       "      <th>9</th>\n",
       "      <td>https://youtu.be/jjXyqcx-mYY</td>\n",
       "      <td>https://i.ytimg.com/vi/jjxyqcx-myy/default.jpg</td>\n",
       "      <td>yes_we_can__barack_obama_music_video</td>\n",
       "      <td>270.21</td>\n",
       "      <td>2008</td>\n",
       "      <td>---</td>\n",
       "      <td>---</td>\n",
       "      <td>-</td>\n",
       "    </tr>\n",
       "  </tbody>\n",
       "</table>\n",
       "</div>"
      ],
      "text/plain": [
       "                      video_url  \\\n",
       "0  https://youtu.be/Y9RAxAgksSE   \n",
       "1  https://youtu.be/vs5ORK8RLWk   \n",
       "2  https://youtu.be/dDTBnsqxZ3k   \n",
       "3  https://youtu.be/Qwk_epMblW4   \n",
       "4  https://youtu.be/qVcFUIXEDZ8   \n",
       "5  https://youtu.be/EU-IBF8nwSY   \n",
       "6  https://youtu.be/PmwhdDv8VrM   \n",
       "7  https://youtu.be/Xq_x3JUwrU0   \n",
       "8  https://youtu.be/pbdzMLk9wHQ   \n",
       "9  https://youtu.be/jjXyqcx-mYY   \n",
       "\n",
       "                                    thumbnail_url  \\\n",
       "0  https://i.ytimg.com/vi/y9raxagksse/default.jpg   \n",
       "1  https://i.ytimg.com/vi/vs5ork8rlwk/default.jpg   \n",
       "2  https://i.ytimg.com/vi/ddtbnsqxz3k/default.jpg   \n",
       "3  https://i.ytimg.com/vi/qwk_epmblw4/default.jpg   \n",
       "4  https://i.ytimg.com/vi/qvcfuixedz8/default.jpg   \n",
       "5  https://i.ytimg.com/vi/eu-ibf8nwsy/default.jpg   \n",
       "6  https://i.ytimg.com/vi/pmwhddv8vrm/default.jpg   \n",
       "7  https://i.ytimg.com/vi/xq_x3juwru0/default.jpg   \n",
       "8  https://i.ytimg.com/vi/pbdzmlk9whq/default.jpg   \n",
       "9  https://i.ytimg.com/vi/jjxyqcx-myy/default.jpg   \n",
       "\n",
       "                                              titles  length[sec]  year  \\\n",
       "0                      eisenhower_for_president_1952        62.09  1952   \n",
       "1            kennedy_for_me_campaign_jingle_jfk_1960        60.23  1960   \n",
       "2  high_quality_famous_daisy_attack_ad_from_1964_...        66.90  1964   \n",
       "3  humphrey_laughing_at_spiro_agnew_1968_politica...        19.25  1968   \n",
       "4  mcgovern_defense_plan_ad_nixon_1972_presidenti...        60.05  1972   \n",
       "5   ronald_reagan_tv_ad_its_morning_in_america_again        59.95  1984   \n",
       "6  1988_george_bush_sr_revolving_door_attack_ad_c...        29.88  1988   \n",
       "7                          bill_clinton_hope_ad_1992        60.26  1992   \n",
       "8   historical_campaign_ad_windsurfing_bushcheney_04        30.09  2004   \n",
       "9               yes_we_can__barack_obama_music_video       270.21  2008   \n",
       "\n",
       "  candidate_name       party win  \n",
       "0            IKE  republican   -  \n",
       "1            JFK  democratic   -  \n",
       "2            LBJ  democratic   -  \n",
       "3            HHH  republican   0  \n",
       "4            NIX  republican   -  \n",
       "5            ---         ---   -  \n",
       "6            ---         ---   -  \n",
       "7            ---         ---   -  \n",
       "8            ---         ---   -  \n",
       "9            ---         ---   -  "
      ]
     },
     "execution_count": 65,
     "metadata": {},
     "output_type": "execute_result"
    }
   ],
   "source": [
    "#add some predictors\n",
    "year = ['1952','1960','1964','1968','1972','1984','1988','1992','2004','2008']\n",
    "candidate = ['IKE', 'JFK', 'LBJ', 'HHH', 'NIX','---','---','---','---','---' ]\n",
    "party = ['republican','democratic','democratic','republican', 'republican','---','---','---','---','---',]\n",
    "win = ['-','-','-',0,'-','-','-','-','-','-']\n",
    "\n",
    "df = pd.DataFrame({'video_url':videos_urls,\n",
    "                   'thumbnail_url':thumbnail_urls,\n",
    "                   'titles':titles,\n",
    "                   'length[sec]':audio_lenght,\n",
    "                   'year':year,\n",
    "                   'candidate_name':candidate,\n",
    "                   'party': party,\n",
    "                   'win': win})\n",
    "\n",
    "df"
   ]
  },
  {
   "cell_type": "code",
   "execution_count": 66,
   "metadata": {},
   "outputs": [],
   "source": [
    "#dump the dataframe on a file\n",
    "import pickle\n",
    "import json\n",
    "\n",
    "#dump the dataframe on a file\n",
    "df.to_pickle('../Ads_presidential_election')\n",
    "#load dataframe on a file\n",
    "#df = pd.read_pickle('../Ads_presidential_election')"
   ]
  },
  {
   "cell_type": "code",
   "execution_count": null,
   "metadata": {},
   "outputs": [],
   "source": [
    "#TODO\n",
    "\n",
    "#other features\n",
    "###number of words\n",
    "\n",
    "#advanced features\n",
    "###extract frames from video (https://stackoverflow.com/questions/27481993/extracting-image-from-video-at-a-given-time-using-opencv)\n",
    "###number of views\n",
    "###users comments on you tube"
   ]
  },
  {
   "cell_type": "markdown",
   "metadata": {},
   "source": [
    "## Feature Extraction\n",
    "\n",
    "### Set up containers and upload files (audio & image)"
   ]
  },
  {
   "cell_type": "code",
   "execution_count": 149,
   "metadata": {},
   "outputs": [],
   "source": [
    "def make_public_container(storage_name, storage_key, container_name):\n",
    "    \"\"\"\"create blob service and blob container. return blob service\"\"\"\n",
    "\n",
    "    blob_service = BlockBlobService(account_name= storage_name, account_key=storage_key)\n",
    "    container_name = container_name\n",
    "    new_container = blob_service.create_container(container_name, public_access=PublicAccess.Container) \n",
    "    #blob_service.set_container_acl(new_container_name, public_access=PublicAccess.Container)\n",
    "\n",
    "    if new_container == True:\n",
    "        print('{} container succesfully created'.format(ncontainer_name))\n",
    "    else:\n",
    "        print('{] something went wrong: check parameters and subscription'.format(container_name))\n",
    "        \n",
    "    return blob_service"
   ]
  },
  {
   "cell_type": "code",
   "execution_count": 421,
   "metadata": {},
   "outputs": [],
   "source": [
    "def get_files(dir_files):\n",
    "    \"\"\"\"store file name, extension and path \"\"\"\n",
    "    \n",
    "    files_name = []\n",
    "    files_path = []\n",
    "    files_extension = []\n",
    "    \n",
    "    for root, directories, files in os.walk(dir_files):\n",
    "        for file in files:\n",
    "            files_name.append(file)\n",
    "            files_path.append(os.path.join(root,file))\n",
    "            files_extension.append(file.split('.')[-1])\n",
    "            \n",
    "    return files_name, files_path, files_extension"
   ]
  },
  {
   "cell_type": "code",
   "execution_count": 424,
   "metadata": {},
   "outputs": [],
   "source": [
    "def upload_file(blob_service, container, file, path, extension, content_type):\n",
    "        #TODO: CREATE BLOB SERVICE\n",
    "    \n",
    "        #upload blob using the arguments: container, file path, file name, and content type\n",
    "        try:\n",
    "            blob_service.create_blob_from_path(container, file, path, content_settings=ContentSettings(content_type= content_type+extension))    \n",
    "            print(\"{} BLOB upload status: successful\".format(file))\n",
    "        \n",
    "        except:\n",
    "            print(\"{} BLOB upload status: failed\".format(file))"
   ]
  },
  {
   "cell_type": "code",
   "execution_count": 402,
   "metadata": {},
   "outputs": [
    {
     "data": {
      "text/plain": [
       "{'NAME': 'cloudcomputingplayground',\n",
       " 'API_KEY': 'ItdsjxJIAo0DGyShdBBiQotdEZ+u4SgMhTNQtDtFAY3rupviiam0k/EyxwOA+taDwAaJcNGKADpEjAJN3fBLww=='}"
      ]
     },
     "execution_count": 402,
     "metadata": {},
     "output_type": "execute_result"
    }
   ],
   "source": [
    "import pickle\n",
    "with open('C:/Users/popor/Desktop/azure_services_keys_v1.1.json', 'rb') as handle:\n",
    "    azure_keys = pickle.load(handle)\n",
    "    \n",
    "azure_keys['STORAGE']"
   ]
  },
  {
   "cell_type": "code",
   "execution_count": 433,
   "metadata": {},
   "outputs": [
    {
     "name": "stdout",
     "output_type": "stream",
     "text": [
      "myaudiofiles delition status success: True\n"
     ]
    }
   ],
   "source": [
    "##################\n",
    "#RUN IF NECESSARY#\n",
    "##################\n",
    "\n",
    "#delete container\n",
    "#delete_container = blob_service.delete_container(NEW_CONTAINER_NAME)\n",
    "#print(\"{} delition status success: {}\".format(NEW_CONTAINER_NAME, delete_container))"
   ]
  },
  {
   "cell_type": "code",
   "execution_count": 436,
   "metadata": {},
   "outputs": [],
   "source": [
    "#import libraries\n",
    "from azure.storage.blob import BlockBlobService, PublicAccess\n",
    "from azure.storage.blob import ContentSettings\n",
    "import os\n",
    "\n",
    "#set directory to audio files\n",
    "if os.getcwd().split('\\\\')[-1] == 'audio':\n",
    "    dir_files = os.getcwd()\n",
    "else:\n",
    "    os.chdir('../../data/video/audio/')\n",
    "    dir_files = os.getcwd()\n",
    "    \n",
    "#find names and paths\n",
    "files_name, files_path, files_extension = get_files(dir_files)\n",
    "\n",
    "#set storage name and keys\n",
    "STORAGE_NAME = azure_keys['STORAGE']['NAME']\n",
    "STORAGE_KEY = azure_keys['STORAGE']['API_KEY']\n",
    "\n",
    "#set a name for a new container\n",
    "NEW_CONTAINER_NAME ='myaudio'"
   ]
  },
  {
   "cell_type": "code",
   "execution_count": 437,
   "metadata": {},
   "outputs": [
    {
     "name": "stdout",
     "output_type": "stream",
     "text": [
      "myaudio BLOB container has been successfully created: True\n"
     ]
    }
   ],
   "source": [
    "#make container function (exist already, test it)\n",
    "\n",
    "blob_service = BlockBlobService(account_name= STORAGE_NAME, account_key=STORAGE_KEY)\n",
    "new_container = blob_service.create_container(NEW_CONTAINER_NAME) \n",
    "blob_service.set_container_acl(NEW_CONTAINER_NAME, public_access=PublicAccess.Container)\n",
    "print(\"{} BLOB container has been successfully created: {}\".format(NEW_CONTAINER_NAME, new_container))"
   ]
  },
  {
   "cell_type": "code",
   "execution_count": 440,
   "metadata": {},
   "outputs": [
    {
     "name": "stdout",
     "output_type": "stream",
     "text": [
      "1988_george_bush_sr_revolving_door_attack_ad_campaign_chunck_1.wav BLOB upload status: successful\n",
      "1988_george_bush_sr_revolving_door_attack_ad_campaign_chunck_2.wav BLOB upload status: successful\n",
      "1988_george_bush_sr_revolving_door_attack_ad_campaign_chunck_3.wav BLOB upload status: successful\n",
      "bill_clinton_hope_ad_1992_chunck_1.wav BLOB upload status: successful\n",
      "bill_clinton_hope_ad_1992_chunck_2.wav BLOB upload status: successful\n",
      "bill_clinton_hope_ad_1992_chunck_3.wav BLOB upload status: successful\n",
      "bill_clinton_hope_ad_1992_chunck_4.wav BLOB upload status: successful\n",
      "bill_clinton_hope_ad_1992_chunck_5.wav BLOB upload status: successful\n",
      "bill_clinton_hope_ad_1992_chunck_6.wav BLOB upload status: successful\n",
      "bill_clinton_hope_ad_1992_chunck_7.wav BLOB upload status: successful\n",
      "eisenhower_for_president_1952_chunck_1.wav BLOB upload status: successful\n",
      "eisenhower_for_president_1952_chunck_2.wav BLOB upload status: successful\n",
      "eisenhower_for_president_1952_chunck_3.wav BLOB upload status: successful\n",
      "eisenhower_for_president_1952_chunck_4.wav BLOB upload status: successful\n",
      "eisenhower_for_president_1952_chunck_5.wav BLOB upload status: successful\n",
      "eisenhower_for_president_1952_chunck_6.wav BLOB upload status: successful\n",
      "eisenhower_for_president_1952_chunck_7.wav BLOB upload status: successful\n",
      "high_quality_famous_daisy_attack_ad_from_1964_presidential_election_chunck_1.wav BLOB upload status: successful\n",
      "high_quality_famous_daisy_attack_ad_from_1964_presidential_election_chunck_2.wav BLOB upload status: successful\n",
      "high_quality_famous_daisy_attack_ad_from_1964_presidential_election_chunck_3.wav BLOB upload status: successful\n",
      "high_quality_famous_daisy_attack_ad_from_1964_presidential_election_chunck_4.wav BLOB upload status: successful\n",
      "high_quality_famous_daisy_attack_ad_from_1964_presidential_election_chunck_5.wav BLOB upload status: successful\n",
      "high_quality_famous_daisy_attack_ad_from_1964_presidential_election_chunck_6.wav BLOB upload status: successful\n",
      "high_quality_famous_daisy_attack_ad_from_1964_presidential_election_chunck_7.wav BLOB upload status: successful\n",
      "historical_campaign_ad_windsurfing_bushcheney_04_chunck_1.wav BLOB upload status: successful\n",
      "historical_campaign_ad_windsurfing_bushcheney_04_chunck_2.wav BLOB upload status: successful\n",
      "historical_campaign_ad_windsurfing_bushcheney_04_chunck_3.wav BLOB upload status: successful\n",
      "historical_campaign_ad_windsurfing_bushcheney_04_chunck_4.wav BLOB upload status: successful\n",
      "humphrey_laughing_at_spiro_agnew_1968_political_ad_chunck_1.wav BLOB upload status: successful\n",
      "humphrey_laughing_at_spiro_agnew_1968_political_ad_chunck_2.wav BLOB upload status: successful\n",
      "kennedy_for_me_campaign_jingle_jfk_1960_chunck_1.wav BLOB upload status: successful\n",
      "kennedy_for_me_campaign_jingle_jfk_1960_chunck_2.wav BLOB upload status: successful\n",
      "kennedy_for_me_campaign_jingle_jfk_1960_chunck_3.wav BLOB upload status: successful\n",
      "kennedy_for_me_campaign_jingle_jfk_1960_chunck_4.wav BLOB upload status: successful\n",
      "kennedy_for_me_campaign_jingle_jfk_1960_chunck_5.wav BLOB upload status: successful\n",
      "kennedy_for_me_campaign_jingle_jfk_1960_chunck_6.wav BLOB upload status: successful\n",
      "kennedy_for_me_campaign_jingle_jfk_1960_chunck_7.wav BLOB upload status: successful\n",
      "mcgovern_defense_plan_ad_nixon_1972_presidential_campaign_commercial_chunck_1.wav BLOB upload status: successful\n",
      "mcgovern_defense_plan_ad_nixon_1972_presidential_campaign_commercial_chunck_2.wav BLOB upload status: successful\n",
      "mcgovern_defense_plan_ad_nixon_1972_presidential_campaign_commercial_chunck_3.wav BLOB upload status: successful\n",
      "mcgovern_defense_plan_ad_nixon_1972_presidential_campaign_commercial_chunck_4.wav BLOB upload status: successful\n",
      "mcgovern_defense_plan_ad_nixon_1972_presidential_campaign_commercial_chunck_5.wav BLOB upload status: successful\n",
      "mcgovern_defense_plan_ad_nixon_1972_presidential_campaign_commercial_chunck_6.wav BLOB upload status: successful\n",
      "mcgovern_defense_plan_ad_nixon_1972_presidential_campaign_commercial_chunck_7.wav BLOB upload status: successful\n",
      "ronald_reagan_tv_ad_its_morning_in_america_again_chunck_1.wav BLOB upload status: successful\n",
      "ronald_reagan_tv_ad_its_morning_in_america_again_chunck_2.wav BLOB upload status: successful\n",
      "ronald_reagan_tv_ad_its_morning_in_america_again_chunck_3.wav BLOB upload status: successful\n",
      "ronald_reagan_tv_ad_its_morning_in_america_again_chunck_4.wav BLOB upload status: successful\n",
      "ronald_reagan_tv_ad_its_morning_in_america_again_chunck_5.wav BLOB upload status: successful\n",
      "ronald_reagan_tv_ad_its_morning_in_america_again_chunck_6.wav BLOB upload status: successful\n",
      "yes_we_can__barack_obama_music_video_chunck_1.wav BLOB upload status: successful\n",
      "yes_we_can__barack_obama_music_video_chunck_10.wav BLOB upload status: successful\n",
      "yes_we_can__barack_obama_music_video_chunck_11.wav BLOB upload status: successful\n",
      "yes_we_can__barack_obama_music_video_chunck_12.wav BLOB upload status: successful\n",
      "yes_we_can__barack_obama_music_video_chunck_13.wav BLOB upload status: successful\n",
      "yes_we_can__barack_obama_music_video_chunck_14.wav BLOB upload status: successful\n",
      "yes_we_can__barack_obama_music_video_chunck_15.wav BLOB upload status: successful\n",
      "yes_we_can__barack_obama_music_video_chunck_16.wav BLOB upload status: successful\n",
      "yes_we_can__barack_obama_music_video_chunck_17.wav BLOB upload status: successful\n",
      "yes_we_can__barack_obama_music_video_chunck_18.wav BLOB upload status: successful\n",
      "yes_we_can__barack_obama_music_video_chunck_19.wav BLOB upload status: successful\n",
      "yes_we_can__barack_obama_music_video_chunck_2.wav BLOB upload status: successful\n",
      "yes_we_can__barack_obama_music_video_chunck_20.wav BLOB upload status: successful\n",
      "yes_we_can__barack_obama_music_video_chunck_21.wav BLOB upload status: successful\n",
      "yes_we_can__barack_obama_music_video_chunck_22.wav BLOB upload status: successful\n",
      "yes_we_can__barack_obama_music_video_chunck_23.wav BLOB upload status: successful\n",
      "yes_we_can__barack_obama_music_video_chunck_24.wav BLOB upload status: successful\n",
      "yes_we_can__barack_obama_music_video_chunck_25.wav BLOB upload status: successful\n",
      "yes_we_can__barack_obama_music_video_chunck_26.wav BLOB upload status: successful\n",
      "yes_we_can__barack_obama_music_video_chunck_27.wav BLOB upload status: successful\n",
      "yes_we_can__barack_obama_music_video_chunck_28.wav BLOB upload status: successful\n",
      "yes_we_can__barack_obama_music_video_chunck_3.wav BLOB upload status: successful\n",
      "yes_we_can__barack_obama_music_video_chunck_4.wav BLOB upload status: successful\n",
      "yes_we_can__barack_obama_music_video_chunck_5.wav BLOB upload status: successful\n",
      "yes_we_can__barack_obama_music_video_chunck_6.wav BLOB upload status: successful\n",
      "yes_we_can__barack_obama_music_video_chunck_7.wav BLOB upload status: successful\n",
      "yes_we_can__barack_obama_music_video_chunck_8.wav BLOB upload status: successful\n",
      "yes_we_can__barack_obama_music_video_chunck_9.wav BLOB upload status: successful\n"
     ]
    }
   ],
   "source": [
    "#set uploading procedure starting time\n",
    "print('-------------------')\n",
    "print(\"Start uploading files\")\n",
    "print('-------------------')\n",
    "start = time.time()\n",
    "\n",
    "#set content type of the file, in this case is a audio .wav\n",
    "content_type = 'audio/x-'\n",
    "\n",
    "#upload all files at once to the new container\n",
    "for path, file, ext in zip(files_path, files_name, files_extension):\n",
    "    upload_file(blob_service, NEW_CONTAINER_NAME, file, path, ext, content_type)\n",
    "    \n",
    "    #add print only failed otherwise good to go\n",
    "    \n",
    "#set procedure ending time\n",
    "end = time.time()\n",
    "print('-------------------')\n",
    "print('Uploading completed')\n",
    "print('-------------------')\n",
    "print('It took {} seconds to upload the files'.format(round(end - start, 2)))"
   ]
  },
  {
   "cell_type": "markdown",
   "metadata": {},
   "source": [
    "## Extract text from audio using Bing Speech Recognition API"
   ]
  },
  {
   "cell_type": "code",
   "execution_count": 446,
   "metadata": {},
   "outputs": [],
   "source": [
    "#import libraries\n",
    "import pandas as pd\n",
    "\n",
    "import requests\n",
    "import urllib\n",
    "import uuid\n",
    "import json"
   ]
  },
  {
   "cell_type": "code",
   "execution_count": 443,
   "metadata": {},
   "outputs": [],
   "source": [
    "#get list of blob (function)\n",
    "uploaded_file = blob_service.list_blobs(NEW_CONTAINER_NAME)\n",
    "blob_name_list = []\n",
    "for blob in uploaded_file:\n",
    "    blob_name_list.append(blob.name)"
   ]
  },
  {
   "cell_type": "code",
   "execution_count": 450,
   "metadata": {},
   "outputs": [],
   "source": [
    "#configure API access\n",
    "SPEECH_RECOGNITION_KEY = azure_keys['SPEECH_RECOGNITION']['API_KEY']\n",
    "uri_token_speech = 'https://api.cognitive.microsoft.com/sts/v1.0/issueToken'\n",
    "url_speech = 'https://speech.platform.bing.com/recognize'"
   ]
  },
  {
   "cell_type": "code",
   "execution_count": 452,
   "metadata": {},
   "outputs": [
    {
     "name": "stdout",
     "output_type": "stream",
     "text": [
      "-------------------\n",
      "Start speech to text conversion\n",
      "-------------------\n",
      "1988_george_bush_sr_revolving_door_attack_ad_campaign_chunck_1.wav had a <Response [200]> response\n",
      "1988_george_bush_sr_revolving_door_attack_ad_campaign_chunck_2.wav had a <Response [200]> response\n",
      "1988_george_bush_sr_revolving_door_attack_ad_campaign_chunck_3.wav had a <Response [200]> response\n",
      "bill_clinton_hope_ad_1992_chunck_1.wav had a <Response [200]> response\n",
      "bill_clinton_hope_ad_1992_chunck_2.wav had a <Response [200]> response\n",
      "bill_clinton_hope_ad_1992_chunck_3.wav had a <Response [200]> response\n",
      "bill_clinton_hope_ad_1992_chunck_4.wav had a <Response [200]> response\n",
      "bill_clinton_hope_ad_1992_chunck_5.wav had a <Response [200]> response\n",
      "bill_clinton_hope_ad_1992_chunck_6.wav had a <Response [200]> response\n",
      "bill_clinton_hope_ad_1992_chunck_7.wav had a <Response [200]> response\n",
      "eisenhower_for_president_1952_chunck_1.wav had a <Response [200]> response\n",
      "eisenhower_for_president_1952_chunck_2.wav had a <Response [200]> response\n",
      "eisenhower_for_president_1952_chunck_3.wav had a <Response [200]> response\n",
      "eisenhower_for_president_1952_chunck_4.wav had a <Response [200]> response\n",
      "eisenhower_for_president_1952_chunck_5.wav had a <Response [200]> response\n",
      "eisenhower_for_president_1952_chunck_6.wav had a <Response [200]> response\n",
      "eisenhower_for_president_1952_chunck_7.wav had a <Response [200]> response\n",
      "high_quality_famous_daisy_attack_ad_from_1964_presidential_election_chunck_1.wav had a <Response [200]> response\n",
      "high_quality_famous_daisy_attack_ad_from_1964_presidential_election_chunck_2.wav had a <Response [200]> response\n",
      "high_quality_famous_daisy_attack_ad_from_1964_presidential_election_chunck_3.wav had a <Response [200]> response\n",
      "high_quality_famous_daisy_attack_ad_from_1964_presidential_election_chunck_4.wav had a <Response [200]> response\n",
      "high_quality_famous_daisy_attack_ad_from_1964_presidential_election_chunck_5.wav had a <Response [200]> response\n",
      "high_quality_famous_daisy_attack_ad_from_1964_presidential_election_chunck_6.wav had a <Response [200]> response\n",
      "high_quality_famous_daisy_attack_ad_from_1964_presidential_election_chunck_7.wav had a <Response [200]> response\n",
      "historical_campaign_ad_windsurfing_bushcheney_04_chunck_1.wav had a <Response [200]> response\n",
      "historical_campaign_ad_windsurfing_bushcheney_04_chunck_2.wav had a <Response [200]> response\n",
      "historical_campaign_ad_windsurfing_bushcheney_04_chunck_3.wav had a <Response [200]> response\n",
      "historical_campaign_ad_windsurfing_bushcheney_04_chunck_4.wav had a <Response [200]> response\n",
      "humphrey_laughing_at_spiro_agnew_1968_political_ad_chunck_1.wav had a <Response [200]> response\n",
      "humphrey_laughing_at_spiro_agnew_1968_political_ad_chunck_2.wav had a <Response [200]> response\n",
      "kennedy_for_me_campaign_jingle_jfk_1960_chunck_1.wav had a <Response [200]> response\n",
      "kennedy_for_me_campaign_jingle_jfk_1960_chunck_2.wav had a <Response [200]> response\n",
      "kennedy_for_me_campaign_jingle_jfk_1960_chunck_3.wav had a <Response [200]> response\n",
      "kennedy_for_me_campaign_jingle_jfk_1960_chunck_4.wav had a <Response [200]> response\n",
      "kennedy_for_me_campaign_jingle_jfk_1960_chunck_5.wav had a <Response [200]> response\n",
      "kennedy_for_me_campaign_jingle_jfk_1960_chunck_6.wav had a <Response [200]> response\n",
      "kennedy_for_me_campaign_jingle_jfk_1960_chunck_7.wav had a <Response [200]> response\n",
      "mcgovern_defense_plan_ad_nixon_1972_presidential_campaign_commercial_chunck_1.wav had a <Response [200]> response\n",
      "mcgovern_defense_plan_ad_nixon_1972_presidential_campaign_commercial_chunck_2.wav had a <Response [200]> response\n",
      "mcgovern_defense_plan_ad_nixon_1972_presidential_campaign_commercial_chunck_3.wav had a <Response [200]> response\n",
      "mcgovern_defense_plan_ad_nixon_1972_presidential_campaign_commercial_chunck_4.wav had a <Response [200]> response\n",
      "mcgovern_defense_plan_ad_nixon_1972_presidential_campaign_commercial_chunck_5.wav had a <Response [200]> response\n",
      "mcgovern_defense_plan_ad_nixon_1972_presidential_campaign_commercial_chunck_6.wav had a <Response [200]> response\n",
      "mcgovern_defense_plan_ad_nixon_1972_presidential_campaign_commercial_chunck_7.wav had a <Response [200]> response\n",
      "ronald_reagan_tv_ad_its_morning_in_america_again_chunck_1.wav had a <Response [200]> response\n",
      "ronald_reagan_tv_ad_its_morning_in_america_again_chunck_2.wav had a <Response [200]> response\n",
      "ronald_reagan_tv_ad_its_morning_in_america_again_chunck_3.wav had a <Response [200]> response\n",
      "ronald_reagan_tv_ad_its_morning_in_america_again_chunck_4.wav had a <Response [200]> response\n",
      "ronald_reagan_tv_ad_its_morning_in_america_again_chunck_5.wav had a <Response [200]> response\n",
      "ronald_reagan_tv_ad_its_morning_in_america_again_chunck_6.wav had a <Response [200]> response\n",
      "yes_we_can__barack_obama_music_video_chunck_1.wav had a <Response [200]> response\n",
      "yes_we_can__barack_obama_music_video_chunck_10.wav had a <Response [200]> response\n",
      "yes_we_can__barack_obama_music_video_chunck_11.wav had a <Response [200]> response\n",
      "yes_we_can__barack_obama_music_video_chunck_12.wav had a <Response [200]> response\n",
      "yes_we_can__barack_obama_music_video_chunck_13.wav had a <Response [200]> response\n",
      "yes_we_can__barack_obama_music_video_chunck_14.wav had a <Response [200]> response\n",
      "yes_we_can__barack_obama_music_video_chunck_15.wav had a <Response [200]> response\n",
      "yes_we_can__barack_obama_music_video_chunck_16.wav had a <Response [200]> response\n",
      "yes_we_can__barack_obama_music_video_chunck_17.wav had a <Response [200]> response\n",
      "yes_we_can__barack_obama_music_video_chunck_18.wav had a <Response [200]> response\n",
      "yes_we_can__barack_obama_music_video_chunck_19.wav had a <Response [200]> response\n",
      "yes_we_can__barack_obama_music_video_chunck_2.wav had a <Response [200]> response\n",
      "yes_we_can__barack_obama_music_video_chunck_20.wav had a <Response [200]> response\n",
      "yes_we_can__barack_obama_music_video_chunck_21.wav had a <Response [200]> response\n",
      "yes_we_can__barack_obama_music_video_chunck_22.wav had a <Response [200]> response\n",
      "yes_we_can__barack_obama_music_video_chunck_23.wav had a <Response [200]> response\n",
      "yes_we_can__barack_obama_music_video_chunck_24.wav had a <Response [200]> response\n",
      "yes_we_can__barack_obama_music_video_chunck_25.wav had a <Response [200]> response\n",
      "yes_we_can__barack_obama_music_video_chunck_26.wav had a <Response [200]> response\n",
      "yes_we_can__barack_obama_music_video_chunck_27.wav had a <Response [200]> response\n",
      "yes_we_can__barack_obama_music_video_chunck_28.wav had a <Response [200]> response\n",
      "yes_we_can__barack_obama_music_video_chunck_3.wav had a <Response [200]> response\n",
      "yes_we_can__barack_obama_music_video_chunck_4.wav had a <Response [200]> response\n",
      "yes_we_can__barack_obama_music_video_chunck_5.wav had a <Response [200]> response\n",
      "yes_we_can__barack_obama_music_video_chunck_6.wav had a <Response [200]> response\n",
      "yes_we_can__barack_obama_music_video_chunck_7.wav had a <Response [200]> response\n",
      "yes_we_can__barack_obama_music_video_chunck_8.wav had a <Response [200]> response\n",
      "yes_we_can__barack_obama_music_video_chunck_9.wav had a <Response [200]> response\n",
      "-------------------\n",
      "Conversion completed\n",
      "-------------------\n",
      "It took 564.42 seconds to chunk the video and convert \n"
     ]
    }
   ],
   "source": [
    "#set procedure starting time\n",
    "print('-------------------')\n",
    "print(\"Start speech to text conversion\")\n",
    "print('-------------------')\n",
    "start = time.time()\n",
    "\n",
    "#store http response and json file\n",
    "responses = []\n",
    "http_responses = []\n",
    "\n",
    "#run speech recognition on uploaded audio files (i.e. extension .wax)\n",
    "for blob_name in blob_name_list:\n",
    "    if blob_name.split('.')[-1] == 'wav':\n",
    "\n",
    "        #request for token\n",
    "        uri_token = 'https://api.cognitive.microsoft.com/sts/v1.0/issueToken'\n",
    "        headers = {'Content-Length': '0', #need this?\n",
    "                   'Ocp-Apim-Subscription-Key': SPEECH_RECOGNITION_KEY}\n",
    "        api_response = requests.post(uri_token_speech, headers=headers)\n",
    "        access_token = str(api_response.content.decode('utf-8'))\n",
    "\n",
    "        #convert blob to bytes\n",
    "        blob = blob_service.get_blob_to_bytes(NEW_CONTAINER_NAME, blob_name)\n",
    "\n",
    "        #request for speech recognition service\n",
    "        headers = {'Authorization': 'Bearer {0}'.format(access_token),\n",
    "                   'Content-type': 'audio/wav', \n",
    "                   'codec': 'audio/pcm', \n",
    "                   'samplerate': '16000'}\n",
    "        params = urllib.parse.urlencode({'scenarios': 'ulm',\n",
    "                                         'appid': 'D4D52672-91D7-4C74-8AD8-42B1D98141A5',\n",
    "                                         'locale': 'en-US',\n",
    "                                         'device.os': 'PC',\n",
    "                                         'version': '3.0',\n",
    "                                         'format': 'json',\n",
    "                                         'instanceid': str(uuid.uuid1()),\n",
    "                                         'requestid': str(uuid.uuid1())})\n",
    "        api_response = requests.post(url_speech, headers=headers, params=params, data=blob.content)\n",
    "        print('{} had a {} response'.format(blob_name, api_response))\n",
    "\n",
    "        #extract data from response\n",
    "        res_json = json.loads(api_response.content.decode('utf-8'))\n",
    "        http_responses.append(api_response)\n",
    "        responses.append(res_json)\n",
    "    \n",
    "#set procedure ending time\n",
    "end = time.time()\n",
    "print('-------------------')\n",
    "print('Conversion completed')\n",
    "print('-------------------')\n",
    "print('It took {} seconds to chunk the video and convert '.format(round(end - start, 2)))"
   ]
  },
  {
   "cell_type": "code",
   "execution_count": 557,
   "metadata": {},
   "outputs": [
    {
     "data": {
      "text/html": [
       "<div>\n",
       "<style scoped>\n",
       "    .dataframe tbody tr th:only-of-type {\n",
       "        vertical-align: middle;\n",
       "    }\n",
       "\n",
       "    .dataframe tbody tr th {\n",
       "        vertical-align: top;\n",
       "    }\n",
       "\n",
       "    .dataframe thead th {\n",
       "        text-align: right;\n",
       "    }\n",
       "</style>\n",
       "<table border=\"1\" class=\"dataframe\">\n",
       "  <thead>\n",
       "    <tr style=\"text-align: right;\">\n",
       "      <th></th>\n",
       "      <th>file_name</th>\n",
       "      <th>stt_http_response</th>\n",
       "      <th>stt_id</th>\n",
       "      <th>stt_status</th>\n",
       "      <th>stt_name</th>\n",
       "      <th>stt_text</th>\n",
       "      <th>stt_confidence</th>\n",
       "    </tr>\n",
       "  </thead>\n",
       "  <tbody>\n",
       "    <tr>\n",
       "      <th>0</th>\n",
       "      <td>1988_george_bush_sr_revolving_door_attack_ad_c...</td>\n",
       "      <td>&lt;Response [200]&gt;</td>\n",
       "      <td>49e7ae57-2d45-423a-afeb-b9e405d28ffa</td>\n",
       "      <td>success</td>\n",
       "      <td>who is governor michael dukakis vitov mandator...</td>\n",
       "      <td>who is governor michael dukakis vitov mandator...</td>\n",
       "      <td>0.8767573</td>\n",
       "    </tr>\n",
       "    <tr>\n",
       "      <th>1</th>\n",
       "      <td>1988_george_bush_sr_revolving_door_attack_ad_c...</td>\n",
       "      <td>&lt;Response [200]&gt;</td>\n",
       "      <td>8e327848-32ca-4d66-abd7-636b2c1019f9</td>\n",
       "      <td>success</td>\n",
       "      <td>impolicy gave weekend frontales to first degre...</td>\n",
       "      <td>impolicy gave weekend frontales to first degre...</td>\n",
       "      <td>0.8767573</td>\n",
       "    </tr>\n",
       "    <tr>\n",
       "      <th>2</th>\n",
       "      <td>1988_george_bush_sr_revolving_door_attack_ad_c...</td>\n",
       "      <td>&lt;Response [200]&gt;</td>\n",
       "      <td>a9a576e0-4a40-4b84-bb02-188a13cd9baf</td>\n",
       "      <td>success</td>\n",
       "      <td>large how michael dukakis says he wants to do ...</td>\n",
       "      <td>large how michael dukakis says he wants to do ...</td>\n",
       "      <td>0.8767573</td>\n",
       "    </tr>\n",
       "    <tr>\n",
       "      <th>3</th>\n",
       "      <td>bill_clinton_hope_ad_1992_chunck_1.wav</td>\n",
       "      <td>&lt;Response [200]&gt;</td>\n",
       "      <td>4fa5c0c3-4c8b-4988-91b3-34e0028915bc</td>\n",
       "      <td>success</td>\n",
       "      <td>I was born a little town called hope arkansas ...</td>\n",
       "      <td>i was born a little town called hope arkansas ...</td>\n",
       "      <td>0.8767573</td>\n",
       "    </tr>\n",
       "    <tr>\n",
       "      <th>4</th>\n",
       "      <td>bill_clinton_hope_ad_1992_chunck_2.wav</td>\n",
       "      <td>&lt;Response [200]&gt;</td>\n",
       "      <td>7de8dcc0-b7e3-4ec4-923d-e7f43e8de2d0</td>\n",
       "      <td>success</td>\n",
       "      <td>very limited income it was in 1963 that I went...</td>\n",
       "      <td>very limited income it was in nineteen sixty t...</td>\n",
       "      <td>0.8767573</td>\n",
       "    </tr>\n",
       "  </tbody>\n",
       "</table>\n",
       "</div>"
      ],
      "text/plain": [
       "                                           file_name stt_http_response  \\\n",
       "0  1988_george_bush_sr_revolving_door_attack_ad_c...  <Response [200]>   \n",
       "1  1988_george_bush_sr_revolving_door_attack_ad_c...  <Response [200]>   \n",
       "2  1988_george_bush_sr_revolving_door_attack_ad_c...  <Response [200]>   \n",
       "3             bill_clinton_hope_ad_1992_chunck_1.wav  <Response [200]>   \n",
       "4             bill_clinton_hope_ad_1992_chunck_2.wav  <Response [200]>   \n",
       "\n",
       "                                 stt_id stt_status  \\\n",
       "0  49e7ae57-2d45-423a-afeb-b9e405d28ffa    success   \n",
       "1  8e327848-32ca-4d66-abd7-636b2c1019f9    success   \n",
       "2  a9a576e0-4a40-4b84-bb02-188a13cd9baf    success   \n",
       "3  4fa5c0c3-4c8b-4988-91b3-34e0028915bc    success   \n",
       "4  7de8dcc0-b7e3-4ec4-923d-e7f43e8de2d0    success   \n",
       "\n",
       "                                            stt_name  \\\n",
       "0  who is governor michael dukakis vitov mandator...   \n",
       "1  impolicy gave weekend frontales to first degre...   \n",
       "2  large how michael dukakis says he wants to do ...   \n",
       "3  I was born a little town called hope arkansas ...   \n",
       "4  very limited income it was in 1963 that I went...   \n",
       "\n",
       "                                            stt_text stt_confidence  \n",
       "0  who is governor michael dukakis vitov mandator...      0.8767573  \n",
       "1  impolicy gave weekend frontales to first degre...      0.8767573  \n",
       "2  large how michael dukakis says he wants to do ...      0.8767573  \n",
       "3  i was born a little town called hope arkansas ...      0.8767573  \n",
       "4  very limited income it was in nineteen sixty t...      0.8767573  "
      ]
     },
     "execution_count": 557,
     "metadata": {},
     "output_type": "execute_result"
    }
   ],
   "source": [
    "#organize response output\n",
    "status = []\n",
    "name = []\n",
    "lexical = []\n",
    "request_id = []\n",
    "confidence = []\n",
    "\n",
    "#select variables from output\n",
    "for i, response in enumerate(responses):\n",
    "    if responses[i]['header']['status'] == 'success':\n",
    "        status.append(responses[i]['header']['status'])\n",
    "        name.append(responses[i]['header']['name'])\n",
    "        lexical.append(responses[i]['header']['lexical'])\n",
    "        request_id.append(responses[i]['header']['properties']['requestid'])\n",
    "        confidence.append(responses[0]['results'][0]['confidence'])\n",
    "    else:\n",
    "        status.append('Error')\n",
    "        name.append('Nan')\n",
    "        lexical.append('Nan')\n",
    "        request_id.append('Nan')\n",
    "        confidence.append('Nan')\n",
    "\n",
    "#combine output into df\n",
    "df_log_response = pd.DataFrame({'file_name' : blob_name_list,\n",
    "                                'stt_http_response' :  http_responses,\n",
    "                                'stt_id' : request_id,\n",
    "                                'stt_status' : status,\n",
    "                                'stt_name' : name,\n",
    "                                'stt_text' : lexical,\n",
    "                                'stt_confidence' : confidence})\n",
    "\n",
    "#display df\n",
    "df_log_response.head()\n",
    "\n",
    "## dump to pickle"
   ]
  },
  {
   "cell_type": "code",
   "execution_count": 522,
   "metadata": {},
   "outputs": [],
   "source": [
    "#recompone text from speech recognition service into a df \n",
    "dict_speech_recognition = dict()\n",
    "candidate_president = ['eisenhower',\n",
    "                       'george_bush_sr',\n",
    "                       '1964',\n",
    "                       'humphrey',\n",
    "                       'jfk',\n",
    "                       'nixon',\n",
    "                       'ronald_reagan',\n",
    "                       'bill_clinton',\n",
    "                       'bushcheney',\n",
    "                       'barack_obama'] \n",
    "\n",
    "#extract text for each candidate and join it\n",
    "for name in candidate_president:    \n",
    "    dict_name = dict()\n",
    "    audio_text = []\n",
    "\n",
    "    for i, entry in enumerate(df_log_response.loc[:,'file_name']):\n",
    "        if name in entry:\n",
    "            #uncomment the line below and indent the next\n",
    "            #if you want to get a ride of Nan\n",
    "            #if df_re.loc[i, 'tts_text'] != 'Nan': \n",
    "            audio_text.append(df_log_response.loc[i, 'stt_text'])\n",
    "                        \n",
    "    n_words = []\n",
    "    for words in audio_text: \n",
    "        n_words.append(int(len(words.split(' '))))\n",
    "    words_count = sum(n_words)    \n",
    "    \n",
    "    joined_audio = \" \".join(audio_text)\n",
    "    dict_name['stt_text'] = joined_audio\n",
    "    dict_name['stt_words_count'] = words_count\n",
    "    dict_speech_recognition[name] = dict_name "
   ]
  },
  {
   "cell_type": "code",
   "execution_count": 535,
   "metadata": {},
   "outputs": [
    {
     "data": {
      "text/html": [
       "<div>\n",
       "<style scoped>\n",
       "    .dataframe tbody tr th:only-of-type {\n",
       "        vertical-align: middle;\n",
       "    }\n",
       "\n",
       "    .dataframe tbody tr th {\n",
       "        vertical-align: top;\n",
       "    }\n",
       "\n",
       "    .dataframe thead th {\n",
       "        text-align: right;\n",
       "    }\n",
       "</style>\n",
       "<table border=\"1\" class=\"dataframe\">\n",
       "  <thead>\n",
       "    <tr style=\"text-align: right;\">\n",
       "      <th></th>\n",
       "      <th>title</th>\n",
       "      <th>stt_text</th>\n",
       "      <th>stt_words_count</th>\n",
       "    </tr>\n",
       "  </thead>\n",
       "  <tbody>\n",
       "    <tr>\n",
       "      <th>0</th>\n",
       "      <td>1964</td>\n",
       "      <td>Nan play hello by standing ben Nan please are ...</td>\n",
       "      <td>50</td>\n",
       "    </tr>\n",
       "    <tr>\n",
       "      <th>1</th>\n",
       "      <td>barack_obama</td>\n",
       "      <td>Nan how Nan Nan how what Nan what people of th...</td>\n",
       "      <td>33</td>\n",
       "    </tr>\n",
       "    <tr>\n",
       "      <th>2</th>\n",
       "      <td>bill_clinton</td>\n",
       "      <td>i was born a little town called hope arkansas ...</td>\n",
       "      <td>173</td>\n",
       "    </tr>\n",
       "    <tr>\n",
       "      <th>3</th>\n",
       "      <td>bushcheney</td>\n",
       "      <td>i'm george W bush and i approve this message i...</td>\n",
       "      <td>78</td>\n",
       "    </tr>\n",
       "    <tr>\n",
       "      <th>4</th>\n",
       "      <td>eisenhower</td>\n",
       "      <td>i for president for president i like my comput...</td>\n",
       "      <td>31</td>\n",
       "    </tr>\n",
       "    <tr>\n",
       "      <th>5</th>\n",
       "      <td>george_bush_sr</td>\n",
       "      <td>who is governor michael dukakis vitov mandator...</td>\n",
       "      <td>63</td>\n",
       "    </tr>\n",
       "    <tr>\n",
       "      <th>6</th>\n",
       "      <td>humphrey</td>\n",
       "      <td>Nan Nan</td>\n",
       "      <td>2</td>\n",
       "    </tr>\n",
       "    <tr>\n",
       "      <th>7</th>\n",
       "      <td>jfk</td>\n",
       "      <td>Nan do you wanna man for president who season ...</td>\n",
       "      <td>17</td>\n",
       "    </tr>\n",
       "    <tr>\n",
       "      <th>8</th>\n",
       "      <td>nixon</td>\n",
       "      <td>the mcgovern defense plan he would cut the mar...</td>\n",
       "      <td>84</td>\n",
       "    </tr>\n",
       "    <tr>\n",
       "      <th>9</th>\n",
       "      <td>ronald_reagan</td>\n",
       "      <td>it's morning again in america today more men a...</td>\n",
       "      <td>112</td>\n",
       "    </tr>\n",
       "  </tbody>\n",
       "</table>\n",
       "</div>"
      ],
      "text/plain": [
       "            title                                           stt_text  \\\n",
       "0            1964  Nan play hello by standing ben Nan please are ...   \n",
       "1    barack_obama  Nan how Nan Nan how what Nan what people of th...   \n",
       "2    bill_clinton  i was born a little town called hope arkansas ...   \n",
       "3      bushcheney  i'm george W bush and i approve this message i...   \n",
       "4      eisenhower  i for president for president i like my comput...   \n",
       "5  george_bush_sr  who is governor michael dukakis vitov mandator...   \n",
       "6        humphrey                                            Nan Nan   \n",
       "7             jfk  Nan do you wanna man for president who season ...   \n",
       "8           nixon  the mcgovern defense plan he would cut the mar...   \n",
       "9   ronald_reagan  it's morning again in america today more men a...   \n",
       "\n",
       "   stt_words_count  \n",
       "0               50  \n",
       "1               33  \n",
       "2              173  \n",
       "3               78  \n",
       "4               31  \n",
       "5               63  \n",
       "6                2  \n",
       "7               17  \n",
       "8               84  \n",
       "9              112  "
      ]
     },
     "execution_count": 535,
     "metadata": {},
     "output_type": "execute_result"
    }
   ],
   "source": [
    "#convert dictionary to df\n",
    "df_stt = pd.DataFrame.from_dict(dict_speech_recognition , orient='index').reset_index()\n",
    "df_stt.columns =  'title', 'stt_text', 'stt_words_count'\n",
    "df_stt"
   ]
  },
  {
   "cell_type": "markdown",
   "metadata": {},
   "source": [
    "### Extract sentiment and key phrases from text using Text Analytics API"
   ]
  },
  {
   "cell_type": "code",
   "execution_count": 537,
   "metadata": {},
   "outputs": [
    {
     "data": {
      "text/plain": [
       "\"Nan play hello by standing ben Nan please are the stakes to make a world in which all of god 's children can live we must either love each other or we must die vote for president johnson on november the stakes are too high for you to stay home\""
      ]
     },
     "execution_count": 537,
     "metadata": {},
     "output_type": "execute_result"
    }
   ],
   "source": [
    "df_stt.loc[0,'stt_text']"
   ]
  },
  {
   "cell_type": "code",
   "execution_count": 541,
   "metadata": {},
   "outputs": [],
   "source": [
    "#configure API access\n",
    "TEXT_ANALYTICS_KEY = azure_keys['TEXT_ANALYTICS']['API_KEY']\n",
    "uri_sentiment = 'https://eastus.api.cognitive.microsoft.com/text/analytics/v2.0/sentiment'\n",
    "uri_key_phrases = 'https://eastus.api.cognitive.microsoft.com/text/analytics/v2.0/keyPhrases'"
   ]
  },
  {
   "cell_type": "code",
   "execution_count": 542,
   "metadata": {},
   "outputs": [],
   "source": [
    "#set text\n",
    "text = df_stt.loc[0,'stt_text']"
   ]
  },
  {
   "cell_type": "code",
   "execution_count": 543,
   "metadata": {},
   "outputs": [],
   "source": [
    "#set \n",
    "headers = {}\n",
    "headers['Ocp-Apim-Subscription-Key'] = TEXT_ANALYTICS_KEY\n",
    "headers['Content-Type'] = 'application/json'\n",
    "headers['Accept'] = 'application/json'"
   ]
  },
  {
   "cell_type": "code",
   "execution_count": 544,
   "metadata": {},
   "outputs": [],
   "source": [
    "# Determine sentiment\n",
    "postData = json.dumps({\"documents\":[{\"id\":str(uuid.uuid1()), \"language\":\"en\", \"text\":text}]}).encode('utf-8')\n",
    "request = urllib.request.Request(uri_sentiment, postData, headers)\n",
    "response = urllib.request.urlopen(request)\n",
    "responsejson = json.loads(response.read().decode('utf-8'))\n",
    "\n",
    "\n",
    "sentiment = responsejson['documents'][0]['score']"
   ]
  },
  {
   "cell_type": "code",
   "execution_count": 547,
   "metadata": {},
   "outputs": [
    {
     "data": {
      "text/plain": [
       "{'documents': [{'score': 0.8047256469726562,\n",
       "   'id': 'b5d5b500-950e-11e8-be5c-9cb6d0f30692'}],\n",
       " 'errors': []}"
      ]
     },
     "execution_count": 547,
     "metadata": {},
     "output_type": "execute_result"
    }
   ],
   "source": [
    "responsejson"
   ]
  },
  {
   "cell_type": "code",
   "execution_count": 545,
   "metadata": {},
   "outputs": [
    {
     "data": {
      "text/plain": [
       "0.8047256469726562"
      ]
     },
     "execution_count": 545,
     "metadata": {},
     "output_type": "execute_result"
    }
   ],
   "source": [
    "sentiment"
   ]
  },
  {
   "cell_type": "code",
   "execution_count": 548,
   "metadata": {},
   "outputs": [],
   "source": [
    "# Determine key phrases\n",
    "postData = postData\n",
    "request = urllib.request.Request(uri_key_phrases, postData, headers)\n",
    "response = urllib.request.urlopen(request)\n",
    "responsejson = json.loads(response.read().decode('utf-8'))\n",
    "keyPhrases = responsejson['documents'][0]['keyPhrases']"
   ]
  },
  {
   "cell_type": "code",
   "execution_count": 549,
   "metadata": {},
   "outputs": [
    {
     "data": {
      "text/plain": [
       "{'documents': [{'id': 'b5d5b500-950e-11e8-be5c-9cb6d0f30692',\n",
       "   'keyPhrases': ['stakes',\n",
       "    'ben Nan',\n",
       "    'Nan play hello',\n",
       "    'god',\n",
       "    'president johnson',\n",
       "    's children',\n",
       "    'vote',\n",
       "    'world']}],\n",
       " 'errors': []}"
      ]
     },
     "execution_count": 549,
     "metadata": {},
     "output_type": "execute_result"
    }
   ],
   "source": [
    "responsejson"
   ]
  },
  {
   "cell_type": "code",
   "execution_count": 550,
   "metadata": {},
   "outputs": [
    {
     "data": {
      "text/plain": [
       "['stakes',\n",
       " 'ben Nan',\n",
       " 'Nan play hello',\n",
       " 'god',\n",
       " 'president johnson',\n",
       " 's children',\n",
       " 'vote',\n",
       " 'world']"
      ]
     },
     "execution_count": 550,
     "metadata": {},
     "output_type": "execute_result"
    }
   ],
   "source": [
    "keyPhrases"
   ]
  },
  {
   "cell_type": "markdown",
   "metadata": {},
   "source": [
    "# CLEAN JUNK DOWN HERE"
   ]
  },
  {
   "cell_type": "code",
   "execution_count": 170,
   "metadata": {},
   "outputs": [],
   "source": [
    "azure_storage_account_name = 'cloudcomputingplayground' # add name\n",
    "azure_storage_account_key = azure_keys['STORAGE']['API_KEY']\n",
    "blob_container_name = 'cloudcomputingcontainer'\n",
    "blob_service = BlockBlobService(azure_storage_account_name, azure_storage_account_key)"
   ]
  },
  {
   "cell_type": "code",
   "execution_count": 171,
   "metadata": {},
   "outputs": [],
   "source": [
    "blob_name = 'Eisenhower_1952.chunk2.wav'\n",
    "blob = blob_service.get_blob_to_bytes(blob_container_name, blob_name)"
   ]
  },
  {
   "cell_type": "code",
   "execution_count": 172,
   "metadata": {},
   "outputs": [],
   "source": [
    "uri_token = 'https://api.cognitive.microsoft.com/sts/v1.0/issueToken'\n",
    "\n",
    "headers = {'Content-Length': '0', \n",
    "           'Ocp-Apim-Subscription-Key': speech_key}\n",
    "\n",
    "api_response = requests.post(uri_token, headers=headers)\n",
    "\n",
    "access_token = str(api_response.content.decode('utf-8'))"
   ]
  },
  {
   "cell_type": "code",
   "execution_count": 136,
   "metadata": {},
   "outputs": [
    {
     "data": {
      "text/plain": [
       "b'RIFFD((\\x00WAVEfmt \\x10\\x00\\x00\\x00'"
      ]
     },
     "execution_count": 136,
     "metadata": {},
     "output_type": "execute_result"
    }
   ],
   "source": [
    "blob.content[0:20]"
   ]
  },
  {
   "cell_type": "code",
   "execution_count": 173,
   "metadata": {},
   "outputs": [],
   "source": [
    "url_stt_api = 'https://speech.platform.bing.com/recognize' # service address \n",
    "\n",
    "headers = {\n",
    "           'Authorization': 'Bearer {0}'.format(access_token),\n",
    "           'Content-type': 'audio/wav', 'codec': 'audio/pcm', 'samplerate': '16000'}\n",
    "\n",
    "params = urllib.parse.urlencode({\n",
    "    'scenarios': 'ulm',\n",
    "    'appid': 'D4D52672-91D7-4C74-8AD8-42B1D98141A5', # dont change, it is fixed by design\n",
    "    'locale': 'en-US', # speech in english\n",
    "    'device.os': 'PC',\n",
    "    'version': '3.0',\n",
    "    'format': 'json', # return value in json\n",
    "    'instanceid': str(uuid.uuid1()), # any guid\n",
    "    'requestid': str(uuid.uuid1()),\n",
    "})\n",
    "\n",
    "api_response2 = requests.post(url_stt_api, headers=headers, params=params, data=blob.content)"
   ]
  },
  {
   "cell_type": "code",
   "execution_count": 174,
   "metadata": {},
   "outputs": [
    {
     "data": {
      "text/plain": [
       "<Response [200]>"
      ]
     },
     "execution_count": 174,
     "metadata": {},
     "output_type": "execute_result"
    }
   ],
   "source": [
    "api_response2"
   ]
  },
  {
   "cell_type": "code",
   "execution_count": 178,
   "metadata": {},
   "outputs": [
    {
     "data": {
      "text/plain": [
       "{'version': '3.0',\n",
       " 'header': {'status': 'error',\n",
       "  'properties': {'requestid': 'dc0538ff-1755-4f44-8b4b-d94511da15a8',\n",
       "   'FALSERECO': '1'}}}"
      ]
     },
     "execution_count": 178,
     "metadata": {},
     "output_type": "execute_result"
    }
   ],
   "source": [
    "res_json2 = json.loads(api_response2.content.decode('utf-8'))\n",
    "#text2 = res_json2['results'][0]['lexical']\n",
    "res_json2"
   ]
  },
  {
   "cell_type": "code",
   "execution_count": 122,
   "metadata": {},
   "outputs": [],
   "source": [
    "blob_service = BlockBlobService(account_name= storage_name, account_key=storage_key)\n",
    "uploaded_file = blob_service.list_blobs(container_name)\n",
    "blob_url_format = 'https://{0}.blob.core.windows.net/{1}/{2}'\n",
    "\n",
    "blob_bytes = blob_service.get_blob_to_bytes(container_name, blob_name)\n",
    "\n",
    "token = get_token(speech_key)\n",
    "r = get_text(token, blob_bytes)"
   ]
  },
  {
   "cell_type": "code",
   "execution_count": 123,
   "metadata": {},
   "outputs": [
    {
     "data": {
      "text/plain": [
       "<Response [403]>"
      ]
     },
     "execution_count": 123,
     "metadata": {},
     "output_type": "execute_result"
    }
   ],
   "source": [
    "r"
   ]
  },
  {
   "cell_type": "code",
   "execution_count": 118,
   "metadata": {},
   "outputs": [
    {
     "name": "stdout",
     "output_type": "stream",
     "text": [
      "eisenhower_for_president_1952_chunck_1.wav\n",
      "https://cloudcomputingplayground.blob.core.windows.net/audio/eisenhower_for_president_1952_chunck_1.wav\n",
      "b'RIFF\\xc4\\xea\\x1a\\x00WAVEfmt \\x10\\x00\\x00\\x00'\n",
      "<Response [403]>\n"
     ]
    }
   ],
   "source": [
    "result = []\n",
    "for blob in uploaded_file:\n",
    "    print(blob.name)\n",
    "    blob_url = blob_url_format.format(blob_service.account_name, container_name, blob.name)\n",
    "    print(blob_url)\n",
    "    blob_bytes = blob_service.get_blob_to_bytes(container_name, str(blob.name))\n",
    "    print(blob_bytes.content[0:20])\n",
    "    r = get_text(token, blob_bytes)\n",
    "    print(r)\n",
    "    #result.append(r)"
   ]
  },
  {
   "cell_type": "code",
   "execution_count": 114,
   "metadata": {},
   "outputs": [
    {
     "data": {
      "text/plain": [
       "[<Response [403]>]"
      ]
     },
     "execution_count": 114,
     "metadata": {},
     "output_type": "execute_result"
    }
   ],
   "source": [
    "result"
   ]
  },
  {
   "cell_type": "code",
   "execution_count": 186,
   "metadata": {},
   "outputs": [],
   "source": [
    "#speech recognition (basic words count / bag of words)\n",
    "\n",
    "def get_token(speech_key):\n",
    "    \"\"\"return an authorization token by making a \n",
    "    HTTP POST request to Cognitive Services with a valid API key\"\"\"\n",
    "    \n",
    "    url = 'https://api.cognitive.microsoft.com/sts/v1.0/issueToken'\n",
    "    headers = {'Ocp-Apim-Subscription-Key': speech_key}\n",
    "    \n",
    "    token = requests.post(uri_token, headers=headers)\n",
    "\n",
    "    return(token)"
   ]
  },
  {
   "cell_type": "code",
   "execution_count": 103,
   "metadata": {},
   "outputs": [],
   "source": [
    "def get_text(token, blob):\n",
    "    \"\"\"Request that the Bing Speech API convert the audio to text\"\"\"\n",
    "\n",
    "    url =  'https://speech.platform.bing.com/recognize'\n",
    "    \n",
    "    headers = {'Authorization': 'Bearer {0}'.format(token),\n",
    "               'Content-type': 'audio/wav; codec=audio/pcm; samplerate=16000'}\n",
    "    \n",
    "    #'Accept': 'application/json',\n",
    "    \n",
    "    params = urllib.parse.urlencode({'scenarios': 'ulm',\n",
    "                                     'appid': 'D4D52672-91D7-4C74-8AD8-42B1D98141A5',\n",
    "                                     'locale': 'en-US',\n",
    "                                     'device.os': 'PC',\n",
    "                                     'version': '3.0',\n",
    "                                     'format': 'json',\n",
    "                                     'instanceid': str(uuid.uuid1()),\n",
    "                                     'requestid': str(uuid.uuid1())})\n",
    "    \n",
    "    response = requests.post(url, headers=headers, params=params, data=blob.content)\n",
    "    return(response)\n",
    "#     r = requests.post(url, headers=headers, data=stream_audio_file(audio))\n",
    "#     results = json.loads(r.content)\n",
    "#     return(results)"
   ]
  },
  {
   "cell_type": "code",
   "execution_count": null,
   "metadata": {},
   "outputs": [],
   "source": [
    "def stream_audio_file(speech_file, chunk_size=1024):\n",
    "    # Chunk audio file\n",
    "    with open(speech_file, 'rb') as f:\n",
    "        while 1:\n",
    "            data = f.read(1024)\n",
    "            if not data:\n",
    "                break\n",
    "            yield data"
   ]
  },
  {
   "cell_type": "code",
   "execution_count": 93,
   "metadata": {},
   "outputs": [
    {
     "name": "stdout",
     "output_type": "stream",
     "text": [
      "Got Token:  b'eyJhbGciOiJodHRwOi8vd3d3LnczLm9yZy8yMDAxLzA0L3htbGRzaWctbW9yZSNobWFjLXNoYTI1NiIsInR5cCI6IkpXVCJ9.eyJpc3MiOiJ1cm46bXMuY29nbml0aXZlc2VydmljZXMiLCJleHAiOiIxNTMzMDAyNDM2IiwicmVnaW9uIjoiZ2xvYmFsIiwic3Vic2NyaXB0aW9uLWlkIjoiNjY5Y2RiYTBlODUxNGJlZmE5NTBkZTI4YTM3MjA1MzciLCJwcm9kdWN0LWlkIjoiQmluZy5TcGVlY2guRjAiLCJjb2duaXRpdmUtc2VydmljZXMtZW5kcG9pbnQiOiJodHRwczovL2FwaS5jb2duaXRpdmUubWljcm9zb2Z0LmNvbS9pbnRlcm5hbC92MS4wLyIsImF6dXJlLXJlc291cmNlLWlkIjoiL3N1YnNjcmlwdGlvbnMvNGU4YzQyMDEtMTQ1Ni00MWJjLThiY2ItZWUwZTk0MGUxOGZkL3Jlc291cmNlR3JvdXBzL0lRU1NfcHVibGljX2Nsb3VkX2NvbXB1dGluZy9wcm92aWRlcnMvTWljcm9zb2Z0LkNvZ25pdGl2ZVNlcnZpY2VzL2FjY291bnRzL015U3BlZWNoUmVjb2duaXRpb24iLCJzY29wZSI6Imh0dHBzOi8vc3BlZWNoLnBsYXRmb3JtLmJpbmcuY29tIiwiYXVkIjoidXJuOm1zLnNwZWVjaCJ9.FyepxhiKigOni4LzbXup59SL8qC5Db5SNBxXlXXyE4k'\n"
     ]
    },
    {
     "ename": "TypeError",
     "evalue": "must be str, not bytes",
     "output_type": "error",
     "traceback": [
      "\u001b[1;31m---------------------------------------------------------------------------\u001b[0m",
      "\u001b[1;31mTypeError\u001b[0m                                 Traceback (most recent call last)",
      "\u001b[1;32m<ipython-input-93-c3d1f5e71dcd>\u001b[0m in \u001b[0;36m<module>\u001b[1;34m()\u001b[0m\n\u001b[0;32m     63\u001b[0m     \u001b[0mms_asr\u001b[0m \u001b[1;33m=\u001b[0m \u001b[0mMicrosoft_ASR\u001b[0m\u001b[1;33m(\u001b[0m\u001b[1;33m)\u001b[0m\u001b[1;33m\u001b[0m\u001b[0m\n\u001b[0;32m     64\u001b[0m     \u001b[0mms_asr\u001b[0m\u001b[1;33m.\u001b[0m\u001b[0mget_speech_token\u001b[0m\u001b[1;33m(\u001b[0m\u001b[1;33m)\u001b[0m\u001b[1;33m\u001b[0m\u001b[0m\n\u001b[1;32m---> 65\u001b[1;33m     \u001b[0mtext\u001b[0m\u001b[1;33m,\u001b[0m \u001b[0mconfidence\u001b[0m \u001b[1;33m=\u001b[0m \u001b[0mms_asr\u001b[0m\u001b[1;33m.\u001b[0m\u001b[0mtranscribe\u001b[0m\u001b[1;33m(\u001b[0m\u001b[1;34m'https://cloudcomputingplayground.blob.core.windows.net/cloudcomputingcontainer/Eisenhower_1952.chunk0.wav'\u001b[0m\u001b[1;33m)\u001b[0m\u001b[1;33m\u001b[0m\u001b[0m\n\u001b[0m\u001b[0;32m     66\u001b[0m     \u001b[0mprint\u001b[0m \u001b[1;33m(\u001b[0m\u001b[1;34m\"Text: \"\u001b[0m\u001b[1;33m,\u001b[0m \u001b[0mtext\u001b[0m\u001b[1;33m)\u001b[0m\u001b[1;33m\u001b[0m\u001b[0m\n\u001b[0;32m     67\u001b[0m     \u001b[0mprint\u001b[0m \u001b[1;33m(\u001b[0m\u001b[1;34m\"Confidence: \"\u001b[0m\u001b[1;33m,\u001b[0m \u001b[0mconfidence\u001b[0m\u001b[1;33m)\u001b[0m\u001b[1;33m\u001b[0m\u001b[0m\n",
      "\u001b[1;32m<ipython-input-93-c3d1f5e71dcd>\u001b[0m in \u001b[0;36mtranscribe\u001b[1;34m(self, speech_file)\u001b[0m\n\u001b[0;32m     51\u001b[0m                     \u001b[1;32myield\u001b[0m \u001b[0mdata\u001b[0m\u001b[1;33m\u001b[0m\u001b[0m\n\u001b[0;32m     52\u001b[0m \u001b[1;33m\u001b[0m\u001b[0m\n\u001b[1;32m---> 53\u001b[1;33m         headers = {'Authorization': 'Bearer ' + self.token, \n\u001b[0m\u001b[0;32m     54\u001b[0m                    'Content-Type': content_type}\n\u001b[0;32m     55\u001b[0m         resp = requests.post(endpoint, \n",
      "\u001b[1;31mTypeError\u001b[0m: must be str, not bytes"
     ]
    }
   ],
   "source": [
    "import requests\n",
    "import http.client\n",
    "import uuid\n",
    "import json\n",
    "\n",
    "class Microsoft_ASR():\n",
    "    def __init__(self):\n",
    "        self.sub_key = azure_keys['SPEECH_RECOGNITION']['API_KEY']\n",
    "        self.token = None\n",
    "        pass\n",
    "\n",
    "    def get_speech_token(self):\n",
    "        FetchTokenURI = \"/sts/v1.0/issueToken\"\n",
    "        header = {'Ocp-Apim-Subscription-Key': self.sub_key}\n",
    "        conn = http.client.HTTPSConnection('api.cognitive.microsoft.com')\n",
    "        body = \"\"\n",
    "        conn.request(\"POST\", FetchTokenURI, body, header)\n",
    "        response = conn.getresponse()\n",
    "        str_data = response.read()\n",
    "        conn.close()\n",
    "        self.token = str_data\n",
    "        print (\"Got Token: \", self.token)\n",
    "        return True\n",
    "\n",
    "    def transcribe(self,speech_file):\n",
    "\n",
    "        # Grab the token if we need it\n",
    "        if self.token is None:\n",
    "            print (\"No Token... Getting one\")\n",
    "            self.get_speech_token()\n",
    "\n",
    "        endpoint = 'https://speech.platform.bing.com/recognize'\n",
    "        request_id = uuid.uuid4()\n",
    "        # Params form Microsoft Example \n",
    "        params = {'scenarios': 'ulm',\n",
    "                  'appid': 'D4D52672-91D7-4C74-8AD8-42B1D98141A5',\n",
    "                  'locale': 'en-US',\n",
    "                  'version': '3.0',\n",
    "                  'format': 'json',\n",
    "                  'instanceid': '565D69FF-E928-4B7E-87DA-9A750B96D9E3',\n",
    "                  'requestid': uuid.uuid4(),\n",
    "                  'device.os': 'PC'}\n",
    "        content_type = \"audio/wav; codec=\"\"audio/pcm\"\"; samplerate=16000\"\n",
    "\n",
    "        def stream_audio_file(speech_file, chunk_size=1024):\n",
    "            with open(speech_file, 'rb') as f:\n",
    "                while 1:\n",
    "                    data = f.read(1024)\n",
    "                    if not data:\n",
    "                        break\n",
    "                    yield data\n",
    "\n",
    "        headers = {'Authorization': 'Bearer ' + self.token, \n",
    "                   'Content-Type': content_type}\n",
    "        resp = requests.post(endpoint, \n",
    "                            params=params, \n",
    "                            data=stream_audio_file(speech_file), \n",
    "                            headers=headers)\n",
    "        val = json.loads(resp.text)\n",
    "        return val[\"results\"][0][\"name\"], val[\"results\"][0][\"confidence\"]\n",
    "\n",
    "if __name__ == \"__main__\":\n",
    "    ms_asr = Microsoft_ASR()\n",
    "    ms_asr.get_speech_token()\n",
    "    text, confidence = ms_asr.transcribe('https://cloudcomputingplayground.blob.core.windows.net/cloudcomputingcontainer/Eisenhower_1952.chunk0.wav')\n",
    "    print (\"Text: \", text)\n",
    "    print (\"Confidence: \", confidence)"
   ]
  },
  {
   "cell_type": "code",
   "execution_count": null,
   "metadata": {},
   "outputs": [],
   "source": [
    "YOUR_AUDIO_FILE = 'https://cloudcomputingplayground.blob.core.windows.net/cloudcomputingcontainer/Eisenhower_1952.chunk0.wav'\n"
   ]
  },
  {
   "cell_type": "code",
   "execution_count": 87,
   "metadata": {},
   "outputs": [
    {
     "ename": "ConnectionError",
     "evalue": "HTTPSConnectionPool(host='api.cognitive.microsoft.com', port=443): Max retries exceeded with url: /sts/v1.0/issueToken (Caused by NewConnectionError('<urllib3.connection.VerifiedHTTPSConnection object at 0x00000269C80FE0B8>: Failed to establish a new connection: [Errno 11001] getaddrinfo failed',))",
     "output_type": "error",
     "traceback": [
      "\u001b[1;31m---------------------------------------------------------------------------\u001b[0m",
      "\u001b[1;31mgaierror\u001b[0m                                  Traceback (most recent call last)",
      "\u001b[1;32m~\\AppData\\Local\\Continuum\\anaconda3\\envs\\python\\lib\\site-packages\\urllib3\\connection.py\u001b[0m in \u001b[0;36m_new_conn\u001b[1;34m(self)\u001b[0m\n\u001b[0;32m    170\u001b[0m             conn = connection.create_connection(\n\u001b[1;32m--> 171\u001b[1;33m                 (self._dns_host, self.port), self.timeout, **extra_kw)\n\u001b[0m\u001b[0;32m    172\u001b[0m \u001b[1;33m\u001b[0m\u001b[0m\n",
      "\u001b[1;32m~\\AppData\\Local\\Continuum\\anaconda3\\envs\\python\\lib\\site-packages\\urllib3\\util\\connection.py\u001b[0m in \u001b[0;36mcreate_connection\u001b[1;34m(address, timeout, source_address, socket_options)\u001b[0m\n\u001b[0;32m     55\u001b[0m \u001b[1;33m\u001b[0m\u001b[0m\n\u001b[1;32m---> 56\u001b[1;33m     \u001b[1;32mfor\u001b[0m \u001b[0mres\u001b[0m \u001b[1;32min\u001b[0m \u001b[0msocket\u001b[0m\u001b[1;33m.\u001b[0m\u001b[0mgetaddrinfo\u001b[0m\u001b[1;33m(\u001b[0m\u001b[0mhost\u001b[0m\u001b[1;33m,\u001b[0m \u001b[0mport\u001b[0m\u001b[1;33m,\u001b[0m \u001b[0mfamily\u001b[0m\u001b[1;33m,\u001b[0m \u001b[0msocket\u001b[0m\u001b[1;33m.\u001b[0m\u001b[0mSOCK_STREAM\u001b[0m\u001b[1;33m)\u001b[0m\u001b[1;33m:\u001b[0m\u001b[1;33m\u001b[0m\u001b[0m\n\u001b[0m\u001b[0;32m     57\u001b[0m         \u001b[0maf\u001b[0m\u001b[1;33m,\u001b[0m \u001b[0msocktype\u001b[0m\u001b[1;33m,\u001b[0m \u001b[0mproto\u001b[0m\u001b[1;33m,\u001b[0m \u001b[0mcanonname\u001b[0m\u001b[1;33m,\u001b[0m \u001b[0msa\u001b[0m \u001b[1;33m=\u001b[0m \u001b[0mres\u001b[0m\u001b[1;33m\u001b[0m\u001b[0m\n",
      "\u001b[1;32m~\\AppData\\Local\\Continuum\\anaconda3\\envs\\python\\lib\\socket.py\u001b[0m in \u001b[0;36mgetaddrinfo\u001b[1;34m(host, port, family, type, proto, flags)\u001b[0m\n\u001b[0;32m    744\u001b[0m     \u001b[0maddrlist\u001b[0m \u001b[1;33m=\u001b[0m \u001b[1;33m[\u001b[0m\u001b[1;33m]\u001b[0m\u001b[1;33m\u001b[0m\u001b[0m\n\u001b[1;32m--> 745\u001b[1;33m     \u001b[1;32mfor\u001b[0m \u001b[0mres\u001b[0m \u001b[1;32min\u001b[0m \u001b[0m_socket\u001b[0m\u001b[1;33m.\u001b[0m\u001b[0mgetaddrinfo\u001b[0m\u001b[1;33m(\u001b[0m\u001b[0mhost\u001b[0m\u001b[1;33m,\u001b[0m \u001b[0mport\u001b[0m\u001b[1;33m,\u001b[0m \u001b[0mfamily\u001b[0m\u001b[1;33m,\u001b[0m \u001b[0mtype\u001b[0m\u001b[1;33m,\u001b[0m \u001b[0mproto\u001b[0m\u001b[1;33m,\u001b[0m \u001b[0mflags\u001b[0m\u001b[1;33m)\u001b[0m\u001b[1;33m:\u001b[0m\u001b[1;33m\u001b[0m\u001b[0m\n\u001b[0m\u001b[0;32m    746\u001b[0m         \u001b[0maf\u001b[0m\u001b[1;33m,\u001b[0m \u001b[0msocktype\u001b[0m\u001b[1;33m,\u001b[0m \u001b[0mproto\u001b[0m\u001b[1;33m,\u001b[0m \u001b[0mcanonname\u001b[0m\u001b[1;33m,\u001b[0m \u001b[0msa\u001b[0m \u001b[1;33m=\u001b[0m \u001b[0mres\u001b[0m\u001b[1;33m\u001b[0m\u001b[0m\n",
      "\u001b[1;31mgaierror\u001b[0m: [Errno 11001] getaddrinfo failed",
      "\nDuring handling of the above exception, another exception occurred:\n",
      "\u001b[1;31mNewConnectionError\u001b[0m                        Traceback (most recent call last)",
      "\u001b[1;32m~\\AppData\\Local\\Continuum\\anaconda3\\envs\\python\\lib\\site-packages\\urllib3\\connectionpool.py\u001b[0m in \u001b[0;36murlopen\u001b[1;34m(self, method, url, body, headers, retries, redirect, assert_same_host, timeout, pool_timeout, release_conn, chunked, body_pos, **response_kw)\u001b[0m\n\u001b[0;32m    599\u001b[0m                                                   \u001b[0mbody\u001b[0m\u001b[1;33m=\u001b[0m\u001b[0mbody\u001b[0m\u001b[1;33m,\u001b[0m \u001b[0mheaders\u001b[0m\u001b[1;33m=\u001b[0m\u001b[0mheaders\u001b[0m\u001b[1;33m,\u001b[0m\u001b[1;33m\u001b[0m\u001b[0m\n\u001b[1;32m--> 600\u001b[1;33m                                                   chunked=chunked)\n\u001b[0m\u001b[0;32m    601\u001b[0m \u001b[1;33m\u001b[0m\u001b[0m\n",
      "\u001b[1;32m~\\AppData\\Local\\Continuum\\anaconda3\\envs\\python\\lib\\site-packages\\urllib3\\connectionpool.py\u001b[0m in \u001b[0;36m_make_request\u001b[1;34m(self, conn, method, url, timeout, chunked, **httplib_request_kw)\u001b[0m\n\u001b[0;32m    342\u001b[0m         \u001b[1;32mtry\u001b[0m\u001b[1;33m:\u001b[0m\u001b[1;33m\u001b[0m\u001b[0m\n\u001b[1;32m--> 343\u001b[1;33m             \u001b[0mself\u001b[0m\u001b[1;33m.\u001b[0m\u001b[0m_validate_conn\u001b[0m\u001b[1;33m(\u001b[0m\u001b[0mconn\u001b[0m\u001b[1;33m)\u001b[0m\u001b[1;33m\u001b[0m\u001b[0m\n\u001b[0m\u001b[0;32m    344\u001b[0m         \u001b[1;32mexcept\u001b[0m \u001b[1;33m(\u001b[0m\u001b[0mSocketTimeout\u001b[0m\u001b[1;33m,\u001b[0m \u001b[0mBaseSSLError\u001b[0m\u001b[1;33m)\u001b[0m \u001b[1;32mas\u001b[0m \u001b[0me\u001b[0m\u001b[1;33m:\u001b[0m\u001b[1;33m\u001b[0m\u001b[0m\n",
      "\u001b[1;32m~\\AppData\\Local\\Continuum\\anaconda3\\envs\\python\\lib\\site-packages\\urllib3\\connectionpool.py\u001b[0m in \u001b[0;36m_validate_conn\u001b[1;34m(self, conn)\u001b[0m\n\u001b[0;32m    848\u001b[0m         \u001b[1;32mif\u001b[0m \u001b[1;32mnot\u001b[0m \u001b[0mgetattr\u001b[0m\u001b[1;33m(\u001b[0m\u001b[0mconn\u001b[0m\u001b[1;33m,\u001b[0m \u001b[1;34m'sock'\u001b[0m\u001b[1;33m,\u001b[0m \u001b[1;32mNone\u001b[0m\u001b[1;33m)\u001b[0m\u001b[1;33m:\u001b[0m  \u001b[1;31m# AppEngine might not have  `.sock`\u001b[0m\u001b[1;33m\u001b[0m\u001b[0m\n\u001b[1;32m--> 849\u001b[1;33m             \u001b[0mconn\u001b[0m\u001b[1;33m.\u001b[0m\u001b[0mconnect\u001b[0m\u001b[1;33m(\u001b[0m\u001b[1;33m)\u001b[0m\u001b[1;33m\u001b[0m\u001b[0m\n\u001b[0m\u001b[0;32m    850\u001b[0m \u001b[1;33m\u001b[0m\u001b[0m\n",
      "\u001b[1;32m~\\AppData\\Local\\Continuum\\anaconda3\\envs\\python\\lib\\site-packages\\urllib3\\connection.py\u001b[0m in \u001b[0;36mconnect\u001b[1;34m(self)\u001b[0m\n\u001b[0;32m    313\u001b[0m         \u001b[1;31m# Add certificate verification\u001b[0m\u001b[1;33m\u001b[0m\u001b[1;33m\u001b[0m\u001b[0m\n\u001b[1;32m--> 314\u001b[1;33m         \u001b[0mconn\u001b[0m \u001b[1;33m=\u001b[0m \u001b[0mself\u001b[0m\u001b[1;33m.\u001b[0m\u001b[0m_new_conn\u001b[0m\u001b[1;33m(\u001b[0m\u001b[1;33m)\u001b[0m\u001b[1;33m\u001b[0m\u001b[0m\n\u001b[0m\u001b[0;32m    315\u001b[0m \u001b[1;33m\u001b[0m\u001b[0m\n",
      "\u001b[1;32m~\\AppData\\Local\\Continuum\\anaconda3\\envs\\python\\lib\\site-packages\\urllib3\\connection.py\u001b[0m in \u001b[0;36m_new_conn\u001b[1;34m(self)\u001b[0m\n\u001b[0;32m    179\u001b[0m             raise NewConnectionError(\n\u001b[1;32m--> 180\u001b[1;33m                 self, \"Failed to establish a new connection: %s\" % e)\n\u001b[0m\u001b[0;32m    181\u001b[0m \u001b[1;33m\u001b[0m\u001b[0m\n",
      "\u001b[1;31mNewConnectionError\u001b[0m: <urllib3.connection.VerifiedHTTPSConnection object at 0x00000269C80FE0B8>: Failed to establish a new connection: [Errno 11001] getaddrinfo failed",
      "\nDuring handling of the above exception, another exception occurred:\n",
      "\u001b[1;31mMaxRetryError\u001b[0m                             Traceback (most recent call last)",
      "\u001b[1;32m~\\AppData\\Local\\Continuum\\anaconda3\\envs\\python\\lib\\site-packages\\requests\\adapters.py\u001b[0m in \u001b[0;36msend\u001b[1;34m(self, request, stream, timeout, verify, cert, proxies)\u001b[0m\n\u001b[0;32m    444\u001b[0m                     \u001b[0mretries\u001b[0m\u001b[1;33m=\u001b[0m\u001b[0mself\u001b[0m\u001b[1;33m.\u001b[0m\u001b[0mmax_retries\u001b[0m\u001b[1;33m,\u001b[0m\u001b[1;33m\u001b[0m\u001b[0m\n\u001b[1;32m--> 445\u001b[1;33m                     \u001b[0mtimeout\u001b[0m\u001b[1;33m=\u001b[0m\u001b[0mtimeout\u001b[0m\u001b[1;33m\u001b[0m\u001b[0m\n\u001b[0m\u001b[0;32m    446\u001b[0m                 )\n",
      "\u001b[1;32m~\\AppData\\Local\\Continuum\\anaconda3\\envs\\python\\lib\\site-packages\\urllib3\\connectionpool.py\u001b[0m in \u001b[0;36murlopen\u001b[1;34m(self, method, url, body, headers, retries, redirect, assert_same_host, timeout, pool_timeout, release_conn, chunked, body_pos, **response_kw)\u001b[0m\n\u001b[0;32m    637\u001b[0m             retries = retries.increment(method, url, error=e, _pool=self,\n\u001b[1;32m--> 638\u001b[1;33m                                         _stacktrace=sys.exc_info()[2])\n\u001b[0m\u001b[0;32m    639\u001b[0m             \u001b[0mretries\u001b[0m\u001b[1;33m.\u001b[0m\u001b[0msleep\u001b[0m\u001b[1;33m(\u001b[0m\u001b[1;33m)\u001b[0m\u001b[1;33m\u001b[0m\u001b[0m\n",
      "\u001b[1;32m~\\AppData\\Local\\Continuum\\anaconda3\\envs\\python\\lib\\site-packages\\urllib3\\util\\retry.py\u001b[0m in \u001b[0;36mincrement\u001b[1;34m(self, method, url, response, error, _pool, _stacktrace)\u001b[0m\n\u001b[0;32m    397\u001b[0m         \u001b[1;32mif\u001b[0m \u001b[0mnew_retry\u001b[0m\u001b[1;33m.\u001b[0m\u001b[0mis_exhausted\u001b[0m\u001b[1;33m(\u001b[0m\u001b[1;33m)\u001b[0m\u001b[1;33m:\u001b[0m\u001b[1;33m\u001b[0m\u001b[0m\n\u001b[1;32m--> 398\u001b[1;33m             \u001b[1;32mraise\u001b[0m \u001b[0mMaxRetryError\u001b[0m\u001b[1;33m(\u001b[0m\u001b[0m_pool\u001b[0m\u001b[1;33m,\u001b[0m \u001b[0murl\u001b[0m\u001b[1;33m,\u001b[0m \u001b[0merror\u001b[0m \u001b[1;32mor\u001b[0m \u001b[0mResponseError\u001b[0m\u001b[1;33m(\u001b[0m\u001b[0mcause\u001b[0m\u001b[1;33m)\u001b[0m\u001b[1;33m)\u001b[0m\u001b[1;33m\u001b[0m\u001b[0m\n\u001b[0m\u001b[0;32m    399\u001b[0m \u001b[1;33m\u001b[0m\u001b[0m\n",
      "\u001b[1;31mMaxRetryError\u001b[0m: HTTPSConnectionPool(host='api.cognitive.microsoft.com', port=443): Max retries exceeded with url: /sts/v1.0/issueToken (Caused by NewConnectionError('<urllib3.connection.VerifiedHTTPSConnection object at 0x00000269C80FE0B8>: Failed to establish a new connection: [Errno 11001] getaddrinfo failed',))",
      "\nDuring handling of the above exception, another exception occurred:\n",
      "\u001b[1;31mConnectionError\u001b[0m                           Traceback (most recent call last)",
      "\u001b[1;32m<ipython-input-87-5d4ede529033>\u001b[0m in \u001b[0;36m<module>\u001b[1;34m()\u001b[0m\n\u001b[0;32m     52\u001b[0m \u001b[1;33m\u001b[0m\u001b[0m\n\u001b[0;32m     53\u001b[0m \u001b[1;32mif\u001b[0m \u001b[0m__name__\u001b[0m \u001b[1;33m==\u001b[0m \u001b[1;34m'__main__'\u001b[0m\u001b[1;33m:\u001b[0m\u001b[1;33m\u001b[0m\u001b[0m\n\u001b[1;32m---> 54\u001b[1;33m     \u001b[0mhandler\u001b[0m\u001b[1;33m(\u001b[0m\u001b[1;33m)\u001b[0m\u001b[1;33m\u001b[0m\u001b[0m\n\u001b[0m",
      "\u001b[1;32m<ipython-input-87-5d4ede529033>\u001b[0m in \u001b[0;36mhandler\u001b[1;34m()\u001b[0m\n\u001b[0;32m     12\u001b[0m \u001b[1;32mdef\u001b[0m \u001b[0mhandler\u001b[0m\u001b[1;33m(\u001b[0m\u001b[1;33m)\u001b[0m\u001b[1;33m:\u001b[0m\u001b[1;33m\u001b[0m\u001b[0m\n\u001b[0;32m     13\u001b[0m     \u001b[1;31m# 1. Get an Authorization Token\u001b[0m\u001b[1;33m\u001b[0m\u001b[1;33m\u001b[0m\u001b[0m\n\u001b[1;32m---> 14\u001b[1;33m     \u001b[0mtoken\u001b[0m \u001b[1;33m=\u001b[0m \u001b[0mget_token\u001b[0m\u001b[1;33m(\u001b[0m\u001b[1;33m)\u001b[0m\u001b[1;33m\u001b[0m\u001b[0m\n\u001b[0m\u001b[0;32m     15\u001b[0m     \u001b[1;31m# 2. Perform Speech Recognition\u001b[0m\u001b[1;33m\u001b[0m\u001b[1;33m\u001b[0m\u001b[0m\n\u001b[0;32m     16\u001b[0m     \u001b[0mresults\u001b[0m \u001b[1;33m=\u001b[0m \u001b[0mget_text\u001b[0m\u001b[1;33m(\u001b[0m\u001b[0mtoken\u001b[0m\u001b[1;33m,\u001b[0m \u001b[0mYOUR_AUDIO_FILE\u001b[0m\u001b[1;33m)\u001b[0m\u001b[1;33m\u001b[0m\u001b[0m\n",
      "\u001b[1;32m<ipython-input-87-5d4ede529033>\u001b[0m in \u001b[0;36mget_token\u001b[1;34m()\u001b[0m\n\u001b[0;32m     24\u001b[0m         \u001b[1;34m'Ocp-Apim-Subscription-Key'\u001b[0m\u001b[1;33m:\u001b[0m \u001b[0mYOUR_API_KEY\u001b[0m\u001b[1;33m\u001b[0m\u001b[0m\n\u001b[0;32m     25\u001b[0m     }\n\u001b[1;32m---> 26\u001b[1;33m     \u001b[0mr\u001b[0m \u001b[1;33m=\u001b[0m \u001b[0mrequests\u001b[0m\u001b[1;33m.\u001b[0m\u001b[0mpost\u001b[0m\u001b[1;33m(\u001b[0m\u001b[0murl\u001b[0m\u001b[1;33m,\u001b[0m \u001b[0mheaders\u001b[0m\u001b[1;33m=\u001b[0m\u001b[0mheaders\u001b[0m\u001b[1;33m)\u001b[0m\u001b[1;33m\u001b[0m\u001b[0m\n\u001b[0m\u001b[0;32m     27\u001b[0m     \u001b[0mtoken\u001b[0m \u001b[1;33m=\u001b[0m \u001b[0mr\u001b[0m\u001b[1;33m.\u001b[0m\u001b[0mcontent\u001b[0m\u001b[1;33m\u001b[0m\u001b[0m\n\u001b[0;32m     28\u001b[0m     \u001b[1;32mreturn\u001b[0m\u001b[1;33m(\u001b[0m\u001b[0mtoken\u001b[0m\u001b[1;33m)\u001b[0m\u001b[1;33m\u001b[0m\u001b[0m\n",
      "\u001b[1;32m~\\AppData\\Local\\Continuum\\anaconda3\\envs\\python\\lib\\site-packages\\requests\\api.py\u001b[0m in \u001b[0;36mpost\u001b[1;34m(url, data, json, **kwargs)\u001b[0m\n\u001b[0;32m    110\u001b[0m     \"\"\"\n\u001b[0;32m    111\u001b[0m \u001b[1;33m\u001b[0m\u001b[0m\n\u001b[1;32m--> 112\u001b[1;33m     \u001b[1;32mreturn\u001b[0m \u001b[0mrequest\u001b[0m\u001b[1;33m(\u001b[0m\u001b[1;34m'post'\u001b[0m\u001b[1;33m,\u001b[0m \u001b[0murl\u001b[0m\u001b[1;33m,\u001b[0m \u001b[0mdata\u001b[0m\u001b[1;33m=\u001b[0m\u001b[0mdata\u001b[0m\u001b[1;33m,\u001b[0m \u001b[0mjson\u001b[0m\u001b[1;33m=\u001b[0m\u001b[0mjson\u001b[0m\u001b[1;33m,\u001b[0m \u001b[1;33m**\u001b[0m\u001b[0mkwargs\u001b[0m\u001b[1;33m)\u001b[0m\u001b[1;33m\u001b[0m\u001b[0m\n\u001b[0m\u001b[0;32m    113\u001b[0m \u001b[1;33m\u001b[0m\u001b[0m\n\u001b[0;32m    114\u001b[0m \u001b[1;33m\u001b[0m\u001b[0m\n",
      "\u001b[1;32m~\\AppData\\Local\\Continuum\\anaconda3\\envs\\python\\lib\\site-packages\\requests\\api.py\u001b[0m in \u001b[0;36mrequest\u001b[1;34m(method, url, **kwargs)\u001b[0m\n\u001b[0;32m     56\u001b[0m     \u001b[1;31m# cases, and look like a memory leak in others.\u001b[0m\u001b[1;33m\u001b[0m\u001b[1;33m\u001b[0m\u001b[0m\n\u001b[0;32m     57\u001b[0m     \u001b[1;32mwith\u001b[0m \u001b[0msessions\u001b[0m\u001b[1;33m.\u001b[0m\u001b[0mSession\u001b[0m\u001b[1;33m(\u001b[0m\u001b[1;33m)\u001b[0m \u001b[1;32mas\u001b[0m \u001b[0msession\u001b[0m\u001b[1;33m:\u001b[0m\u001b[1;33m\u001b[0m\u001b[0m\n\u001b[1;32m---> 58\u001b[1;33m         \u001b[1;32mreturn\u001b[0m \u001b[0msession\u001b[0m\u001b[1;33m.\u001b[0m\u001b[0mrequest\u001b[0m\u001b[1;33m(\u001b[0m\u001b[0mmethod\u001b[0m\u001b[1;33m=\u001b[0m\u001b[0mmethod\u001b[0m\u001b[1;33m,\u001b[0m \u001b[0murl\u001b[0m\u001b[1;33m=\u001b[0m\u001b[0murl\u001b[0m\u001b[1;33m,\u001b[0m \u001b[1;33m**\u001b[0m\u001b[0mkwargs\u001b[0m\u001b[1;33m)\u001b[0m\u001b[1;33m\u001b[0m\u001b[0m\n\u001b[0m\u001b[0;32m     59\u001b[0m \u001b[1;33m\u001b[0m\u001b[0m\n\u001b[0;32m     60\u001b[0m \u001b[1;33m\u001b[0m\u001b[0m\n",
      "\u001b[1;32m~\\AppData\\Local\\Continuum\\anaconda3\\envs\\python\\lib\\site-packages\\requests\\sessions.py\u001b[0m in \u001b[0;36mrequest\u001b[1;34m(self, method, url, params, data, headers, cookies, files, auth, timeout, allow_redirects, proxies, hooks, stream, verify, cert, json)\u001b[0m\n\u001b[0;32m    510\u001b[0m         }\n\u001b[0;32m    511\u001b[0m         \u001b[0msend_kwargs\u001b[0m\u001b[1;33m.\u001b[0m\u001b[0mupdate\u001b[0m\u001b[1;33m(\u001b[0m\u001b[0msettings\u001b[0m\u001b[1;33m)\u001b[0m\u001b[1;33m\u001b[0m\u001b[0m\n\u001b[1;32m--> 512\u001b[1;33m         \u001b[0mresp\u001b[0m \u001b[1;33m=\u001b[0m \u001b[0mself\u001b[0m\u001b[1;33m.\u001b[0m\u001b[0msend\u001b[0m\u001b[1;33m(\u001b[0m\u001b[0mprep\u001b[0m\u001b[1;33m,\u001b[0m \u001b[1;33m**\u001b[0m\u001b[0msend_kwargs\u001b[0m\u001b[1;33m)\u001b[0m\u001b[1;33m\u001b[0m\u001b[0m\n\u001b[0m\u001b[0;32m    513\u001b[0m \u001b[1;33m\u001b[0m\u001b[0m\n\u001b[0;32m    514\u001b[0m         \u001b[1;32mreturn\u001b[0m \u001b[0mresp\u001b[0m\u001b[1;33m\u001b[0m\u001b[0m\n",
      "\u001b[1;32m~\\AppData\\Local\\Continuum\\anaconda3\\envs\\python\\lib\\site-packages\\requests\\sessions.py\u001b[0m in \u001b[0;36msend\u001b[1;34m(self, request, **kwargs)\u001b[0m\n\u001b[0;32m    620\u001b[0m \u001b[1;33m\u001b[0m\u001b[0m\n\u001b[0;32m    621\u001b[0m         \u001b[1;31m# Send the request\u001b[0m\u001b[1;33m\u001b[0m\u001b[1;33m\u001b[0m\u001b[0m\n\u001b[1;32m--> 622\u001b[1;33m         \u001b[0mr\u001b[0m \u001b[1;33m=\u001b[0m \u001b[0madapter\u001b[0m\u001b[1;33m.\u001b[0m\u001b[0msend\u001b[0m\u001b[1;33m(\u001b[0m\u001b[0mrequest\u001b[0m\u001b[1;33m,\u001b[0m \u001b[1;33m**\u001b[0m\u001b[0mkwargs\u001b[0m\u001b[1;33m)\u001b[0m\u001b[1;33m\u001b[0m\u001b[0m\n\u001b[0m\u001b[0;32m    623\u001b[0m \u001b[1;33m\u001b[0m\u001b[0m\n\u001b[0;32m    624\u001b[0m         \u001b[1;31m# Total elapsed time of the request (approximately)\u001b[0m\u001b[1;33m\u001b[0m\u001b[1;33m\u001b[0m\u001b[0m\n",
      "\u001b[1;32m~\\AppData\\Local\\Continuum\\anaconda3\\envs\\python\\lib\\site-packages\\requests\\adapters.py\u001b[0m in \u001b[0;36msend\u001b[1;34m(self, request, stream, timeout, verify, cert, proxies)\u001b[0m\n\u001b[0;32m    511\u001b[0m                 \u001b[1;32mraise\u001b[0m \u001b[0mSSLError\u001b[0m\u001b[1;33m(\u001b[0m\u001b[0me\u001b[0m\u001b[1;33m,\u001b[0m \u001b[0mrequest\u001b[0m\u001b[1;33m=\u001b[0m\u001b[0mrequest\u001b[0m\u001b[1;33m)\u001b[0m\u001b[1;33m\u001b[0m\u001b[0m\n\u001b[0;32m    512\u001b[0m \u001b[1;33m\u001b[0m\u001b[0m\n\u001b[1;32m--> 513\u001b[1;33m             \u001b[1;32mraise\u001b[0m \u001b[0mConnectionError\u001b[0m\u001b[1;33m(\u001b[0m\u001b[0me\u001b[0m\u001b[1;33m,\u001b[0m \u001b[0mrequest\u001b[0m\u001b[1;33m=\u001b[0m\u001b[0mrequest\u001b[0m\u001b[1;33m)\u001b[0m\u001b[1;33m\u001b[0m\u001b[0m\n\u001b[0m\u001b[0;32m    514\u001b[0m \u001b[1;33m\u001b[0m\u001b[0m\n\u001b[0;32m    515\u001b[0m         \u001b[1;32mexcept\u001b[0m \u001b[0mClosedPoolError\u001b[0m \u001b[1;32mas\u001b[0m \u001b[0me\u001b[0m\u001b[1;33m:\u001b[0m\u001b[1;33m\u001b[0m\u001b[0m\n",
      "\u001b[1;31mConnectionError\u001b[0m: HTTPSConnectionPool(host='api.cognitive.microsoft.com', port=443): Max retries exceeded with url: /sts/v1.0/issueToken (Caused by NewConnectionError('<urllib3.connection.VerifiedHTTPSConnection object at 0x00000269C80FE0B8>: Failed to establish a new connection: [Errno 11001] getaddrinfo failed',))"
     ]
    }
   ],
   "source": [
    "import json\n",
    "import requests\n",
    "\n",
    "YOUR_API_KEY = azure_keys['SPEECH_RECOGNITION']['API_KEY']\n",
    "YOUR_AUDIO_FILE = 'https://cloudcomputingplayground.blob.core.windows.net/cloudcomputingcontainer/Eisenhower_1952.chunk0.wav'\n",
    "REGION = 'eastus'\n",
    "MODE = 'interactive'\n",
    "LANG = 'en-US'\n",
    "FORMAT = 'simple'\n",
    "\n",
    "\n",
    "def handler():\n",
    "    # 1. Get an Authorization Token\n",
    "    token = get_token()\n",
    "    # 2. Perform Speech Recognition\n",
    "    results = get_text(token, YOUR_AUDIO_FILE)\n",
    "    # 3. Print Results\n",
    "    print(results)\n",
    "\n",
    "def get_token():\n",
    "    # Return an Authorization Token by making a HTTP POST request to Cognitive Services with a valid API key.\n",
    "    url = 'https://api.cognitive.microsoft.com/sts/v1.0/issueToken'\n",
    "    headers = {\n",
    "        'Ocp-Apim-Subscription-Key': YOUR_API_KEY\n",
    "    }\n",
    "    r = requests.post(url, headers=headers)\n",
    "    token = r.content\n",
    "    return(token)\n",
    "\n",
    "def get_text(token, audio):\n",
    "    # Request that the Bing Speech API convert the audio to text\n",
    "    url = 'https://{0}.stt.speech.microsoft.com/speech/recognition/{1}/cognitiveservices/v1?language={2}&format={3}'.format(REGION, MODE, LANG, FORMAT)\n",
    "    headers = {\n",
    "        'Accept': 'application/json',\n",
    "        'Ocp-Apim-Subscription-Key': YOUR_API_KEY,\n",
    "        'Transfer-Encoding': 'chunked',\n",
    "        'Content-type': 'audio/wav; codec=audio/pcm; samplerate=16000',\n",
    "        'Authorization': 'Bearer {0}'.format(token)\n",
    "    }\n",
    "    r = requests.post(url, headers=headers, data=stream_audio_file(audio))\n",
    "    results = json.loads(r.content)\n",
    "    return results\n",
    "\n",
    "def stream_audio_file(speech_file, chunk_size=1024):\n",
    "    # Chunk audio file\n",
    "    with open(speech_file, 'rb') as f:\n",
    "        while 1:\n",
    "            data = f.read(1024)\n",
    "            if not data:\n",
    "                break\n",
    "            yield data\n",
    "\n",
    "if __name__ == '__main__':\n",
    "    handler()"
   ]
  },
  {
   "cell_type": "code",
   "execution_count": null,
   "metadata": {},
   "outputs": [],
   "source": [
    "\n",
    "\n",
    "\n",
    "#key phrases\n",
    "#sentiment analyses\n",
    "#assemble into a dataframe\n",
    "\n",
    "\n",
    "#detect face in thumbnails\n",
    "#analyze image\n",
    "#character recognition\n",
    "#add to dataframe"
   ]
  },
  {
   "cell_type": "code",
   "execution_count": null,
   "metadata": {},
   "outputs": [],
   "source": [
    "from IPython.display import Audio, display\n",
    "import requests\n",
    "import urllib\n",
    "import uuid"
   ]
  },
  {
   "cell_type": "code",
   "execution_count": null,
   "metadata": {},
   "outputs": [],
   "source": [
    "#import library and retrieve keys\n",
    "\n",
    "#from azure library import methods to use storage \n",
    "from azure.storage.blob import BlockBlobService, PublicAccess\n",
    "\n",
    "#retrive your keys\n",
    "import pickle\n",
    "with open('guides/keys/azure_services_keys.json', 'rb') as handle:\n",
    "    azure_keys = pickle.load(handle)\n",
    "\n",
    "#select storage account name and API key from keys\n",
    "storage_name = azure_keys['STORAGE']['NAME']\n",
    "storage_key = azure_keys['STORAGE']['API_KEY']"
   ]
  },
  {
   "cell_type": "code",
   "execution_count": null,
   "metadata": {},
   "outputs": [],
   "source": [
    "# create a new container\n",
    "\n",
    "#blob service\n",
    "blob_service = BlockBlobService(storage_name, storage_key)"
   ]
  },
  {
   "cell_type": "code",
   "execution_count": null,
   "metadata": {},
   "outputs": [],
   "source": [
    "#set a name for a new container\n",
    "new_container_name ='videocontainer'"
   ]
  },
  {
   "cell_type": "code",
   "execution_count": null,
   "metadata": {},
   "outputs": [],
   "source": [
    "#create a new container and set public access\n",
    "try:\n",
    "    container_status = blob_service.create_container(new_container_name, public_access=PublicAccess.Container) \n",
    "    print(\"{} creation success status: {}\".format(new_container_name, container_status))\n",
    "except:\n",
    "    print(\"{} creation failed\".format(new_container_name))"
   ]
  },
  {
   "cell_type": "code",
   "execution_count": null,
   "metadata": {},
   "outputs": [],
   "source": [
    "os.getcwd()+'\\\\data\\\\video\\\\video.wav\\\\'"
   ]
  },
  {
   "cell_type": "code",
   "execution_count": null,
   "metadata": {},
   "outputs": [],
   "source": [
    "blob_service.create_blob_from_path(new_container_name, local_file_name, full_path)"
   ]
  },
  {
   "cell_type": "code",
   "execution_count": null,
   "metadata": {},
   "outputs": [],
   "source": [
    "#get the file from local \n",
    "local_path = os.getcwd()+'\\\\data\\\\video\\\\video.wav'\n",
    "local_file_name = \"Eisenhower_1952.chunk0.wav\"\n",
    "full_path = os.path.join(local_path, local_file_name)\n",
    "full_path\n",
    "\n",
    "\n",
    "# Upload the created file\n",
    "try:\n",
    "    blob_service.create_blob_from_path(new_container_name, local_file_name, full_path)    \n",
    "    print(\"{} upload status: successful\".format(local_file_name))\n",
    "except:\n",
    "    print(\"{} upload status: failed\".format(local_file_name))"
   ]
  },
  {
   "cell_type": "code",
   "execution_count": null,
   "metadata": {},
   "outputs": [],
   "source": [
    "def retrive_blob_list(keys, container_name):\n",
    "    \"\"\" \n",
    "    function to get a list of blobs' URLs\n",
    "    INPUT: - dictionary with storage info. dictionary format: {storage:{storage_name:name,storage_api_key:api_key}}\n",
    "           - container name      \n",
    "    OUTPUT: a list of BLoBs' name and URL\n",
    "    \"\"\"\n",
    "    storage_name = keys['STORAGE']['NAME']\n",
    "    storage_key = keys['STORAGE']['API_KEY']\n",
    "    blob_service = BlockBlobService(storage_name, storage_key)\n",
    "    uploaded_file = blob_service.list_blobs(container_name)\n",
    "    blob_url_format = 'https://{0}.blob.core.windows.net/{1}/{2}'\n",
    "    #store blobs' name and URLs in list\n",
    "    blob_name_list = []\n",
    "    blob_url_list = []\n",
    "    # retrive each blob name\n",
    "    for blob in uploaded_file:\n",
    "        blob_name_list.append(blob.name)\n",
    "        blob_url_list.append(blob_url_format.format(blob_service.account_name, container_name, blob.name))\n",
    "    return blob_name_list, blob_url_list"
   ]
  },
  {
   "cell_type": "code",
   "execution_count": null,
   "metadata": {},
   "outputs": [],
   "source": [
    "#get a complete list of images' name and urls\n",
    "retrive_blob_list(azure_keys,new_container_name)"
   ]
  },
  {
   "cell_type": "code",
   "execution_count": null,
   "metadata": {},
   "outputs": [],
   "source": [
    "# load speech file to process\n",
    "blob_name = 'Eisenhower_1952.chunk1.wav'\n",
    "blob = blob_service.get_blob_to_bytes(new_container_name, blob_name)\n",
    "\n",
    "wav_bytes = Audio(data=blob.content)\n",
    "display(wav_bytes)"
   ]
  },
  {
   "cell_type": "code",
   "execution_count": null,
   "metadata": {},
   "outputs": [],
   "source": [
    "url_token_api = 'https://api.cognitive.microsoft.com/sts/v1.0/issueToken'"
   ]
  },
  {
   "cell_type": "code",
   "execution_count": null,
   "metadata": {},
   "outputs": [],
   "source": [
    "headers = {'Content-Length': '0', 'Ocp-Apim-Subscription-Key': storage_key}\n",
    "\n",
    "#\"Content-Type\", \"application/octet-stream\"\n",
    "\n",
    "api_response = requests.post(url_token_api, headers=headers)"
   ]
  },
  {
   "cell_type": "code",
   "execution_count": null,
   "metadata": {},
   "outputs": [],
   "source": [
    "api_response"
   ]
  },
  {
   "cell_type": "code",
   "execution_count": null,
   "metadata": {},
   "outputs": [],
   "source": [
    "access_token = str(api_response.content.decode('utf-8'))\n",
    "\n",
    "# Service\n",
    "# Call Speech to text service\n",
    "url_stt_api = 'https://speech.platform.bing.com/recognize' # service address \n",
    "\n",
    "headers = {'Authorization': 'Bearer {0}'.format(access_token), \n",
    "           'Content-type': 'audio/wav', \n",
    "           'codec': 'audio/pcm',  \n",
    "           'samplerate': '16000'}\n",
    "\n",
    "# 'Content-Length': len(blob.content), \\\n",
    "\n",
    "params = urllib.parse.urlencode({\n",
    "    'scenarios': 'ulm',\n",
    "    'appid': 'D4D52672-91D7-4C74-8AD8-42B1D98141A5',\n",
    "    'locale': 'en-US',\n",
    "    'device.os': 'PC',\n",
    "    'version': '3.0',\n",
    "    'format': 'json',\n",
    "    'instanceid': str(uuid.uuid1()),\n",
    "    'requestid': str(uuid.uuid1()),\n",
    "})\n",
    "\n",
    "api_response = requests.post(url_stt_api, headers=headers, params=params, data=blob.content)"
   ]
  },
  {
   "cell_type": "code",
   "execution_count": null,
   "metadata": {},
   "outputs": [],
   "source": [
    "api_response"
   ]
  },
  {
   "cell_type": "code",
   "execution_count": null,
   "metadata": {},
   "outputs": [],
   "source": [
    "import json\n",
    "res_json = json.loads(api_response.content.decode('utf-8'))\n",
    "\n",
    "print(json.dumps(res_json, indent=2, sort_keys=True))"
   ]
  },
  {
   "cell_type": "code",
   "execution_count": 555,
   "metadata": {},
   "outputs": [],
   "source": [
    "#import library to display notebook as HTML\n",
    "import os\n",
    "from IPython.core.display import HTML\n",
    "\n",
    "#path to .ccs style script\n",
    "cur_path = os.path.dirname(os.path.abspath(\"__file__\"))\n",
    "new_path = os.path.relpath('..\\\\..\\\\..\\\\styles\\\\custom_styles_public_cloud_computing.css', cur_path)\n",
    "\n",
    "#function to display notebook\n",
    "def css():\n",
    "    style = open(new_path, \"r\").read()\n",
    "    return HTML(style)"
   ]
  },
  {
   "cell_type": "code",
   "execution_count": 556,
   "metadata": {},
   "outputs": [
    {
     "data": {
      "text/html": [
       "<style>\n",
       "@import url(http://fonts.googleapis.com/css?family=helvetica);\n",
       "body{\n",
       "font-family: 'helvetica', sans-serif !important;\n",
       "font-size: 16pt !important;\n",
       "line-height: 30px !important;\n",
       "font-weight: 400 !important;\n",
       "color: #d16103 !important;\n",
       "}\n",
       "#notebook-container {\n",
       "-webkit-box-shadow: none;\n",
       "box-shadow: none;\n",
       "}\n",
       ".rendered_html h1 { font-size:  30pt !important;  }\n",
       ".rendered_html h2 { font-size:  22pt !important; }\n",
       ".rendered_html h3 { font-size:  18pt  !important; }\n",
       ".rendered_html h4 { font-size:  14pt !important; }\n",
       ".rendered_html h5 { font-size:  12pt  !important; }\n",
       ".rendered_html h6 { font-size:  12pt  !important; }\n",
       ".rendered_html h1,\n",
       ".rendered_html h2,\n",
       ".rendered_html h3,\n",
       ".rendered_html h4,\n",
       ".rendered_html h5,\n",
       ".rendered_html h6 {\n",
       "font-family: 'helvetica', sans-serif !important;\n",
       "font-weight: 300 !important;\n",
       "line-height: 1.5em !important;\n",
       "color: rgb(221, 153, 51) !important;\n",
       "}\n",
       "h1 { font-size: 30pt; }\n",
       "h2 { font-size: 22pt; }\n",
       "h3 { font-size: 20pt; }\n",
       "h4 { font-size: 14pt; }\n",
       "h5 { font-size: 14pt; }\n",
       "h6 { font-size: 12pt; }\n",
       "h1, h2, h3, h4, h5, h6 {\n",
       "font-family: 'helvetica', sans-serif !important;\n",
       "color: #d16103 !important;\n",
       "line-height: 150px !important;\n",
       "text-decoration: none;\n",
       "}\n",
       "p{\n",
       "font-family: 'helvetica', sans-serif !important;\n",
       "font-size: 14pt !important;\n",
       "line-height: 30px !important;\n",
       "font-weight: 400 !important;\n",
       "color: #8d8d8d !important;\n",
       "}\n",
       "li{\n",
       "font-family: 'helvetica', sans-serif !important;\n",
       "font-size: 14pt !important;\n",
       "line-height: 30px !important;\n",
       "font-weight: 400 !important;\n",
       "color: #8d8d8d !important;\n",
       "padding-left: 0;\n",
       "list-style-position: inside;\n",
       "text-decoration: none;\n",
       "}\n",
       "ul{\n",
       "font-family: 'helvetica', sans-serif !important;\n",
       "font-size: 14pt !important;\n",
       "line-height: 30px !important;\n",
       "font-weight: 400 !important;\n",
       "text-decoration: none;\n",
       "}\n",
       "a{\n",
       "font-family: 'helvetica', sans-serif !important;\n",
       "font-size: 14pt !important;\n",
       "line-height: 30px !important;\n",
       "font-weight: 400 !important;\n",
       "color: #8d8d8d !important;\n",
       "text-decoration: none;\n",
       "}\n",
       "code{\n",
       "font-family: 'helvetica' !important;\n",
       "font-size: 1em !important;\n",
       "}\n",
       "pre{\n",
       "font-family: 'courier' !important;\n",
       "font-size: 1em !important;\t\n",
       "}\n",
       "div.input_area {\n",
       "border: none !important;\n",
       "background: whitesmoke !important;\n",
       "display: flex;\n",
       "justify-content: left;\n",
       "text-decoration: none;\n",
       "}\n",
       "<style>"
      ],
      "text/plain": [
       "<IPython.core.display.HTML object>"
      ]
     },
     "execution_count": 556,
     "metadata": {},
     "output_type": "execute_result"
    }
   ],
   "source": [
    "#run this cell to apply HTML style\n",
    "css()"
   ]
  },
  {
   "cell_type": "code",
   "execution_count": null,
   "metadata": {},
   "outputs": [],
   "source": []
  }
 ],
 "metadata": {
  "kernelspec": {
   "display_name": "Python 3",
   "language": "python",
   "name": "python3"
  },
  "language_info": {
   "codemirror_mode": {
    "name": "ipython",
    "version": 3
   },
   "file_extension": ".py",
   "mimetype": "text/x-python",
   "name": "python",
   "nbconvert_exporter": "python",
   "pygments_lexer": "ipython3",
   "version": "3.6.5"
  }
 },
 "nbformat": 4,
 "nbformat_minor": 2
}
